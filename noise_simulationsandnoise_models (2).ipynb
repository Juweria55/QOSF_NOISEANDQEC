{
  "cells": [
    {
      "cell_type": "markdown",
      "metadata": {
        "id": "oXpyjkCtBLQ8"
      },
      "source": [
        "# **Simulating Quantum Noise with Qiskit**"
      ]
    },
    {
      "cell_type": "code",
      "execution_count": 1,
      "metadata": {
        "colab": {
          "base_uri": "https://localhost:8080/"
        },
        "collapsed": true,
        "id": "aXD2xJqQ-Ned",
        "outputId": "3255eec7-0a8a-4f6c-ee31-b98fa7e8505b"
      },
      "outputs": [
        {
          "output_type": "stream",
          "name": "stdout",
          "text": [
            "Collecting qiskit\n",
            "  Downloading qiskit-1.4.0-cp39-abi3-manylinux_2_17_x86_64.manylinux2014_x86_64.whl.metadata (12 kB)\n",
            "Collecting rustworkx>=0.15.0 (from qiskit)\n",
            "  Downloading rustworkx-0.16.0-cp39-abi3-manylinux_2_17_x86_64.manylinux2014_x86_64.whl.metadata (10 kB)\n",
            "Requirement already satisfied: numpy<3,>=1.17 in /usr/local/lib/python3.11/dist-packages (from qiskit) (1.26.4)\n",
            "Requirement already satisfied: scipy>=1.5 in /usr/local/lib/python3.11/dist-packages (from qiskit) (1.13.1)\n",
            "Requirement already satisfied: sympy>=1.3 in /usr/local/lib/python3.11/dist-packages (from qiskit) (1.13.1)\n",
            "Collecting dill>=0.3 (from qiskit)\n",
            "  Downloading dill-0.3.9-py3-none-any.whl.metadata (10 kB)\n",
            "Requirement already satisfied: python-dateutil>=2.8.0 in /usr/local/lib/python3.11/dist-packages (from qiskit) (2.8.2)\n",
            "Collecting stevedore>=3.0.0 (from qiskit)\n",
            "  Downloading stevedore-5.4.1-py3-none-any.whl.metadata (2.3 kB)\n",
            "Requirement already satisfied: typing-extensions in /usr/local/lib/python3.11/dist-packages (from qiskit) (4.12.2)\n",
            "Collecting symengine<0.14,>=0.11 (from qiskit)\n",
            "  Downloading symengine-0.13.0-cp311-cp311-manylinux_2_17_x86_64.manylinux2014_x86_64.whl.metadata (1.2 kB)\n",
            "Requirement already satisfied: six>=1.5 in /usr/local/lib/python3.11/dist-packages (from python-dateutil>=2.8.0->qiskit) (1.17.0)\n",
            "Collecting pbr>=2.0.0 (from stevedore>=3.0.0->qiskit)\n",
            "  Downloading pbr-6.1.1-py2.py3-none-any.whl.metadata (3.4 kB)\n",
            "Requirement already satisfied: mpmath<1.4,>=1.1.0 in /usr/local/lib/python3.11/dist-packages (from sympy>=1.3->qiskit) (1.3.0)\n",
            "Requirement already satisfied: setuptools in /usr/local/lib/python3.11/dist-packages (from pbr>=2.0.0->stevedore>=3.0.0->qiskit) (75.1.0)\n",
            "Downloading qiskit-1.4.0-cp39-abi3-manylinux_2_17_x86_64.manylinux2014_x86_64.whl (6.7 MB)\n",
            "\u001b[2K   \u001b[90m━━━━━━━━━━━━━━━━━━━━━━━━━━━━━━━━━━━━━━━━\u001b[0m \u001b[32m6.7/6.7 MB\u001b[0m \u001b[31m26.7 MB/s\u001b[0m eta \u001b[36m0:00:00\u001b[0m\n",
            "\u001b[?25hDownloading dill-0.3.9-py3-none-any.whl (119 kB)\n",
            "\u001b[2K   \u001b[90m━━━━━━━━━━━━━━━━━━━━━━━━━━━━━━━━━━━━━━━━\u001b[0m \u001b[32m119.4/119.4 kB\u001b[0m \u001b[31m7.4 MB/s\u001b[0m eta \u001b[36m0:00:00\u001b[0m\n",
            "\u001b[?25hDownloading rustworkx-0.16.0-cp39-abi3-manylinux_2_17_x86_64.manylinux2014_x86_64.whl (2.1 MB)\n",
            "\u001b[2K   \u001b[90m━━━━━━━━━━━━━━━━━━━━━━━━━━━━━━━━━━━━━━━━\u001b[0m \u001b[32m2.1/2.1 MB\u001b[0m \u001b[31m42.3 MB/s\u001b[0m eta \u001b[36m0:00:00\u001b[0m\n",
            "\u001b[?25hDownloading stevedore-5.4.1-py3-none-any.whl (49 kB)\n",
            "\u001b[2K   \u001b[90m━━━━━━━━━━━━━━━━━━━━━━━━━━━━━━━━━━━━━━━━\u001b[0m \u001b[32m49.5/49.5 kB\u001b[0m \u001b[31m2.3 MB/s\u001b[0m eta \u001b[36m0:00:00\u001b[0m\n",
            "\u001b[?25hDownloading symengine-0.13.0-cp311-cp311-manylinux_2_17_x86_64.manylinux2014_x86_64.whl (49.7 MB)\n",
            "\u001b[2K   \u001b[90m━━━━━━━━━━━━━━━━━━━━━━━━━━━━━━━━━━━━━━━━\u001b[0m \u001b[32m49.7/49.7 MB\u001b[0m \u001b[31m11.5 MB/s\u001b[0m eta \u001b[36m0:00:00\u001b[0m\n",
            "\u001b[?25hDownloading pbr-6.1.1-py2.py3-none-any.whl (108 kB)\n",
            "\u001b[2K   \u001b[90m━━━━━━━━━━━━━━━━━━━━━━━━━━━━━━━━━━━━━━━━\u001b[0m \u001b[32m109.0/109.0 kB\u001b[0m \u001b[31m5.5 MB/s\u001b[0m eta \u001b[36m0:00:00\u001b[0m\n",
            "\u001b[?25hInstalling collected packages: symengine, rustworkx, pbr, dill, stevedore, qiskit\n",
            "Successfully installed dill-0.3.9 pbr-6.1.1 qiskit-1.4.0 rustworkx-0.16.0 stevedore-5.4.1 symengine-0.13.0\n",
            "Collecting pylatexenc\n",
            "  Downloading pylatexenc-2.10.tar.gz (162 kB)\n",
            "\u001b[2K     \u001b[90m━━━━━━━━━━━━━━━━━━━━━━━━━━━━━━━━━━━━━━━━\u001b[0m \u001b[32m162.6/162.6 kB\u001b[0m \u001b[31m2.5 MB/s\u001b[0m eta \u001b[36m0:00:00\u001b[0m\n",
            "\u001b[?25h  Preparing metadata (setup.py) ... \u001b[?25l\u001b[?25hdone\n",
            "Building wheels for collected packages: pylatexenc\n",
            "  Building wheel for pylatexenc (setup.py) ... \u001b[?25l\u001b[?25hdone\n",
            "  Created wheel for pylatexenc: filename=pylatexenc-2.10-py3-none-any.whl size=136816 sha256=0813936c5bd94ce7046a5bce5b595b6c0df7764c5fe769bc727b149cfcc3496b\n",
            "  Stored in directory: /root/.cache/pip/wheels/b1/7a/33/9fdd892f784ed4afda62b685ae3703adf4c91aa0f524c28f03\n",
            "Successfully built pylatexenc\n",
            "Installing collected packages: pylatexenc\n",
            "Successfully installed pylatexenc-2.10\n",
            "Collecting qiskit-aer\n",
            "  Downloading qiskit_aer-0.16.4-cp311-cp311-manylinux_2_17_x86_64.manylinux2014_x86_64.whl.metadata (8.2 kB)\n",
            "Requirement already satisfied: qiskit>=1.1.0 in /usr/local/lib/python3.11/dist-packages (from qiskit-aer) (1.4.0)\n",
            "Requirement already satisfied: numpy>=1.16.3 in /usr/local/lib/python3.11/dist-packages (from qiskit-aer) (1.26.4)\n",
            "Requirement already satisfied: scipy>=1.0 in /usr/local/lib/python3.11/dist-packages (from qiskit-aer) (1.13.1)\n",
            "Requirement already satisfied: psutil>=5 in /usr/local/lib/python3.11/dist-packages (from qiskit-aer) (5.9.5)\n",
            "Requirement already satisfied: rustworkx>=0.15.0 in /usr/local/lib/python3.11/dist-packages (from qiskit>=1.1.0->qiskit-aer) (0.16.0)\n",
            "Requirement already satisfied: sympy>=1.3 in /usr/local/lib/python3.11/dist-packages (from qiskit>=1.1.0->qiskit-aer) (1.13.1)\n",
            "Requirement already satisfied: dill>=0.3 in /usr/local/lib/python3.11/dist-packages (from qiskit>=1.1.0->qiskit-aer) (0.3.9)\n",
            "Requirement already satisfied: python-dateutil>=2.8.0 in /usr/local/lib/python3.11/dist-packages (from qiskit>=1.1.0->qiskit-aer) (2.8.2)\n",
            "Requirement already satisfied: stevedore>=3.0.0 in /usr/local/lib/python3.11/dist-packages (from qiskit>=1.1.0->qiskit-aer) (5.4.1)\n",
            "Requirement already satisfied: typing-extensions in /usr/local/lib/python3.11/dist-packages (from qiskit>=1.1.0->qiskit-aer) (4.12.2)\n",
            "Requirement already satisfied: symengine<0.14,>=0.11 in /usr/local/lib/python3.11/dist-packages (from qiskit>=1.1.0->qiskit-aer) (0.13.0)\n",
            "Requirement already satisfied: six>=1.5 in /usr/local/lib/python3.11/dist-packages (from python-dateutil>=2.8.0->qiskit>=1.1.0->qiskit-aer) (1.17.0)\n",
            "Requirement already satisfied: pbr>=2.0.0 in /usr/local/lib/python3.11/dist-packages (from stevedore>=3.0.0->qiskit>=1.1.0->qiskit-aer) (6.1.1)\n",
            "Requirement already satisfied: mpmath<1.4,>=1.1.0 in /usr/local/lib/python3.11/dist-packages (from sympy>=1.3->qiskit>=1.1.0->qiskit-aer) (1.3.0)\n",
            "Requirement already satisfied: setuptools in /usr/local/lib/python3.11/dist-packages (from pbr>=2.0.0->stevedore>=3.0.0->qiskit>=1.1.0->qiskit-aer) (75.1.0)\n",
            "Downloading qiskit_aer-0.16.4-cp311-cp311-manylinux_2_17_x86_64.manylinux2014_x86_64.whl (12.4 MB)\n",
            "\u001b[2K   \u001b[90m━━━━━━━━━━━━━━━━━━━━━━━━━━━━━━━━━━━━━━━━\u001b[0m \u001b[32m12.4/12.4 MB\u001b[0m \u001b[31m97.3 MB/s\u001b[0m eta \u001b[36m0:00:00\u001b[0m\n",
            "\u001b[?25hInstalling collected packages: qiskit-aer\n",
            "Successfully installed qiskit-aer-0.16.4\n",
            "Collecting qiskit-experiments\n",
            "  Downloading qiskit_experiments-0.8.2-py3-none-any.whl.metadata (3.9 kB)\n",
            "Requirement already satisfied: numpy>=1.17 in /usr/local/lib/python3.11/dist-packages (from qiskit-experiments) (1.26.4)\n",
            "Requirement already satisfied: scipy>=1.4 in /usr/local/lib/python3.11/dist-packages (from qiskit-experiments) (1.13.1)\n",
            "Requirement already satisfied: qiskit>=0.45 in /usr/local/lib/python3.11/dist-packages (from qiskit-experiments) (1.4.0)\n",
            "Collecting qiskit-ibm-experiment>=0.4.6 (from qiskit-experiments)\n",
            "  Downloading qiskit_ibm_experiment-0.4.8-py3-none-any.whl.metadata (6.1 kB)\n",
            "Collecting qiskit-ibm-runtime>=0.29.0 (from qiskit-experiments)\n",
            "  Downloading qiskit_ibm_runtime-0.36.1-py3-none-any.whl.metadata (20 kB)\n",
            "Requirement already satisfied: matplotlib>=3.4 in /usr/local/lib/python3.11/dist-packages (from qiskit-experiments) (3.10.0)\n",
            "Collecting uncertainties (from qiskit-experiments)\n",
            "  Downloading uncertainties-3.2.2-py3-none-any.whl.metadata (6.9 kB)\n",
            "Collecting lmfit (from qiskit-experiments)\n",
            "  Downloading lmfit-1.3.2-py3-none-any.whl.metadata (13 kB)\n",
            "Requirement already satisfied: rustworkx in /usr/local/lib/python3.11/dist-packages (from qiskit-experiments) (0.16.0)\n",
            "Requirement already satisfied: pandas>=1.1.5 in /usr/local/lib/python3.11/dist-packages (from qiskit-experiments) (2.2.2)\n",
            "Requirement already satisfied: packaging in /usr/local/lib/python3.11/dist-packages (from qiskit-experiments) (24.2)\n",
            "Requirement already satisfied: contourpy>=1.0.1 in /usr/local/lib/python3.11/dist-packages (from matplotlib>=3.4->qiskit-experiments) (1.3.1)\n",
            "Requirement already satisfied: cycler>=0.10 in /usr/local/lib/python3.11/dist-packages (from matplotlib>=3.4->qiskit-experiments) (0.12.1)\n",
            "Requirement already satisfied: fonttools>=4.22.0 in /usr/local/lib/python3.11/dist-packages (from matplotlib>=3.4->qiskit-experiments) (4.56.0)\n",
            "Requirement already satisfied: kiwisolver>=1.3.1 in /usr/local/lib/python3.11/dist-packages (from matplotlib>=3.4->qiskit-experiments) (1.4.8)\n",
            "Requirement already satisfied: pillow>=8 in /usr/local/lib/python3.11/dist-packages (from matplotlib>=3.4->qiskit-experiments) (11.1.0)\n",
            "Requirement already satisfied: pyparsing>=2.3.1 in /usr/local/lib/python3.11/dist-packages (from matplotlib>=3.4->qiskit-experiments) (3.2.1)\n",
            "Requirement already satisfied: python-dateutil>=2.7 in /usr/local/lib/python3.11/dist-packages (from matplotlib>=3.4->qiskit-experiments) (2.8.2)\n",
            "Requirement already satisfied: pytz>=2020.1 in /usr/local/lib/python3.11/dist-packages (from pandas>=1.1.5->qiskit-experiments) (2025.1)\n",
            "Requirement already satisfied: tzdata>=2022.7 in /usr/local/lib/python3.11/dist-packages (from pandas>=1.1.5->qiskit-experiments) (2025.1)\n",
            "Requirement already satisfied: sympy>=1.3 in /usr/local/lib/python3.11/dist-packages (from qiskit>=0.45->qiskit-experiments) (1.13.1)\n",
            "Requirement already satisfied: dill>=0.3 in /usr/local/lib/python3.11/dist-packages (from qiskit>=0.45->qiskit-experiments) (0.3.9)\n",
            "Requirement already satisfied: stevedore>=3.0.0 in /usr/local/lib/python3.11/dist-packages (from qiskit>=0.45->qiskit-experiments) (5.4.1)\n",
            "Requirement already satisfied: typing-extensions in /usr/local/lib/python3.11/dist-packages (from qiskit>=0.45->qiskit-experiments) (4.12.2)\n",
            "Requirement already satisfied: symengine<0.14,>=0.11 in /usr/local/lib/python3.11/dist-packages (from qiskit>=0.45->qiskit-experiments) (0.13.0)\n",
            "Requirement already satisfied: requests>=2.19 in /usr/local/lib/python3.11/dist-packages (from qiskit-ibm-experiment>=0.4.6->qiskit-experiments) (2.32.3)\n",
            "Collecting requests-ntlm>=1.1.0 (from qiskit-ibm-experiment>=0.4.6->qiskit-experiments)\n",
            "  Downloading requests_ntlm-1.3.0-py3-none-any.whl.metadata (2.4 kB)\n",
            "Requirement already satisfied: urllib3>=1.21.1 in /usr/local/lib/python3.11/dist-packages (from qiskit-ibm-experiment>=0.4.6->qiskit-experiments) (2.3.0)\n",
            "Requirement already satisfied: websocket-client>=1.0.1 in /usr/local/lib/python3.11/dist-packages (from qiskit-ibm-experiment>=0.4.6->qiskit-experiments) (1.8.0)\n",
            "Requirement already satisfied: pyyaml>=6.0.0 in /usr/local/lib/python3.11/dist-packages (from qiskit-ibm-experiment>=0.4.6->qiskit-experiments) (6.0.2)\n",
            "Collecting ibm-platform-services>=0.22.6 (from qiskit-ibm-runtime>=0.29.0->qiskit-experiments)\n",
            "  Downloading ibm_platform_services-0.59.1-py3-none-any.whl.metadata (9.0 kB)\n",
            "Collecting pydantic<2.10,>=2.5.0 (from qiskit-ibm-runtime>=0.29.0->qiskit-experiments)\n",
            "  Downloading pydantic-2.9.2-py3-none-any.whl.metadata (149 kB)\n",
            "\u001b[2K     \u001b[90m━━━━━━━━━━━━━━━━━━━━━━━━━━━━━━━━━━━━━━━━\u001b[0m \u001b[32m149.4/149.4 kB\u001b[0m \u001b[31m1.6 MB/s\u001b[0m eta \u001b[36m0:00:00\u001b[0m\n",
            "\u001b[?25hCollecting asteval>=1.0 (from lmfit->qiskit-experiments)\n",
            "  Downloading asteval-1.0.6-py3-none-any.whl.metadata (6.2 kB)\n",
            "Collecting ibm_cloud_sdk_core<4.0.0,>=3.22.0 (from ibm-platform-services>=0.22.6->qiskit-ibm-runtime>=0.29.0->qiskit-experiments)\n",
            "  Downloading ibm_cloud_sdk_core-3.22.1-py3-none-any.whl.metadata (8.6 kB)\n",
            "Requirement already satisfied: annotated-types>=0.6.0 in /usr/local/lib/python3.11/dist-packages (from pydantic<2.10,>=2.5.0->qiskit-ibm-runtime>=0.29.0->qiskit-experiments) (0.7.0)\n",
            "Collecting pydantic-core==2.23.4 (from pydantic<2.10,>=2.5.0->qiskit-ibm-runtime>=0.29.0->qiskit-experiments)\n",
            "  Downloading pydantic_core-2.23.4-cp311-cp311-manylinux_2_17_x86_64.manylinux2014_x86_64.whl.metadata (6.6 kB)\n",
            "Requirement already satisfied: six>=1.5 in /usr/local/lib/python3.11/dist-packages (from python-dateutil>=2.7->matplotlib>=3.4->qiskit-experiments) (1.17.0)\n",
            "Requirement already satisfied: charset-normalizer<4,>=2 in /usr/local/lib/python3.11/dist-packages (from requests>=2.19->qiskit-ibm-experiment>=0.4.6->qiskit-experiments) (3.4.1)\n",
            "Requirement already satisfied: idna<4,>=2.5 in /usr/local/lib/python3.11/dist-packages (from requests>=2.19->qiskit-ibm-experiment>=0.4.6->qiskit-experiments) (3.10)\n",
            "Requirement already satisfied: certifi>=2017.4.17 in /usr/local/lib/python3.11/dist-packages (from requests>=2.19->qiskit-ibm-experiment>=0.4.6->qiskit-experiments) (2025.1.31)\n",
            "Requirement already satisfied: cryptography>=1.3 in /usr/local/lib/python3.11/dist-packages (from requests-ntlm>=1.1.0->qiskit-ibm-experiment>=0.4.6->qiskit-experiments) (43.0.3)\n",
            "Collecting pyspnego>=0.4.0 (from requests-ntlm>=1.1.0->qiskit-ibm-experiment>=0.4.6->qiskit-experiments)\n",
            "  Downloading pyspnego-0.11.2-py3-none-any.whl.metadata (5.4 kB)\n",
            "Requirement already satisfied: pbr>=2.0.0 in /usr/local/lib/python3.11/dist-packages (from stevedore>=3.0.0->qiskit>=0.45->qiskit-experiments) (6.1.1)\n",
            "Requirement already satisfied: mpmath<1.4,>=1.1.0 in /usr/local/lib/python3.11/dist-packages (from sympy>=1.3->qiskit>=0.45->qiskit-experiments) (1.3.0)\n",
            "Requirement already satisfied: cffi>=1.12 in /usr/local/lib/python3.11/dist-packages (from cryptography>=1.3->requests-ntlm>=1.1.0->qiskit-ibm-experiment>=0.4.6->qiskit-experiments) (1.17.1)\n",
            "Requirement already satisfied: PyJWT<3.0.0,>=2.8.0 in /usr/local/lib/python3.11/dist-packages (from ibm_cloud_sdk_core<4.0.0,>=3.22.0->ibm-platform-services>=0.22.6->qiskit-ibm-runtime>=0.29.0->qiskit-experiments) (2.10.1)\n",
            "Requirement already satisfied: setuptools in /usr/local/lib/python3.11/dist-packages (from pbr>=2.0.0->stevedore>=3.0.0->qiskit>=0.45->qiskit-experiments) (75.1.0)\n",
            "Requirement already satisfied: pycparser in /usr/local/lib/python3.11/dist-packages (from cffi>=1.12->cryptography>=1.3->requests-ntlm>=1.1.0->qiskit-ibm-experiment>=0.4.6->qiskit-experiments) (2.22)\n",
            "Downloading qiskit_experiments-0.8.2-py3-none-any.whl (753 kB)\n",
            "\u001b[2K   \u001b[90m━━━━━━━━━━━━━━━━━━━━━━━━━━━━━━━━━━━━━━━━\u001b[0m \u001b[32m754.0/754.0 kB\u001b[0m \u001b[31m17.6 MB/s\u001b[0m eta \u001b[36m0:00:00\u001b[0m\n",
            "\u001b[?25hDownloading qiskit_ibm_experiment-0.4.8-py3-none-any.whl (57 kB)\n",
            "\u001b[2K   \u001b[90m━━━━━━━━━━━━━━━━━━━━━━━━━━━━━━━━━━━━━━━━\u001b[0m \u001b[32m57.3/57.3 kB\u001b[0m \u001b[31m6.2 MB/s\u001b[0m eta \u001b[36m0:00:00\u001b[0m\n",
            "\u001b[?25hDownloading qiskit_ibm_runtime-0.36.1-py3-none-any.whl (3.1 MB)\n",
            "\u001b[2K   \u001b[90m━━━━━━━━━━━━━━━━━━━━━━━━━━━━━━━━━━━━━━━━\u001b[0m \u001b[32m3.1/3.1 MB\u001b[0m \u001b[31m57.1 MB/s\u001b[0m eta \u001b[36m0:00:00\u001b[0m\n",
            "\u001b[?25hDownloading lmfit-1.3.2-py3-none-any.whl (98 kB)\n",
            "\u001b[2K   \u001b[90m━━━━━━━━━━━━━━━━━━━━━━━━━━━━━━━━━━━━━━━━\u001b[0m \u001b[32m98.9/98.9 kB\u001b[0m \u001b[31m9.4 MB/s\u001b[0m eta \u001b[36m0:00:00\u001b[0m\n",
            "\u001b[?25hDownloading uncertainties-3.2.2-py3-none-any.whl (58 kB)\n",
            "\u001b[2K   \u001b[90m━━━━━━━━━━━━━━━━━━━━━━━━━━━━━━━━━━━━━━━━\u001b[0m \u001b[32m58.3/58.3 kB\u001b[0m \u001b[31m5.8 MB/s\u001b[0m eta \u001b[36m0:00:00\u001b[0m\n",
            "\u001b[?25hDownloading asteval-1.0.6-py3-none-any.whl (22 kB)\n",
            "Downloading ibm_platform_services-0.59.1-py3-none-any.whl (340 kB)\n",
            "\u001b[2K   \u001b[90m━━━━━━━━━━━━━━━━━━━━━━━━━━━━━━━━━━━━━━━━\u001b[0m \u001b[32m340.8/340.8 kB\u001b[0m \u001b[31m25.5 MB/s\u001b[0m eta \u001b[36m0:00:00\u001b[0m\n",
            "\u001b[?25hDownloading pydantic-2.9.2-py3-none-any.whl (434 kB)\n",
            "\u001b[2K   \u001b[90m━━━━━━━━━━━━━━━━━━━━━━━━━━━━━━━━━━━━━━━━\u001b[0m \u001b[32m434.9/434.9 kB\u001b[0m \u001b[31m32.5 MB/s\u001b[0m eta \u001b[36m0:00:00\u001b[0m\n",
            "\u001b[?25hDownloading pydantic_core-2.23.4-cp311-cp311-manylinux_2_17_x86_64.manylinux2014_x86_64.whl (2.1 MB)\n",
            "\u001b[2K   \u001b[90m━━━━━━━━━━━━━━━━━━━━━━━━━━━━━━━━━━━━━━━━\u001b[0m \u001b[32m2.1/2.1 MB\u001b[0m \u001b[31m61.9 MB/s\u001b[0m eta \u001b[36m0:00:00\u001b[0m\n",
            "\u001b[?25hDownloading requests_ntlm-1.3.0-py3-none-any.whl (6.6 kB)\n",
            "Downloading ibm_cloud_sdk_core-3.22.1-py3-none-any.whl (69 kB)\n",
            "\u001b[2K   \u001b[90m━━━━━━━━━━━━━━━━━━━━━━━━━━━━━━━━━━━━━━━━\u001b[0m \u001b[32m69.4/69.4 kB\u001b[0m \u001b[31m7.0 MB/s\u001b[0m eta \u001b[36m0:00:00\u001b[0m\n",
            "\u001b[?25hDownloading pyspnego-0.11.2-py3-none-any.whl (130 kB)\n",
            "\u001b[2K   \u001b[90m━━━━━━━━━━━━━━━━━━━━━━━━━━━━━━━━━━━━━━━━\u001b[0m \u001b[32m130.5/130.5 kB\u001b[0m \u001b[31m11.7 MB/s\u001b[0m eta \u001b[36m0:00:00\u001b[0m\n",
            "\u001b[?25hInstalling collected packages: uncertainties, pydantic-core, asteval, pydantic, lmfit, ibm_cloud_sdk_core, pyspnego, ibm-platform-services, requests-ntlm, qiskit-ibm-runtime, qiskit-ibm-experiment, qiskit-experiments\n",
            "  Attempting uninstall: pydantic-core\n",
            "    Found existing installation: pydantic_core 2.27.2\n",
            "    Uninstalling pydantic_core-2.27.2:\n",
            "      Successfully uninstalled pydantic_core-2.27.2\n",
            "  Attempting uninstall: pydantic\n",
            "    Found existing installation: pydantic 2.10.6\n",
            "    Uninstalling pydantic-2.10.6:\n",
            "      Successfully uninstalled pydantic-2.10.6\n",
            "Successfully installed asteval-1.0.6 ibm-platform-services-0.59.1 ibm_cloud_sdk_core-3.22.1 lmfit-1.3.2 pydantic-2.9.2 pydantic-core-2.23.4 pyspnego-0.11.2 qiskit-experiments-0.8.2 qiskit-ibm-experiment-0.4.8 qiskit-ibm-runtime-0.36.1 requests-ntlm-1.3.0 uncertainties-3.2.2\n",
            "Requirement already satisfied: qiskit-ibm-runtime in /usr/local/lib/python3.11/dist-packages (0.36.1)\n",
            "Requirement already satisfied: requests>=2.19 in /usr/local/lib/python3.11/dist-packages (from qiskit-ibm-runtime) (2.32.3)\n",
            "Requirement already satisfied: requests-ntlm>=1.1.0 in /usr/local/lib/python3.11/dist-packages (from qiskit-ibm-runtime) (1.3.0)\n",
            "Requirement already satisfied: numpy>=1.13 in /usr/local/lib/python3.11/dist-packages (from qiskit-ibm-runtime) (1.26.4)\n",
            "Requirement already satisfied: urllib3>=1.21.1 in /usr/local/lib/python3.11/dist-packages (from qiskit-ibm-runtime) (2.3.0)\n",
            "Requirement already satisfied: python-dateutil>=2.8.0 in /usr/local/lib/python3.11/dist-packages (from qiskit-ibm-runtime) (2.8.2)\n",
            "Requirement already satisfied: websocket-client>=1.5.1 in /usr/local/lib/python3.11/dist-packages (from qiskit-ibm-runtime) (1.8.0)\n",
            "Requirement already satisfied: ibm-platform-services>=0.22.6 in /usr/local/lib/python3.11/dist-packages (from qiskit-ibm-runtime) (0.59.1)\n",
            "Requirement already satisfied: pydantic<2.10,>=2.5.0 in /usr/local/lib/python3.11/dist-packages (from qiskit-ibm-runtime) (2.9.2)\n",
            "Requirement already satisfied: qiskit>=1.3.2 in /usr/local/lib/python3.11/dist-packages (from qiskit-ibm-runtime) (1.4.0)\n",
            "Requirement already satisfied: ibm_cloud_sdk_core<4.0.0,>=3.22.0 in /usr/local/lib/python3.11/dist-packages (from ibm-platform-services>=0.22.6->qiskit-ibm-runtime) (3.22.1)\n",
            "Requirement already satisfied: annotated-types>=0.6.0 in /usr/local/lib/python3.11/dist-packages (from pydantic<2.10,>=2.5.0->qiskit-ibm-runtime) (0.7.0)\n",
            "Requirement already satisfied: pydantic-core==2.23.4 in /usr/local/lib/python3.11/dist-packages (from pydantic<2.10,>=2.5.0->qiskit-ibm-runtime) (2.23.4)\n",
            "Requirement already satisfied: typing-extensions>=4.6.1 in /usr/local/lib/python3.11/dist-packages (from pydantic<2.10,>=2.5.0->qiskit-ibm-runtime) (4.12.2)\n",
            "Requirement already satisfied: six>=1.5 in /usr/local/lib/python3.11/dist-packages (from python-dateutil>=2.8.0->qiskit-ibm-runtime) (1.17.0)\n",
            "Requirement already satisfied: rustworkx>=0.15.0 in /usr/local/lib/python3.11/dist-packages (from qiskit>=1.3.2->qiskit-ibm-runtime) (0.16.0)\n",
            "Requirement already satisfied: scipy>=1.5 in /usr/local/lib/python3.11/dist-packages (from qiskit>=1.3.2->qiskit-ibm-runtime) (1.13.1)\n",
            "Requirement already satisfied: sympy>=1.3 in /usr/local/lib/python3.11/dist-packages (from qiskit>=1.3.2->qiskit-ibm-runtime) (1.13.1)\n",
            "Requirement already satisfied: dill>=0.3 in /usr/local/lib/python3.11/dist-packages (from qiskit>=1.3.2->qiskit-ibm-runtime) (0.3.9)\n",
            "Requirement already satisfied: stevedore>=3.0.0 in /usr/local/lib/python3.11/dist-packages (from qiskit>=1.3.2->qiskit-ibm-runtime) (5.4.1)\n",
            "Requirement already satisfied: symengine<0.14,>=0.11 in /usr/local/lib/python3.11/dist-packages (from qiskit>=1.3.2->qiskit-ibm-runtime) (0.13.0)\n",
            "Requirement already satisfied: charset-normalizer<4,>=2 in /usr/local/lib/python3.11/dist-packages (from requests>=2.19->qiskit-ibm-runtime) (3.4.1)\n",
            "Requirement already satisfied: idna<4,>=2.5 in /usr/local/lib/python3.11/dist-packages (from requests>=2.19->qiskit-ibm-runtime) (3.10)\n",
            "Requirement already satisfied: certifi>=2017.4.17 in /usr/local/lib/python3.11/dist-packages (from requests>=2.19->qiskit-ibm-runtime) (2025.1.31)\n",
            "Requirement already satisfied: cryptography>=1.3 in /usr/local/lib/python3.11/dist-packages (from requests-ntlm>=1.1.0->qiskit-ibm-runtime) (43.0.3)\n",
            "Requirement already satisfied: pyspnego>=0.4.0 in /usr/local/lib/python3.11/dist-packages (from requests-ntlm>=1.1.0->qiskit-ibm-runtime) (0.11.2)\n",
            "Requirement already satisfied: cffi>=1.12 in /usr/local/lib/python3.11/dist-packages (from cryptography>=1.3->requests-ntlm>=1.1.0->qiskit-ibm-runtime) (1.17.1)\n",
            "Requirement already satisfied: PyJWT<3.0.0,>=2.8.0 in /usr/local/lib/python3.11/dist-packages (from ibm_cloud_sdk_core<4.0.0,>=3.22.0->ibm-platform-services>=0.22.6->qiskit-ibm-runtime) (2.10.1)\n",
            "Requirement already satisfied: pbr>=2.0.0 in /usr/local/lib/python3.11/dist-packages (from stevedore>=3.0.0->qiskit>=1.3.2->qiskit-ibm-runtime) (6.1.1)\n",
            "Requirement already satisfied: mpmath<1.4,>=1.1.0 in /usr/local/lib/python3.11/dist-packages (from sympy>=1.3->qiskit>=1.3.2->qiskit-ibm-runtime) (1.3.0)\n",
            "Requirement already satisfied: pycparser in /usr/local/lib/python3.11/dist-packages (from cffi>=1.12->cryptography>=1.3->requests-ntlm>=1.1.0->qiskit-ibm-runtime) (2.22)\n",
            "Requirement already satisfied: setuptools in /usr/local/lib/python3.11/dist-packages (from pbr>=2.0.0->stevedore>=3.0.0->qiskit>=1.3.2->qiskit-ibm-runtime) (75.1.0)\n",
            "1.4.0\n"
          ]
        }
      ],
      "source": [
        "!pip install qiskit\n",
        "!pip install pylatexenc\n",
        "!pip install qiskit-aer #\n",
        "!pip install qiskit-experiments\n",
        "!pip install qiskit-ibm-runtime\n",
        "\n"
      ]
    },
    {
      "cell_type": "code",
      "source": [
        "import qiskit\n",
        "print(qiskit.__version__)"
      ],
      "metadata": {
        "id": "BmBxbZZ6wIde"
      },
      "execution_count": null,
      "outputs": []
    },
    {
      "cell_type": "code",
      "execution_count": null,
      "metadata": {
        "colab": {
          "base_uri": "https://localhost:8080/"
        },
        "id": "2zk-w6w8ytKs",
        "outputId": "f3022ca8-f780-413d-ebaf-4452ef7fe4a5",
        "collapsed": true
      },
      "outputs": [
        {
          "name": "stdout",
          "output_type": "stream",
          "text": [
            "Requirement already satisfied: qiskit in /usr/local/lib/python3.10/dist-packages (1.3.2)\n",
            "Requirement already satisfied: rustworkx>=0.15.0 in /usr/local/lib/python3.10/dist-packages (from qiskit) (0.15.1)\n",
            "Requirement already satisfied: numpy<3,>=1.17 in /usr/local/lib/python3.10/dist-packages (from qiskit) (1.26.4)\n",
            "Requirement already satisfied: scipy>=1.5 in /usr/local/lib/python3.10/dist-packages (from qiskit) (1.13.1)\n",
            "Requirement already satisfied: sympy>=1.3 in /usr/local/lib/python3.10/dist-packages (from qiskit) (1.13.1)\n",
            "Requirement already satisfied: dill>=0.3 in /usr/local/lib/python3.10/dist-packages (from qiskit) (0.3.9)\n",
            "Requirement already satisfied: python-dateutil>=2.8.0 in /usr/local/lib/python3.10/dist-packages (from qiskit) (2.8.2)\n",
            "Requirement already satisfied: stevedore>=3.0.0 in /usr/local/lib/python3.10/dist-packages (from qiskit) (5.4.0)\n",
            "Requirement already satisfied: typing-extensions in /usr/local/lib/python3.10/dist-packages (from qiskit) (4.12.2)\n",
            "Requirement already satisfied: symengine<0.14,>=0.11 in /usr/local/lib/python3.10/dist-packages (from qiskit) (0.13.0)\n",
            "Requirement already satisfied: six>=1.5 in /usr/local/lib/python3.10/dist-packages (from python-dateutil>=2.8.0->qiskit) (1.17.0)\n",
            "Requirement already satisfied: pbr>=2.0.0 in /usr/local/lib/python3.10/dist-packages (from stevedore>=3.0.0->qiskit) (6.1.0)\n",
            "Requirement already satisfied: mpmath<1.4,>=1.1.0 in /usr/local/lib/python3.10/dist-packages (from sympy>=1.3->qiskit) (1.3.0)\n"
          ]
        }
      ],
      "source": [
        "!pip install qiskit --upgrade\n"
      ]
    },
    {
      "cell_type": "markdown",
      "metadata": {
        "id": "EXZK9pzjqqss"
      },
      "source": [
        "What is a noise model?\n",
        "\n",
        "A noise model in quantum computing is a mathematical representation of the unwanted effects that can impact a quantum system.\n",
        "\n"
      ]
    },
    {
      "cell_type": "markdown",
      "metadata": {
        "id": "a5qI4yP6A52U"
      },
      "source": [
        "Task: Simulate\n",
        "\n",
        "1) depolarizing noise\n",
        "\n",
        "2) phase damping\n",
        "\n",
        "3) bit flipping\n",
        "\n",
        "In quantum computing, the noise model refers to a mathematical representation of how a quantum system deviates from its ideal behavior due to imperfections in the physical implementation.\n",
        "\n",
        "These imperfections arise from various factors like environmental interactions, hardware limitations, or imperfect gate operations.\n",
        "\n",
        "Noise models are crucial for simulating quantum circuits and understanding how quantum algorithms will perform on noisy quantum computers, which is a key aspect of quantum error correction.\n",
        "\n",
        "We'll use qiskit Aer noise module.\n",
        "\n",
        "Three key classes are\n",
        "\n",
        "NoiseModel(which stores a noise model used for noisy simulation.)\n",
        "\n",
        "QuantumError (These can be applied:\n",
        "\n",
        "After gate or reset instructions, Before measure instructions.)\n",
        "\n",
        "ReadoutError(describes classical readout errors)"
      ]
    },
    {
      "cell_type": "code",
      "execution_count": null,
      "metadata": {
        "id": "0gKnsKrhF0g6"
      },
      "outputs": [],
      "source": []
    },
    {
      "cell_type": "code",
      "execution_count": null,
      "metadata": {
        "id": "1LErq_Z5BB-_"
      },
      "outputs": [],
      "source": [
        "# roughly approximates the errors one would encounter when using that (brisbane) backend\n",
        "\n",
        "\"\"\"from qiskit_ibm_runtime import QiskitRuntimeService\n",
        "\n",
        "service = QiskitRuntimeService()\n",
        "backend = service.backend(\"ibm_brisbane\")\n",
        "noise_model = NoiseModel.from_backend(backend)\"\"\""
      ]
    },
    {
      "cell_type": "markdown",
      "metadata": {
        "id": "XPM5tOGHA6B9"
      },
      "source": [
        "When adding a quantum error to a noise model, we must specify the type of instruction that it acts on and what qubits to apply it to.\n",
        "\n",
        "There are two cases of quantum errors:\n",
        "\n",
        "All-qubit quantum error\n",
        "\n",
        "Specific qubit quantum error"
      ]
    },
    {
      "cell_type": "code",
      "execution_count": null,
      "metadata": {
        "id": "vK86nDIR-T6D"
      },
      "outputs": [],
      "source": []
    },
    {
      "cell_type": "code",
      "execution_count": 32,
      "metadata": {
        "id": "uJVpmwKT-Rmq"
      },
      "outputs": [],
      "source": [
        "import numpy as np\n",
        "from qiskit import QuantumCircuit\n",
        "from qiskit.quantum_info import Kraus, SuperOp\n",
        "from qiskit.visualization import plot_histogram\n",
        "from qiskit.transpiler.preset_passmanagers import generate_preset_pass_manager\n",
        "from qiskit_aer import AerSimulator\n",
        "\n",
        "# Import from Qiskit Aer noise module\n",
        "from qiskit_aer.noise import (\n",
        "    NoiseModel,\n",
        "    QuantumError,\n",
        "    ReadoutError,\n",
        "    depolarizing_error,\n",
        "    pauli_error,\n",
        "    thermal_relaxation_error,\n",
        ")"
      ]
    },
    {
      "cell_type": "markdown",
      "metadata": {
        "id": "LS5w6b-6F1IP"
      },
      "source": [
        "Depolarizing error is a type of noise that can affect a quantum system, typically causing it to transition from a pure quantum state to a mixed state, thereby introducing uncertainty in quantum computations.\n",
        "\n",
        "\n",
        "This error is commonly used in quantum simulations and models to mimic real-world imperfections in quantum devices, such as noise due to decoherence, gate imperfections, and interaction with the environment."
      ]
    },
    {
      "cell_type": "code",
      "execution_count": 3,
      "metadata": {
        "colab": {
          "base_uri": "https://localhost:8080/",
          "height": 384
        },
        "id": "znXwN2Yv-yUV",
        "outputId": "7e2d93e5-7a82-403c-f26a-21ec14813619"
      },
      "outputs": [
        {
          "output_type": "execute_result",
          "data": {
            "text/plain": [
              "<Figure size 914.831x451.5 with 1 Axes>"
            ],
            "image/png": "[encoded data removed]"
          },
          "metadata": {},
          "execution_count": 3
        }
      ],
      "source": [
        "#  step 1: let's build a 4 qubit ghz state\n",
        "n = 4\n",
        "circuit = QuantumCircuit(n)\n",
        "circuit.h(0)\n",
        "for i in range(n - 1):\n",
        "  circuit.cx(i, i+1)\n",
        "\n",
        "circuit.measure_all()\n",
        "# print(circuit.draw('mpl'))\n",
        "circuit.draw('mpl')"
      ]
    },
    {
      "cell_type": "code",
      "execution_count": 4,
      "metadata": {
        "colab": {
          "base_uri": "https://localhost:8080/",
          "height": 454
        },
        "id": "uWRNhLGA-yW5",
        "outputId": "d541539e-c82a-47e4-f950-aed88ddac605"
      },
      "outputs": [
        {
          "output_type": "execute_result",
          "data": {
            "text/plain": [
              "<Figure size 640x480 with 1 Axes>"
            ],
            "image/png": "[encoded data removed]"
          },
          "metadata": {},
          "execution_count": 4
        }
      ],
      "source": [
        "# Ideal simulator and execution\n",
        "sim_ideal = AerSimulator()\n",
        "result_ideal = sim_ideal.run(circuit).result()\n",
        "counts = result_ideal.get_counts(0)\n",
        "plot_histogram(result_ideal.get_counts(0))"
      ]
    },
    {
      "cell_type": "code",
      "execution_count": 5,
      "metadata": {
        "colab": {
          "base_uri": "https://localhost:8080/",
          "height": 105
        },
        "id": "EsHrXJgk-yZb",
        "outputId": "e58e2968-ea9b-4717-dc57-7bd71055fa9e"
      },
      "outputs": [
        {
          "output_type": "stream",
          "name": "stdout",
          "text": [
            "NoiseModel:\n",
            "  Basis gates: ['cx', 'h', 'id', 'rz', 's', 'sx', 'u1', 'u2', 'u3', 'x', 'y', 'z']\n",
            "  Instructions with noise: ['x', 'y', 'u3', 'u2', 'z', 's', 'h', 'u1']\n",
            "  All-qubits errors: ['u1', 'u2', 'u3', 'h', 'x', 'y', 'z', 's']\n"
          ]
        },
        {
          "output_type": "execute_result",
          "data": {
            "text/plain": [
              "'error = depolarizing_error(0.1, num_qubits=1)\\nnoise_model.add_quantum_error(error, [\"u1\", \"u2\", \"u3\"], [0])\\nprint(noise_model)'"
            ],
            "application/vnd.google.colaboratory.intrinsic+json": {
              "type": "string"
            }
          },
          "metadata": {},
          "execution_count": 5
        }
      ],
      "source": [
        "# create an empty NoiseModel\n",
        "noise_model = NoiseModel()\n",
        "\n",
        "# let's add depolarizing error to all single qubit gates\n",
        "\n",
        "error = depolarizing_error(0.1, num_qubits=1)   # 10% noise\n",
        "\n",
        "noise_model.add_all_qubit_quantum_error(error, [\"u1\", \"u2\", \"u3\", \"h\", \"x\", \"y\", \"z\", \"s\"])\n",
        "\n",
        "print(noise_model)   #it will print noise model information\n",
        "\n",
        "\n",
        "# p_error: 0.2 -> very noisy, 0.01 -> noise free system...\n",
        "\n",
        "# let's add depolarizing error to specific single qubit gates\n",
        "\"\"\"error = depolarizing_error(0.1, num_qubits=1)\n",
        "noise_model.add_quantum_error(error, [\"u1\", \"u2\", \"u3\"], [0])\n",
        "print(noise_model)\"\"\""
      ]
    },
    {
      "cell_type": "code",
      "execution_count": 6,
      "metadata": {
        "colab": {
          "base_uri": "https://localhost:8080/",
          "height": 454
        },
        "collapsed": true,
        "id": "s5Pg5P3V-ybv",
        "outputId": "07d2e5f2-dd31-4abd-ff78-feaf33db50a7"
      },
      "outputs": [
        {
          "output_type": "execute_result",
          "data": {
            "text/plain": [
              "<Figure size 640x480 with 1 Axes>"
            ],
            "image/png": "[encoded data removed]"
          },
          "metadata": {},
          "execution_count": 6
        }
      ],
      "source": [
        "# noisy simulator and execution\n",
        "from qiskit import transpile\n",
        "sim_ideal = AerSimulator(noise_model=noise_model, method='statevector')  #create a noisy simulator backend\n",
        "circuit = transpile(circuit, sim_ideal)\n",
        "result_ideal = sim_ideal.run(circuit, shots=10000).result()\n",
        "counts = result_ideal.get_counts(0)\n",
        "plot_histogram(result_ideal.get_counts(0))"
      ]
    },
    {
      "cell_type": "code",
      "execution_count": 7,
      "metadata": {
        "colab": {
          "base_uri": "https://localhost:8080/",
          "height": 401
        },
        "id": "LQWuRoTk-yeI",
        "outputId": "89197b6c-b6ac-4c28-fccb-35728bb19d68"
      },
      "outputs": [
        {
          "output_type": "stream",
          "name": "stdout",
          "text": [
            "Figure(914.831x451.5)\n"
          ]
        },
        {
          "output_type": "execute_result",
          "data": {
            "text/plain": [
              "<Figure size 914.831x451.5 with 1 Axes>"
            ],
            "image/png": "[encoded data removed]"
          },
          "metadata": {},
          "execution_count": 7
        }
      ],
      "source": [
        "#  step 1: let's build a 4 qubit ghz state\n",
        "n = 4\n",
        "circ = QuantumCircuit(n)\n",
        "circ.h(0)\n",
        "for i in range(n - 1):\n",
        "  circ.cx(i, i+1)\n",
        "\n",
        "circ.measure_all()\n",
        "print(circuit.draw('mpl'))\n",
        "circ.draw('mpl')"
      ]
    },
    {
      "cell_type": "code",
      "execution_count": null,
      "metadata": {
        "id": "JR9MsLqT43HQ"
      },
      "outputs": [],
      "source": [
        "\"\"\"from qiskit_aer.noise import NoiseModel, pauli_error\n",
        "\n",
        "# Create a noise model with a bit-flip error on qubit 0\n",
        "noisemodel_bitflip = NoiseModel()\n",
        "bit_flip_error = pauli_error([(\"X\", 0.1), (\"I\", 0.9)])  # 10% chance of bit flip\n",
        "noisemodel_bitflip.add_all_qubit_quantum_error(bit_flip_error, [\"id\", \"x\", \"h\"])\"\"\""
      ]
    },
    {
      "cell_type": "code",
      "execution_count": 8,
      "metadata": {
        "colab": {
          "base_uri": "https://localhost:8080/"
        },
        "id": "WA6yuKr6-yhs",
        "outputId": "16840672-7722-4040-c240-4f474c1f5c85"
      },
      "outputs": [
        {
          "output_type": "stream",
          "name": "stdout",
          "text": [
            "NoiseModel:\n",
            "  Basis gates: ['cx', 'id', 'rz', 'sx', 'u1', 'u2', 'u3']\n",
            "  Instructions with noise: ['measure', 'u3', 'u2', 'u1', 'reset']\n",
            "  All-qubits errors: ['u1', 'u2', 'u3', 'reset', 'measure']\n"
          ]
        }
      ],
      "source": [
        "#  bit flip noise model\n",
        "# example error probabilities\n",
        "\n",
        "p_gate1 = 0.05\n",
        "p_meas = 0.2\n",
        "p_reset = 0.05 #5% chance of a bit-flip error during the reset operation.\n",
        "\n",
        "error_gate = pauli_error([('X', p_gate1), ('I', 1 - p_gate1)])  # with probability 1−p, there is no error and with probability p, there is a bit-flip error.\n",
        "# error_meas = readout_error([('X', p_meas), ('I', 1 - p_meas)])\n",
        "error_meas = ReadoutError([[1 - p_meas, p_meas], [p_meas, 1 - p_meas]])\n",
        "error_reset = pauli_error([('X', p_reset), ('I', 1 - p_reset)])\n",
        "error_gate2 = error_gate.tensor(error_gate) #both qubits will experiencthe same error probability modeling noise on 2 qubit gates\n",
        "\n",
        "#  let's add the errors to the noise model\n",
        "\n",
        "noisemodel_bitflip = NoiseModel()\n",
        "noisemodel_bitflip.add_all_qubit_quantum_error(error_gate, ['u1', 'u2', 'u3'])\n",
        "noisemodel_bitflip.add_all_qubit_quantum_error(error_reset, ['reset'])\n",
        "noisemodel_bitflip.add_all_qubit_readout_error(error_meas)\n",
        "\n",
        "print(noisemodel_bitflip)  #print the noise model\n",
        "\n"
      ]
    },
    {
      "cell_type": "code",
      "execution_count": 9,
      "metadata": {
        "colab": {
          "base_uri": "https://localhost:8080/",
          "height": 454
        },
        "id": "GxNvHZhSARNF",
        "outputId": "6f7dd050-fd0c-4a23-868b-a1687fb9b0f4"
      },
      "outputs": [
        {
          "output_type": "execute_result",
          "data": {
            "text/plain": [
              "<Figure size 640x480 with 1 Axes>"
            ],
            "image/png": "[encoded data removed]"
          },
          "metadata": {},
          "execution_count": 9
        }
      ],
      "source": [
        "# simulate the noise model\n",
        "# Create noisy simulator backend\n",
        "sim_noise = AerSimulator(noise_model=noisemodel_bitflip)\n",
        "\n",
        "# Transpile circuit for noisy basis gates\n",
        "passmanager = generate_preset_pass_manager(\n",
        "    optimization_level=3, backend=sim_noise\n",
        ")\n",
        "circ_tnoise = passmanager.run(circ)\n",
        "\n",
        "# Run and get counts\n",
        "result_bit_flip = sim_noise.run(circ_tnoise).result()\n",
        "counts_bit_flip = result_bit_flip.get_counts(0)\n",
        "\n",
        "# Plot noisy output\n",
        "plot_histogram(counts_bit_flip)"
      ]
    },
    {
      "cell_type": "code",
      "execution_count": 10,
      "metadata": {
        "colab": {
          "base_uri": "https://localhost:8080/"
        },
        "id": "quSdhOxwAv_7",
        "outputId": "d7ad4ed5-5bee-441c-985c-18aef89324c7"
      },
      "outputs": [
        {
          "output_type": "stream",
          "name": "stdout",
          "text": [
            "NoiseModel:\n",
            "  Basis gates: ['cx', 'h', 'id', 'rz', 'sx']\n",
            "  Instructions with noise: ['h']\n",
            "  All-qubits errors: ['h']\n"
          ]
        }
      ],
      "source": [
        "# phase damping\n",
        "from qiskit_aer.noise import phase_damping_error\n",
        "n = 4\n",
        "circ2 = QuantumCircuit(n)\n",
        "circ2.h(0)\n",
        "for i in range(n - 1):\n",
        "  circ2.cx(i, i+1)\n",
        "\n",
        "circ2.measure_all()\n",
        "# print(circuit.draw('mpl'))\n",
        "circ2.draw('mpl')\n",
        "\n",
        "error = 0.5  #probability of phase damping\n",
        "noisemodel_phasedamping = NoiseModel()\n",
        "\n",
        "phasedamping_error = phase_damping_error(error, 1)\n",
        "noisemodel_phasedamping.add_all_qubit_quantum_error(phasedamping_error, [\"h\"])\n",
        "# noise_model.add_all_qubit_quantum_error(depolarizing_error(0.2, num_qubits=1), [\"h\", \"cx\"])\n",
        "\n",
        "print(noisemodel_phasedamping)"
      ]
    },
    {
      "cell_type": "code",
      "execution_count": 11,
      "metadata": {
        "colab": {
          "base_uri": "https://localhost:8080/",
          "height": 454
        },
        "id": "hIOSi6yGAwUn",
        "outputId": "adc763e3-3b98-4fe3-b420-50856dd9e07b"
      },
      "outputs": [
        {
          "output_type": "execute_result",
          "data": {
            "text/plain": [
              "<Figure size 640x480 with 1 Axes>"
            ],
            "image/png": "[encoded data removed]"
          },
          "metadata": {},
          "execution_count": 11
        }
      ],
      "source": [
        "# Create noisy simulator backend\n",
        "sim_noise = AerSimulator(noise_model=noisemodel_phasedamping)\n",
        "\n",
        "# Transpile circuit for noisy basis gates\n",
        "passmanager = generate_preset_pass_manager(\n",
        "    optimization_level=3, backend=sim_noise\n",
        ")\n",
        "circ_tnoise = passmanager.run(circ2)\n",
        "\n",
        "# Run and get counts\n",
        "result_noise = sim_noise.run(circ_tnoise, shots=10000).result()\n",
        "counts_noise = result_noise.get_counts()\n",
        "plot_histogram(counts_noise)"
      ]
    },
    {
      "cell_type": "code",
      "execution_count": null,
      "metadata": {
        "colab": {
          "base_uri": "https://localhost:8080/",
          "height": 421
        },
        "collapsed": true,
        "id": "_9mChre2kS3Z",
        "outputId": "aaf43fe2-fb3d-4cc5-84ab-19f4e4064180"
      },
      "outputs": [
        {
          "ename": "ImportError",
          "evalue": "cannot import name 'IBMQ' from 'qiskit_ibm_runtime' (/usr/local/lib/python3.10/dist-packages/qiskit_ibm_runtime/__init__.py)",
          "output_type": "error",
          "traceback": [
            "\u001b[0;31m---------------------------------------------------------------------------\u001b[0m",
            "\u001b[0;31mImportError\u001b[0m                               Traceback (most recent call last)",
            "\u001b[0;32m<ipython-input-6-a520d3180796>\u001b[0m in \u001b[0;36m<cell line: 1>\u001b[0;34m()\u001b[0m\n\u001b[0;32m----> 1\u001b[0;31m \u001b[0;32mfrom\u001b[0m \u001b[0mqiskit_ibm_runtime\u001b[0m \u001b[0;32mimport\u001b[0m \u001b[0mIBMQ\u001b[0m\u001b[0;34m\u001b[0m\u001b[0;34m\u001b[0m\u001b[0m\n\u001b[0m\u001b[1;32m      2\u001b[0m \u001b[0mIBMQ\u001b[0m\u001b[0;34m.\u001b[0m\u001b[0msave_account\u001b[0m\u001b[0;34m(\u001b[0m\u001b[0;34m'62c72edf4b8d2532ca8596d72102e90c72038ffa88fe2e5e6a556a70bfcaef41bde7f07cf4d0eca0fb8eddc2b3867e98eb295237ed20c87acea659173b386a89'\u001b[0m\u001b[0;34m,\u001b[0m \u001b[0moverwrite\u001b[0m\u001b[0;34m=\u001b[0m\u001b[0;32mTrue\u001b[0m\u001b[0;34m)\u001b[0m  \u001b[0;31m# Run this only once\u001b[0m\u001b[0;34m\u001b[0m\u001b[0;34m\u001b[0m\u001b[0m\n\u001b[1;32m      3\u001b[0m \u001b[0mIBMQ\u001b[0m\u001b[0;34m.\u001b[0m\u001b[0mload_account\u001b[0m\u001b[0;34m(\u001b[0m\u001b[0;34m)\u001b[0m  \u001b[0;31m# Load your IBMQ account\u001b[0m\u001b[0;34m\u001b[0m\u001b[0;34m\u001b[0m\u001b[0m\n",
            "\u001b[0;31mImportError\u001b[0m: cannot import name 'IBMQ' from 'qiskit_ibm_runtime' (/usr/local/lib/python3.10/dist-packages/qiskit_ibm_runtime/__init__.py)",
            "",
            "\u001b[0;31m---------------------------------------------------------------------------\u001b[0;32m\nNOTE: If your import is failing due to a missing package, you can\nmanually install dependencies using either !pip or !apt.\n\nTo view examples of installing some common dependencies, click the\n\"Open Examples\" button below.\n\u001b[0;31m---------------------------------------------------------------------------\u001b[0m\n"
          ]
        }
      ],
      "source": [
        "from qiskit_ibm_runtime import IBMQ\n",
        "IBMQ.save_account('62c72edf4b8d2532ca8596d72102e90c72038ffa88fe2e5e6a556a70bfcaef41bde7f07cf4d0eca0fb8eddc2b3867e98eb295237ed20c87acea659173b386a89', overwrite=True)  # Run this only once\n",
        "IBMQ.load_account()  # Load your IBMQ account\n"
      ]
    },
    {
      "cell_type": "code",
      "execution_count": null,
      "metadata": {
        "colab": {
          "base_uri": "https://localhost:8080/",
          "height": 248
        },
        "id": "xRPojC70lMgw",
        "outputId": "31782904-5594-4638-b6df-52f687aab201"
      },
      "outputs": [
        {
          "name": "stderr",
          "output_type": "stream",
          "text": [
            "WARNING:qiskit_aer.noise.noise_model:WARNING: all-qubit error already exists for instruction \"h\", composing with additional error.\n"
          ]
        },
        {
          "ename": "NameError",
          "evalue": "name 'qc' is not defined",
          "output_type": "error",
          "traceback": [
            "\u001b[0;31m---------------------------------------------------------------------------\u001b[0m",
            "\u001b[0;31mNameError\u001b[0m                                 Traceback (most recent call last)",
            "\u001b[0;32m<ipython-input-14-123ec17f5524>\u001b[0m in \u001b[0;36m<cell line: 0>\u001b[0;34m()\u001b[0m\n\u001b[1;32m      6\u001b[0m \u001b[0;34m\u001b[0m\u001b[0m\n\u001b[1;32m      7\u001b[0m \u001b[0msimulator\u001b[0m \u001b[0;34m=\u001b[0m \u001b[0mAerSimulator\u001b[0m\u001b[0;34m(\u001b[0m\u001b[0mnoise_model\u001b[0m\u001b[0;34m=\u001b[0m\u001b[0mcombined_noise_model\u001b[0m\u001b[0;34m)\u001b[0m\u001b[0;34m\u001b[0m\u001b[0;34m\u001b[0m\u001b[0m\n\u001b[0;32m----> 8\u001b[0;31m \u001b[0mcompiled_circuit\u001b[0m \u001b[0;34m=\u001b[0m \u001b[0mtranspile\u001b[0m\u001b[0;34m(\u001b[0m\u001b[0mqc\u001b[0m\u001b[0;34m,\u001b[0m \u001b[0msimulator\u001b[0m\u001b[0;34m)\u001b[0m\u001b[0;34m\u001b[0m\u001b[0;34m\u001b[0m\u001b[0m\n\u001b[0m\u001b[1;32m      9\u001b[0m \u001b[0mresult\u001b[0m \u001b[0;34m=\u001b[0m \u001b[0msimulator\u001b[0m\u001b[0;34m.\u001b[0m\u001b[0mrun\u001b[0m\u001b[0;34m(\u001b[0m\u001b[0mcompiled_circuit\u001b[0m\u001b[0;34m)\u001b[0m\u001b[0;34m.\u001b[0m\u001b[0mresult\u001b[0m\u001b[0;34m(\u001b[0m\u001b[0;34m)\u001b[0m\u001b[0;34m\u001b[0m\u001b[0;34m\u001b[0m\u001b[0m\n\u001b[1;32m     10\u001b[0m \u001b[0;34m\u001b[0m\u001b[0m\n",
            "\u001b[0;31mNameError\u001b[0m: name 'qc' is not defined"
          ]
        }
      ],
      "source": [
        "# combining all the noise together\n",
        "combined_noise_model = NoiseModel()\n",
        "combined_noise_model.add_all_qubit_quantum_error(depolarizing_error(0.1, 1), ['h'])\n",
        "combined_noise_model.add_all_qubit_quantum_error(phase_damping_error(0.2), ['h'])\n",
        "combined_noise_model.add_all_qubit_quantum_error(pauli_error([(\"X\", 0.1), (\"I\", 0.9)]), ['x'])\n",
        "\n",
        "simulator = AerSimulator(noise_model=combined_noise_model)\n",
        "compiled_circuit = transpile(qc, simulator)\n",
        "result = simulator.run(compiled_circuit).result()\n",
        "\n",
        "print(result.get_counts())\n"
      ]
    },
    {
      "cell_type": "code",
      "execution_count": 33,
      "metadata": {
        "colab": {
          "base_uri": "https://localhost:8080/"
        },
        "id": "7z3VjdX_6LDi",
        "outputId": "db265ba8-0c58-4b69-a6d5-34bd861909d9"
      },
      "outputs": [
        {
          "output_type": "stream",
          "name": "stdout",
          "text": [
            "{'0': 1024}\n"
          ]
        }
      ],
      "source": [
        "# implementing shors code, which protects against bit and phase flip errors\n",
        "\n",
        "def shor_code():\n",
        "    qc = QuantumCircuit(9, 1)\n",
        "\n",
        "    # Encoding\n",
        "    qc.h(0)\n",
        "    qc.cx(0, 1)\n",
        "    qc.cx(0, 2)\n",
        "\n",
        "    qc.cx(0, 3)\n",
        "    qc.cx(1, 4)\n",
        "    qc.cx(2, 5)\n",
        "    qc.barrier()\n",
        "\n",
        "    qc.cx(3, 6)\n",
        "    qc.cx(4, 7)\n",
        "    qc.cx(5, 8)\n",
        "    qc.barrier()\n",
        "\n",
        "    # Simulating a bit-flip error\n",
        "    qc.x(4)  # Introduce an error\n",
        "    qc.barrier()\n",
        "\n",
        "    # Decoding and error correction\n",
        "    qc.cx(3, 0)\n",
        "    qc.cx(4, 1)\n",
        "    qc.cx(5, 2)\n",
        "\n",
        "    qc.cx(6, 3)\n",
        "    qc.cx(7, 4)\n",
        "    qc.cx(8, 5)\n",
        "    qc.barrier()\n",
        "\n",
        "    qc.ccx(3, 4, 0)\n",
        "    qc.ccx(5, 6, 1)\n",
        "    qc.barrier()\n",
        "\n",
        "    qc.measure(0, 0)\n",
        "\n",
        "    return qc\n",
        "\n",
        "shor_circuit = shor_code()\n",
        "simulator = AerSimulator()\n",
        "compiled_circuit = transpile(shor_circuit, simulator)\n",
        "result = simulator.run(compiled_circuit).result()\n",
        "print(result.get_counts())\n"
      ]
    },
    {
      "cell_type": "code",
      "source": [
        "shor_circuit.draw('mpl')"
      ],
      "metadata": {
        "colab": {
          "base_uri": "https://localhost:8080/",
          "height": 605
        },
        "id": "wA8fDy9VwrhP",
        "outputId": "ef0720de-9916-402b-858a-54942db649ad"
      },
      "execution_count": 34,
      "outputs": [
        {
          "output_type": "execute_result",
          "data": {
            "text/plain": [
              "<Figure size 2126.94x869.556 with 1 Axes>"
            ],
            "image/png": "[encoded data removed]"
          },
          "metadata": {},
          "execution_count": 34
        }
      ]
    },
    {
      "cell_type": "code",
      "execution_count": 35,
      "metadata": {
        "colab": {
          "base_uri": "https://localhost:8080/"
        },
        "id": "1ipziTSO6LF1",
        "outputId": "30167a13-f387-41ae-89b0-aa3f654a7981"
      },
      "outputs": [
        {
          "output_type": "stream",
          "name": "stdout",
          "text": [
            "{'1': 1024}\n"
          ]
        }
      ],
      "source": [
        "# more scalable error correction method SURFACE CODE\n",
        "\n",
        "from qiskit import QuantumRegister, ClassicalRegister\n",
        "\n",
        "def surface_code():\n",
        "    qreg = QuantumRegister(5)\n",
        "    creg = ClassicalRegister(1)\n",
        "    qc = QuantumCircuit(qreg, creg)\n",
        "\n",
        "    # Encoding\n",
        "    qc.h(0)\n",
        "    qc.cx(0, 1)\n",
        "    qc.cx(0, 2)\n",
        "\n",
        "    # Introduce an error\n",
        "    qc.x(1)\n",
        "\n",
        "    # Syndrome measurement\n",
        "    qc.cx(1, 3)\n",
        "    qc.cx(2, 3)\n",
        "    qc.measure(3, 0)\n",
        "\n",
        "    return qc\n",
        "\n",
        "surface_circuit = surface_code()\n",
        "simulator = AerSimulator()\n",
        "compiled_circuit = transpile(surface_circuit, simulator)\n",
        "result = simulator.run(compiled_circuit).result()\n",
        "print(result.get_counts())\n"
      ]
    },
    {
      "cell_type": "code",
      "source": [
        "surface_circuit.draw('mpl')"
      ],
      "metadata": {
        "colab": {
          "base_uri": "https://localhost:8080/",
          "height": 449
        },
        "id": "BooNKw4axXm9",
        "outputId": "de708983-77e8-4159-d40b-7adb1f29376c"
      },
      "execution_count": 36,
      "outputs": [
        {
          "output_type": "execute_result",
          "data": {
            "text/plain": [
              "<Figure size 723.984x535.111 with 1 Axes>"
            ],
            "image/png": "[encoded data removed]"
          },
          "metadata": {},
          "execution_count": 36
        }
      ]
    },
    {
      "cell_type": "code",
      "execution_count": 38,
      "metadata": {
        "colab": {
          "base_uri": "https://localhost:8080/"
        },
        "id": "NlxAaHwk6LIC",
        "outputId": "ab0dcf3f-2b92-41c8-e0c8-c6546a78b518"
      },
      "outputs": [
        {
          "output_type": "stream",
          "name": "stderr",
          "text": [
            "WARNING:qiskit_aer.noise.noise_model:WARNING: all-qubit error already exists for instruction \"h\", composing with additional error.\n"
          ]
        },
        {
          "output_type": "stream",
          "name": "stdout",
          "text": [
            "{'1': 158, '0': 866}\n"
          ]
        }
      ],
      "source": [
        "#  let's apply shor's code to the noisy circuit\n",
        "combined_noise_model = NoiseModel()\n",
        "combined_noise_model.add_all_qubit_quantum_error(depolarizing_error(0.1, 1), ['h'])\n",
        "combined_noise_model.add_all_qubit_quantum_error(phase_damping_error(0.2), ['h'])\n",
        "combined_noise_model.add_all_qubit_quantum_error(pauli_error([(\"X\", 0.1), (\"I\", 0.9)]), ['x'])\n",
        "shor_circuit = shor_code()\n",
        "noisy_simulator = AerSimulator(noise_model=combined_noise_model)\n",
        "\n",
        "compiled_circuit = transpile(shor_circuit, noisy_simulator)\n",
        "result = noisy_simulator.run(compiled_circuit).result()\n",
        "\n",
        "print(result.get_counts())\n"
      ]
    },
    {
      "cell_type": "code",
      "execution_count": 40,
      "metadata": {
        "colab": {
          "base_uri": "https://localhost:8080/"
        },
        "id": "tSLRFQDa6LKE",
        "outputId": "9c3a66ed-647e-436d-bb0b-b7d414582ead"
      },
      "outputs": [
        {
          "output_type": "stream",
          "name": "stdout",
          "text": [
            "Without error correction: {'1': 500, '0': 524}\n",
            "With error correction: {'1': 155, '0': 869}\n"
          ]
        }
      ],
      "source": [
        "# let's compare results with and without error correction\n",
        "\n",
        "# Without error correction\n",
        "qc = QuantumCircuit(1, 1)\n",
        "qc.h(0)\n",
        "qc.x(0)  # Introduce bit-flip\n",
        "qc.measure(0, 0)\n",
        "\n",
        "noisy_simulator = AerSimulator(noise_model=combined_noise_model)\n",
        "compiled_circuit = transpile(qc, noisy_simulator)\n",
        "result = noisy_simulator.run(compiled_circuit).result()\n",
        "\n",
        "print(\"Without error correction:\", result.get_counts())\n",
        "\n",
        "# With error correction (Shor code)\n",
        "shor_circuit = shor_code()\n",
        "compiled_circuit = transpile(shor_circuit, noisy_simulator)\n",
        "result = noisy_simulator.run(compiled_circuit).result()\n",
        "\n",
        "print(\"With error correction:\", result.get_counts())\n"
      ]
    },
    {
      "cell_type": "code",
      "execution_count": 41,
      "metadata": {
        "colab": {
          "base_uri": "https://localhost:8080/"
        },
        "id": "hrVcpfTh6LM8",
        "outputId": "300a84f2-e79f-49bd-bf36-e512c05e6fdf"
      },
      "outputs": [
        {
          "output_type": "stream",
          "name": "stdout",
          "text": [
            "Noisy Simulation: {'1': 496, '0': 528}\n",
            "With Error Correction: {'1': 139, '0': 885}\n"
          ]
        }
      ],
      "source": [
        "# noise simulation with corrected errors using shor's algorithm\n",
        "def simulate(qc, noise_model=None):\n",
        "    simulator = AerSimulator(noise_model=noise_model) if noise_model else AerSimulator()\n",
        "    compiled_circuit = transpile(qc, simulator)\n",
        "    result = simulator.run(compiled_circuit).result()\n",
        "    return result.get_counts()\n",
        "\n",
        "qc = QuantumCircuit(1, 1)\n",
        "qc.h(0)\n",
        "qc.measure(0, 0)\n",
        "\n",
        "print(\"Noisy Simulation:\", simulate(qc, combined_noise_model))\n",
        "print(\"With Error Correction:\", simulate(shor_code(), combined_noise_model))\n"
      ]
    },
    {
      "cell_type": "markdown",
      "metadata": {
        "id": "gBqWe5sNhwjw"
      },
      "source": [
        "Grover's Algorithm"
      ]
    },
    {
      "cell_type": "code",
      "execution_count": 42,
      "metadata": {
        "id": "uDwi7gO26LPZ"
      },
      "outputs": [],
      "source": [
        "# Built-in modules\n",
        "import math\n",
        "\n",
        "# Imports from Qiskit\n",
        "from qiskit import QuantumCircuit\n",
        "from qiskit.circuit.library import GroverOperator, MCMT, ZGate\n",
        "from qiskit.visualization import plot_distribution\n",
        "\n",
        "# Imports from Qiskit Runtime\n",
        "from qiskit_ibm_runtime import QiskitRuntimeService\n",
        "from qiskit_ibm_runtime import SamplerV2 as Sampler"
      ]
    },
    {
      "cell_type": "code",
      "execution_count": 43,
      "metadata": {
        "id": "szV7alqi6LRs"
      },
      "outputs": [],
      "source": [
        "# To run on hardware, select the backend with the fewest number of jobs in the queue\n",
        "# service = QiskitRuntimeService(channel=\"ibm_quantum\")\n",
        "# backend = service.least_busy(operational=True, simulator=False)\n",
        "# backend.name"
      ]
    },
    {
      "cell_type": "code",
      "execution_count": 44,
      "metadata": {
        "id": "S8QBpNhy6LTc"
      },
      "outputs": [],
      "source": [
        "def grover_oracle(marked_states):\n",
        "    \"\"\"Build a Grover oracle for multiple marked states\n",
        "\n",
        "    Here we assume all input marked states have the same number of bits\n",
        "\n",
        "    Parameters:\n",
        "        marked_states (str or list): Marked states of oracle\n",
        "\n",
        "    Returns:\n",
        "        QuantumCircuit: Quantum circuit representing Grover oracle\n",
        "    \"\"\"\n",
        "    if not isinstance(marked_states, list):\n",
        "        marked_states = [marked_states]\n",
        "    # Compute the number of qubits in circuit\n",
        "    num_qubits = len(marked_states[0])\n",
        "\n",
        "    qc = QuantumCircuit(num_qubits)\n",
        "    # Mark each target state in the input list\n",
        "    for target in marked_states:\n",
        "        # Flip target bit-string to match Qiskit bit-ordering\n",
        "        rev_target = target[::-1]\n",
        "        # Find the indices of all the '0' elements in bit-string\n",
        "        zero_inds = [ind for ind in range(num_qubits) if rev_target.startswith(\"0\", ind)]\n",
        "        # Add a multi-controlled Z-gate with pre- and post-applied X-gates (open-controls)\n",
        "        # where the target bit-string has a '0' entry\n",
        "        qc.x(zero_inds)\n",
        "        qc.compose(MCMT(ZGate(), num_qubits - 1, 1), inplace=True)\n",
        "        qc.x(zero_inds)\n",
        "    return qc"
      ]
    },
    {
      "cell_type": "code",
      "execution_count": 45,
      "metadata": {
        "colab": {
          "base_uri": "https://localhost:8080/",
          "height": 310
        },
        "id": "tUq7TaOriJKh",
        "outputId": "e61b710e-57c4-4d24-fdf5-cb2c1d7040a8"
      },
      "outputs": [
        {
          "output_type": "stream",
          "name": "stderr",
          "text": [
            "<ipython-input-44-6de8e9ca2dbc>:27: DeprecationWarning: The class ``qiskit.circuit.library.generalized_gates.mcmt.MCMT`` is deprecated as of qiskit 1.4. It will be removed no earlier than 3 months after the release date. Use MCMTGate instead.\n",
            "  qc.compose(MCMT(ZGate(), num_qubits - 1, 1), inplace=True)\n"
          ]
        },
        {
          "output_type": "execute_result",
          "data": {
            "text/plain": [
              "<Figure size 538.33x284.278 with 1 Axes>"
            ],
            "image/png": "[encoded data removed]"
          },
          "metadata": {},
          "execution_count": 45
        }
      ],
      "source": [
        "marked_states = [\"011\", \"100\"]\n",
        "\n",
        "oracle = grover_oracle(marked_states)\n",
        "oracle.draw(output=\"mpl\", style=\"iqp\")"
      ]
    },
    {
      "cell_type": "code",
      "execution_count": 46,
      "metadata": {
        "colab": {
          "base_uri": "https://localhost:8080/",
          "height": 267
        },
        "id": "LfbIlqG5iJNs",
        "outputId": "fca10392-38ec-4fc8-88fb-3519e2845ba1"
      },
      "outputs": [
        {
          "output_type": "execute_result",
          "data": {
            "text/plain": [
              "<Figure size 1094.88x284.278 with 1 Axes>"
            ],
            "image/png": "[encoded data removed]"
          },
          "metadata": {},
          "execution_count": 46
        }
      ],
      "source": [
        "grover_op = GroverOperator(oracle)\n",
        "grover_op.decompose().draw(output=\"mpl\", style=\"iqp\")"
      ]
    },
    {
      "cell_type": "code",
      "execution_count": 47,
      "metadata": {
        "id": "wh-9uE-SiJQ8"
      },
      "outputs": [],
      "source": [
        "optimal_num_iterations = math.floor(\n",
        "    math.pi / (4 * math.asin(math.sqrt(len(marked_states) / 2**grover_op.num_qubits)))\n",
        ")"
      ]
    },
    {
      "cell_type": "markdown",
      "metadata": {
        "id": "Acc38xyDibHD"
      },
      "source": [
        "Full grover circuit"
      ]
    },
    {
      "cell_type": "code",
      "execution_count": 48,
      "metadata": {
        "colab": {
          "base_uri": "https://localhost:8080/",
          "height": 320
        },
        "id": "h-SyMA8NiXiW",
        "outputId": "350b92cb-1d12-41e3-f196-557b8469baee"
      },
      "outputs": [
        {
          "output_type": "execute_result",
          "data": {
            "text/plain": [
              "<Figure size 663.998x367.889 with 1 Axes>"
            ],
            "image/png": "[encoded data removed]"
          },
          "metadata": {},
          "execution_count": 48
        }
      ],
      "source": [
        "qc = QuantumCircuit(grover_op.num_qubits)\n",
        "# Create even superposition of all basis states\n",
        "qc.h(range(grover_op.num_qubits))\n",
        "# Apply Grover operator the optimal number of times\n",
        "qc.compose(grover_op.power(optimal_num_iterations), inplace=True)\n",
        "# Measure all qubits\n",
        "qc.measure_all()\n",
        "qc.draw(output=\"mpl\", style=\"iqp\")"
      ]
    },
    {
      "cell_type": "code",
      "execution_count": 49,
      "metadata": {
        "colab": {
          "base_uri": "https://localhost:8080/",
          "height": 332
        },
        "id": "jW0AtT7kiXke",
        "outputId": "0afb81fd-012c-4a09-82a8-3519ff4ac0ba"
      },
      "outputs": [
        {
          "output_type": "execute_result",
          "data": {
            "text/plain": [
              "<Figure size 1082.05x367.889 with 1 Axes>"
            ],
            "image/png": "[encoded data removed]"
          },
          "metadata": {},
          "execution_count": 49
        }
      ],
      "source": [
        "from qiskit.transpiler.preset_passmanagers import generate_preset_pass_manager\n",
        "\n",
        "backend = AerSimulator()\n",
        "target = backend.target\n",
        "pm = generate_preset_pass_manager(target=target, optimization_level=3)\n",
        "\n",
        "circuit_isa = pm.run(qc)\n",
        "circuit_isa.draw(output=\"mpl\", idle_wires=False, style=\"iqp\")"
      ]
    },
    {
      "cell_type": "code",
      "execution_count": 50,
      "metadata": {
        "id": "l0x7gTVXiXmv"
      },
      "outputs": [],
      "source": [
        "# To run on local simulator:\n",
        "#   1. Use the SatetvectorSampler from qiskit.primitives instead\n",
        "sampler = Sampler(mode=backend)\n",
        "sampler.options.default_shots = 10_000\n",
        "result = sampler.run([circuit_isa]).result()\n",
        "dist = result[0].data.meas.get_counts()"
      ]
    },
    {
      "cell_type": "code",
      "execution_count": 51,
      "metadata": {
        "colab": {
          "base_uri": "https://localhost:8080/",
          "height": 461
        },
        "id": "zSgf9aitiXpe",
        "outputId": "da01eba0-1c09-49ef-adef-aee9582001b7"
      },
      "outputs": [
        {
          "output_type": "execute_result",
          "data": {
            "text/plain": [
              "<Figure size 700x500 with 1 Axes>"
            ],
            "image/png": "[encoded data removed]"
          },
          "metadata": {},
          "execution_count": 51
        }
      ],
      "source": [
        "plot_distribution(dist)"
      ]
    },
    {
      "cell_type": "code",
      "source": [],
      "metadata": {
        "id": "MPFe8t7nyAKT"
      },
      "execution_count": null,
      "outputs": []
    },
    {
      "cell_type": "code",
      "source": [],
      "metadata": {
        "id": "Q2707XoMyAMl"
      },
      "execution_count": null,
      "outputs": []
    },
    {
      "cell_type": "code",
      "source": [],
      "metadata": {
        "id": "cSIiwvknyATN"
      },
      "execution_count": null,
      "outputs": []
    },
    {
      "cell_type": "code",
      "source": [],
      "metadata": {
        "id": "-39iBWYb0E8p"
      },
      "execution_count": null,
      "outputs": []
    },
    {
      "cell_type": "code",
      "source": [],
      "metadata": {
        "id": "MquwSN5X0FWq"
      },
      "execution_count": null,
      "outputs": []
    },
    {
      "cell_type": "markdown",
      "source": [
        "The Steane code is a quantum error-correcting code that encodes one logical qubit into seven physical qubits. It is a [[7,1,3]] code, meaning:\n",
        "\n",
        "It uses 7 qubits to encode 1 logical qubit\n",
        "\n",
        "It protects against single-qubit errors\n",
        "\n",
        "It can detect and correct any single-qubit error.\n",
        "\n"
      ],
      "metadata": {
        "id": "rdtRYEEO5CDv"
      }
    },
    {
      "cell_type": "code",
      "source": [
        "from qiskit import QuantumCircuit\n",
        "from qiskit_aer import AerSimulator\n",
        "\n",
        "def steane_code():\n",
        "    \"\"\"Implement a Steane [7,1,3] quantum error correction code\"\"\"\n",
        "    qc = QuantumCircuit(7)\n",
        "\n",
        "    # Encoding a logical |0⟩ state\n",
        "    qc.h(0)\n",
        "    qc.cx(0, 3)\n",
        "    qc.cx(0, 5)\n",
        "    qc.cx(3, 6)\n",
        "    qc.cx(5, 4)\n",
        "    qc.cx(6, 1)\n",
        "    qc.cx(4, 2)\n",
        "    qc.measure_all()\n",
        "\n",
        "    return qc\n",
        "\n",
        "qc_steane = steane_code()\n",
        "qc_steane.draw('mpl')\n"
      ],
      "metadata": {
        "colab": {
          "base_uri": "https://localhost:8080/",
          "height": 577
        },
        "id": "y-T9T1GY0FbP",
        "outputId": "dca15769-91d0-4f6d-8bf7-bfaacc2b7cc0"
      },
      "execution_count": 70,
      "outputs": [
        {
          "output_type": "execute_result",
          "data": {
            "text/plain": [
              "<Figure size 1416.5x702.333 with 1 Axes>"
            ],
            "image/png": "[encoded data removed]"
          },
          "metadata": {},
          "execution_count": 70
        }
      ]
    },
    {
      "cell_type": "code",
      "source": [
        "from qiskit.circuit.library import XGate\n",
        "from qiskit.quantum_info import Pauli\n",
        "\n",
        "def surface_code():\n",
        "    \"\"\"Implement a distance-3 Surface Code\"\"\"\n",
        "    qc = QuantumCircuit(9)\n",
        "\n",
        "    # Apply stabilizer checks\n",
        "    qc.h(1)\n",
        "    qc.h(3)\n",
        "    qc.h(5)\n",
        "    qc.h(7)\n",
        "\n",
        "    qc.cx(1, 0)\n",
        "    qc.cx(1, 2)\n",
        "    qc.cx(3, 0)\n",
        "    qc.cx(3, 6)\n",
        "    qc.cx(5, 2)\n",
        "    qc.cx(5, 8)\n",
        "    qc.cx(7, 6)\n",
        "    qc.cx(7, 8)\n",
        "    qc.measure_all()\n",
        "\n",
        "    return qc\n",
        "\n",
        "qc_surface = surface_code()\n",
        "qc_surface.draw('mpl')\n"
      ],
      "metadata": {
        "colab": {
          "base_uri": "https://localhost:8080/",
          "height": 706
        },
        "id": "PQVIEg_6yAVk",
        "outputId": "94ce8832-5ee6-4ca1-ad3e-ef8fdce59134"
      },
      "execution_count": 72,
      "outputs": [
        {
          "output_type": "execute_result",
          "data": {
            "text/plain": [
              "<Figure size 1667.33x869.556 with 1 Axes>"
            ],
            "image/png": "[encoded data removed]"
          },
          "metadata": {},
          "execution_count": 72
        }
      ]
    },
    {
      "cell_type": "code",
      "source": [
        "# from qiskit.providers.aer.noise import NoiseModel, depolarizing_error\n",
        "from qiskit import transpile\n",
        "\n",
        "noise_model = NoiseModel()\n",
        "depolarizing = depolarizing_error(0.02, 1)\n",
        "noise_model.add_all_qubit_quantum_error(depolarizing, ['x', 'h'])\n",
        "# noise_model.add_all_qubit_quantum_error(depolarizing_2q, ['cx'])\n",
        "\n",
        "\n",
        "simulator = AerSimulator(noise_model=noise_model)\n",
        "\n",
        "# Transpile for the noisy simulator\n",
        "transpiled_steane = transpile(qc_steane, simulator)\n",
        "transpiled_surface = transpile(qc_surface, simulator)\n",
        "\n",
        "# Run\n",
        "result_steane = simulator.run(transpiled_steane).result()\n",
        "result_surface = simulator.run(transpiled_surface).result()\n",
        "\n",
        "print(\"Steane Code Fidelity:\", result_steane.get_counts())\n",
        "print(\"Surface Code Fidelity:\", result_surface.get_counts())\n"
      ],
      "metadata": {
        "colab": {
          "base_uri": "https://localhost:8080/"
        },
        "id": "JtplE9RnyAXw",
        "outputId": "04cd4b4e-a651-4889-e869-99309c99e762"
      },
      "execution_count": 73,
      "outputs": [
        {
          "output_type": "stream",
          "name": "stdout",
          "text": [
            "Steane Code Fidelity: {'0000000': 486, '1111111': 538}\n",
            "Surface Code Fidelity: {'101101101': 57, '001001001': 74, '010101010': 57, '011100100': 59, '101101010': 62, '100100011': 64, '111000000': 60, '000000000': 62, '110001001': 69, '111000111': 61, '010101101': 59, '100100100': 64, '001001110': 62, '011100011': 71, '110001110': 87, '000000111': 56}\n"
          ]
        }
      ]
    },
    {
      "cell_type": "code",
      "source": [],
      "metadata": {
        "id": "Eu6_BfQ21fEi"
      },
      "execution_count": null,
      "outputs": []
    },
    {
      "cell_type": "code",
      "source": [
        "from qiskit import QuantumCircuit\n",
        "from qiskit_algorithms import AmplificationProblem, Grover\n",
        "from qiskit.circuit.library import ZGate\n",
        "\n",
        "def grover_circuit():\n",
        "    \"\"\"Implement Grover's Algorithm on a 2-qubit system with measurement\"\"\"\n",
        "\n",
        "    # Define the oracle (marks |11⟩ as the target state)\n",
        "    oracle = QuantumCircuit(2)\n",
        "    oracle.cz(0, 1)\n",
        "\n",
        "    # Define the amplification problem\n",
        "    problem = AmplificationProblem(oracle, is_good_state=[\"11\"])\n",
        "\n",
        "    # Create Grover's Algorithm instance\n",
        "    grover = Grover(iterations=[1])  # Single iteration for simplicity\n",
        "    circuit = grover.construct_circuit(problem)\n",
        "\n",
        "    # Add measurement to the circuit\n",
        "    circuit.measure_all()\n",
        "\n",
        "    return circuit\n",
        "\n",
        "# Create and draw the circuit\n",
        "qc_grover = grover_circuit()\n",
        "qc_grover.draw('mpl')\n",
        "\n"
      ],
      "metadata": {
        "colab": {
          "base_uri": "https://localhost:8080/",
          "height": 255
        },
        "id": "i6LMCDS4yAaA",
        "outputId": "05eed1d2-fc23-4df9-d842-620dfbf1394f"
      },
      "execution_count": 87,
      "outputs": [
        {
          "output_type": "execute_result",
          "data": {
            "text/plain": [
              "<Figure size 580.387x284.278 with 1 Axes>"
            ],
            "image/png": "[encoded data removed]"
          },
          "metadata": {},
          "execution_count": 87
        }
      ]
    },
    {
      "cell_type": "code",
      "source": [
        "transpiled_grover = transpile(qc_grover, simulator)\n",
        "result_grover = simulator.run(transpiled_grover).result()\n",
        "print(\"Grover's Algorithm Counts with Noise:\", result_grover.get_counts())\n"
      ],
      "metadata": {
        "colab": {
          "base_uri": "https://localhost:8080/"
        },
        "id": "YT_lYaoG2KDb",
        "outputId": "e6641051-c96d-4527-ed5a-a76e122ebf1c"
      },
      "execution_count": 88,
      "outputs": [
        {
          "output_type": "stream",
          "name": "stdout",
          "text": [
            "Grover's Algorithm Counts with Noise: {'00': 10, '10': 34, '01': 25, '11': 955}\n"
          ]
        }
      ]
    },
    {
      "cell_type": "code",
      "source": [
        "# from qiskit_providers.fake_provider import FakeToronto\n",
        "# from qiskit_ibm_runtime.fake_provider import FakeToronto\n",
        "\n",
        "from qiskit_aer import AerSimulator\n",
        "from qiskit_aer import noise\n",
        "\n",
        "\n",
        "backend = AerSimulator()\n",
        "realistic_simulator = AerSimulator()\n",
        "\n",
        "# Transpile the circuits for this backend\n",
        "transpiled_grover_realistic = transpile(qc_grover, realistic_simulator)\n",
        "result_grover_realistic = realistic_simulator.run(transpiled_grover_realistic).result()\n",
        "\n",
        "print(\"Grover's Algorithm with Realistic Noise:\", result_grover_realistic.get_counts())\n"
      ],
      "metadata": {
        "colab": {
          "base_uri": "https://localhost:8080/"
        },
        "id": "O0Ur077-2KF3",
        "outputId": "860da1f9-49ff-4723-b43a-6149b9a7ba6a"
      },
      "execution_count": 98,
      "outputs": [
        {
          "output_type": "stream",
          "name": "stdout",
          "text": [
            "Grover's Algorithm with Realistic Noise: {'11': 1024}\n"
          ]
        }
      ]
    },
    {
      "cell_type": "code",
      "source": [],
      "metadata": {
        "id": "fxksuO6D2KMZ"
      },
      "execution_count": null,
      "outputs": []
    },
    {
      "cell_type": "code",
      "source": [],
      "metadata": {
        "id": "C0VxTlxF2KTK"
      },
      "execution_count": null,
      "outputs": []
    },
    {
      "cell_type": "code",
      "source": [],
      "metadata": {
        "id": "kR0NVQev2KVW"
      },
      "execution_count": null,
      "outputs": []
    },
    {
      "cell_type": "code",
      "source": [],
      "metadata": {
        "id": "62FeL9aW2KXn"
      },
      "execution_count": null,
      "outputs": []
    },
    {
      "cell_type": "code",
      "source": [],
      "metadata": {
        "id": "ttelrXqP2KaR"
      },
      "execution_count": null,
      "outputs": []
    },
    {
      "cell_type": "code",
      "source": [],
      "metadata": {
        "id": "pHyGLalN2Kdf"
      },
      "execution_count": null,
      "outputs": []
    },
    {
      "cell_type": "code",
      "source": [
        "!pip install qiskit-algorithms"
      ],
      "metadata": {
        "colab": {
          "base_uri": "https://localhost:8080/"
        },
        "id": "uzro-v5U1yzh",
        "outputId": "143e7da0-3d8e-4e5d-82d8-5423fed50081"
      },
      "execution_count": 77,
      "outputs": [
        {
          "output_type": "stream",
          "name": "stdout",
          "text": [
            "Collecting qiskit-algorithms\n",
            "  Downloading qiskit_algorithms-0.3.1-py3-none-any.whl.metadata (4.2 kB)\n",
            "Requirement already satisfied: qiskit>=0.44 in /usr/local/lib/python3.11/dist-packages (from qiskit-algorithms) (1.4.0)\n",
            "Requirement already satisfied: scipy>=1.4 in /usr/local/lib/python3.11/dist-packages (from qiskit-algorithms) (1.13.1)\n",
            "Requirement already satisfied: numpy>=1.17 in /usr/local/lib/python3.11/dist-packages (from qiskit-algorithms) (1.26.4)\n",
            "Requirement already satisfied: rustworkx>=0.15.0 in /usr/local/lib/python3.11/dist-packages (from qiskit>=0.44->qiskit-algorithms) (0.16.0)\n",
            "Requirement already satisfied: sympy>=1.3 in /usr/local/lib/python3.11/dist-packages (from qiskit>=0.44->qiskit-algorithms) (1.13.1)\n",
            "Requirement already satisfied: dill>=0.3 in /usr/local/lib/python3.11/dist-packages (from qiskit>=0.44->qiskit-algorithms) (0.3.9)\n",
            "Requirement already satisfied: python-dateutil>=2.8.0 in /usr/local/lib/python3.11/dist-packages (from qiskit>=0.44->qiskit-algorithms) (2.8.2)\n",
            "Requirement already satisfied: stevedore>=3.0.0 in /usr/local/lib/python3.11/dist-packages (from qiskit>=0.44->qiskit-algorithms) (5.4.1)\n",
            "Requirement already satisfied: typing-extensions in /usr/local/lib/python3.11/dist-packages (from qiskit>=0.44->qiskit-algorithms) (4.12.2)\n",
            "Requirement already satisfied: symengine<0.14,>=0.11 in /usr/local/lib/python3.11/dist-packages (from qiskit>=0.44->qiskit-algorithms) (0.13.0)\n",
            "Requirement already satisfied: six>=1.5 in /usr/local/lib/python3.11/dist-packages (from python-dateutil>=2.8.0->qiskit>=0.44->qiskit-algorithms) (1.17.0)\n",
            "Requirement already satisfied: pbr>=2.0.0 in /usr/local/lib/python3.11/dist-packages (from stevedore>=3.0.0->qiskit>=0.44->qiskit-algorithms) (6.1.1)\n",
            "Requirement already satisfied: mpmath<1.4,>=1.1.0 in /usr/local/lib/python3.11/dist-packages (from sympy>=1.3->qiskit>=0.44->qiskit-algorithms) (1.3.0)\n",
            "Requirement already satisfied: setuptools in /usr/local/lib/python3.11/dist-packages (from pbr>=2.0.0->stevedore>=3.0.0->qiskit>=0.44->qiskit-algorithms) (75.1.0)\n",
            "Downloading qiskit_algorithms-0.3.1-py3-none-any.whl (310 kB)\n",
            "\u001b[2K   \u001b[90m━━━━━━━━━━━━━━━━━━━━━━━━━━━━━━━━━━━━━━━━\u001b[0m \u001b[32m310.5/310.5 kB\u001b[0m \u001b[31m4.7 MB/s\u001b[0m eta \u001b[36m0:00:00\u001b[0m\n",
            "\u001b[?25hInstalling collected packages: qiskit-algorithms\n",
            "Successfully installed qiskit-algorithms-0.3.1\n"
          ]
        }
      ]
    },
    {
      "cell_type": "code",
      "source": [],
      "metadata": {
        "id": "k2DCIId10Z0-"
      },
      "execution_count": null,
      "outputs": []
    },
    {
      "cell_type": "code",
      "source": [],
      "metadata": {
        "id": "wx0GP3Ro0Z6r"
      },
      "execution_count": null,
      "outputs": []
    },
    {
      "cell_type": "code",
      "source": [],
      "metadata": {
        "id": "xBX6Ej090Z9i"
      },
      "execution_count": null,
      "outputs": []
    },
    {
      "cell_type": "code",
      "source": [],
      "metadata": {
        "id": "2fimqkCT0Z_2"
      },
      "execution_count": null,
      "outputs": []
    },
    {
      "cell_type": "code",
      "source": [],
      "metadata": {
        "id": "-5wAwgG20aB8"
      },
      "execution_count": null,
      "outputs": []
    },
    {
      "cell_type": "code",
      "source": [],
      "metadata": {
        "id": "OxnK4seV0aDi"
      },
      "execution_count": null,
      "outputs": []
    },
    {
      "cell_type": "code",
      "source": [],
      "metadata": {
        "id": "kVLEoGyF0aFT"
      },
      "execution_count": null,
      "outputs": []
    },
    {
      "cell_type": "code",
      "source": [],
      "metadata": {
        "id": "XJ-soRYk0aIs"
      },
      "execution_count": null,
      "outputs": []
    },
    {
      "cell_type": "code",
      "source": [],
      "metadata": {
        "id": "dUUNum6tyAcI"
      },
      "execution_count": null,
      "outputs": []
    },
    {
      "cell_type": "code",
      "source": [],
      "metadata": {
        "id": "TxLX-JhUyAec"
      },
      "execution_count": null,
      "outputs": []
    },
    {
      "cell_type": "code",
      "source": [],
      "metadata": {
        "id": "3blhgkBnyAg2"
      },
      "execution_count": null,
      "outputs": []
    },
    {
      "cell_type": "code",
      "source": [],
      "metadata": {
        "id": "u96oLAFTyAjP"
      },
      "execution_count": null,
      "outputs": []
    },
    {
      "cell_type": "code",
      "source": [],
      "metadata": {
        "id": "A2WpervcyAk4"
      },
      "execution_count": null,
      "outputs": []
    },
    {
      "cell_type": "code",
      "source": [],
      "metadata": {
        "id": "MbDrx96FyAoV"
      },
      "execution_count": null,
      "outputs": []
    },
    {
      "cell_type": "code",
      "execution_count": 52,
      "metadata": {
        "colab": {
          "base_uri": "https://localhost:8080/",
          "height": 36
        },
        "id": "Tlns3qA0iXrx",
        "outputId": "6d49a3eb-c5c6-413d-861f-b549e15de9e4"
      },
      "outputs": [
        {
          "output_type": "execute_result",
          "data": {
            "text/plain": [
              "'0.36.1'"
            ],
            "application/vnd.google.colaboratory.intrinsic+json": {
              "type": "string"
            }
          },
          "metadata": {},
          "execution_count": 52
        }
      ],
      "source": [
        "import qiskit_ibm_runtime\n",
        "\n",
        "qiskit_ibm_runtime.version.get_version_info()"
      ]
    },
    {
      "cell_type": "code",
      "execution_count": null,
      "metadata": {
        "colab": {
          "base_uri": "https://localhost:8080/",
          "height": 36
        },
        "id": "1DakhWW5iXwq",
        "outputId": "8b07ff1a-7004-4ffb-cb18-dee290b79238"
      },
      "outputs": [
        {
          "data": {
            "application/vnd.google.colaboratory.intrinsic+json": {
              "type": "string"
            },
            "text/plain": [
              "'1.3.2'"
            ]
          },
          "execution_count": 34,
          "metadata": {},
          "output_type": "execute_result"
        }
      ],
      "source": [
        "import qiskit\n",
        "\n",
        "qiskit.version.get_version_info()"
      ]
    },
    {
      "cell_type": "code",
      "execution_count": null,
      "metadata": {
        "colab": {
          "base_uri": "https://localhost:8080/"
        },
        "id": "OqJQ6TpQi4_N",
        "outputId": "68741d5b-0b22-4692-d78e-0faa0c124024"
      },
      "outputs": [
        {
          "name": "stdout",
          "output_type": "stream",
          "text": [
            "     ┌───┐   ┌───┐┌───┐          ┌───┐┌───┐     ┌─┐   \n",
            "q_0: ┤ H ├─■─┤ H ├┤ X ├───────■──┤ X ├┤ H ├─────┤M├───\n",
            "     ├───┤ │ ├───┤├───┤┌───┐┌─┴─┐├───┤├───┤┌───┐└╥┘┌─┐\n",
            "q_1: ┤ H ├─■─┤ H ├┤ X ├┤ H ├┤ X ├┤ H ├┤ X ├┤ H ├─╫─┤M├\n",
            "     └───┘   └───┘└───┘└───┘└───┘└───┘└───┘└───┘ ║ └╥┘\n",
            "c: 2/════════════════════════════════════════════╩══╩═\n",
            "                                                 0  1 \n"
          ]
        }
      ],
      "source": [
        "from qiskit import QuantumCircuit, ClassicalRegister, QuantumRegister\n",
        "\n",
        "# Create Quantum and Classical Registers\n",
        "qr = QuantumRegister(2, name='q')\n",
        "cr = ClassicalRegister(2, name='c')\n",
        "grover = QuantumCircuit(qr, cr)\n",
        "\n",
        "# Apply Hadamard gates\n",
        "grover.h(qr)\n",
        "\n",
        "# Oracle for state |11>\n",
        "grover.cz(qr[0], qr[1])\n",
        "\n",
        "# Diffuser\n",
        "grover.h(qr)\n",
        "grover.x(qr)\n",
        "grover.h(qr[1])\n",
        "grover.cx(qr[0], qr[1])\n",
        "grover.h(qr[1])\n",
        "grover.x(qr)\n",
        "grover.h(qr)\n",
        "\n",
        "# Measurement\n",
        "grover.measure(qr, cr)\n",
        "\n",
        "# Draw the circuit\n",
        "print(grover)\n",
        "\n"
      ]
    },
    {
      "cell_type": "code",
      "execution_count": null,
      "metadata": {
        "colab": {
          "base_uri": "https://localhost:8080/"
        },
        "id": "hrEodnpCi5B3",
        "outputId": "b33340ec-1260-4d37-83a3-cecefbe5f69a"
      },
      "outputs": [
        {
          "name": "stdout",
          "output_type": "stream",
          "text": [
            "{'10': 5, '00': 10, '01': 5, '11': 980}\n"
          ]
        }
      ],
      "source": [
        "# from qiskit.providers.aer import AerSimulator\n",
        "# from qiskit.providers.aer.noise import NoiseModel, depolarizing_error\n",
        "\n",
        "# Create a noise model\n",
        "noise_model = NoiseModel()\n",
        "\n",
        "# Depolarizing error probabilities\n",
        "p1 = 0.01  # Single-qubit gate error probability\n",
        "p2 = 0.02  # Two-qubit gate error probability\n",
        "\n",
        "# Add errors to the noise model\n",
        "noise_model.add_all_qubit_quantum_error(depolarizing_error(p1, 1), ['u1', 'u2', 'u3'])\n",
        "noise_model.add_all_qubit_quantum_error(depolarizing_error(p2, 2), ['cx'])\n",
        "\n",
        "# Simulate the circuit with noise\n",
        "simulator = AerSimulator(noise_model=noise_model)\n",
        "job = simulator.run(grover, shots=1000)\n",
        "result = job.result()\n",
        "counts = result.get_counts(grover)\n",
        "print(counts)\n"
      ]
    },
    {
      "cell_type": "code",
      "execution_count": null,
      "metadata": {
        "colab": {
          "base_uri": "https://localhost:8080/"
        },
        "id": "Py93J3mli5FR",
        "outputId": "726d46ee-5051-4b70-e599-c253050b6061"
      },
      "outputs": [
        {
          "name": "stdout",
          "output_type": "stream",
          "text": [
            "Mitigated counts: {'10': 5, '00': 10, '01': 5, '11': 980}\n"
          ]
        }
      ],
      "source": [
        "# from qiskit.ignis.mitigation.measurement import complete_meas_cal, CompleteMeasFitter\n",
        "from qiskit_experiments.library import StateTomography   # changed the import to qiskit_experiments\n",
        "\n",
        "# Generate measurement calibration circuits\n",
        "# meas_calibs, state_labels = complete_meas_cal(qr=qr, circlabel='measerrormit')\n",
        "# changed to use the StateTomography class\n",
        "# which is the new way of setting up tomography experiments in Qiskit Experiments.\n",
        "\n",
        "# Prepare the tomography experiment\n",
        "# The StateTomography class allows you to specify the circuits needed for tomography\n",
        "# and provides tools for analyzing the results\n",
        "tomo_exp = StateTomography(grover) # grover contains circuit\n",
        "\n",
        "# Generate the tomography circuits\n",
        "tomo_circuits = tomo_exp.circuits()\n",
        "\n",
        "# Execute the tomography circuits\n",
        "# Note that in your original code, you were running the calibration circuits on a simulator\n",
        "# We can update that to use the Aer simulator as an example here\n",
        "\n",
        "backend = AerSimulator()\n",
        "job = backend.run(tomo_circuits)\n",
        "# compiled_circuit = transpile(shor_circuit, simulator)\n",
        "# result = simulator.run(compiled_circuit).result()\n",
        "# Get the results\n",
        "# result = backend.run(tomo_circuits).result()\n",
        "# Process the results to reconstruct the density matrix\n",
        "#tomo_results = tomo_exp.analysis.run(result)  # or result to directly analyze the results\n",
        "# Get the counts\n",
        "counts = result.get_counts()\n",
        "\n",
        "\n",
        "# Apply measurement error mitigation if desired\n",
        "# (There is an option to apply error mitigation to the resulting state of state tomography)\n",
        "\n",
        "#from qiskit.ignis.mitigation.measurement import complete_meas_cal, CompleteMeasFitter\n",
        "from qiskit_experiments.library import StateTomography   # changed the import to qiskit_experiments\n",
        "from qiskit import transpile\n",
        "\n",
        "# ... (rest of your code) ...\n",
        "\n",
        "backend = AerSimulator()\n",
        "\n",
        "# Transpile the tomography circuits to the basis gates supported by the backend\n",
        "# This will replace PauliMeasZ with supported gates like measure and z gates.\n",
        "transpiled_tomo_circuits = [transpile(circ, backend) for circ in tomo_circuits]\n",
        "\n",
        "job = backend.run(transpiled_tomo_circuits)\n",
        "\n",
        "# ... (rest of your code) ...\n",
        "print(\"Mitigated counts:\", counts)  # changed mitigated_counts to counts"
      ]
    },
    {
      "cell_type": "code",
      "execution_count": null,
      "metadata": {
        "id": "PpkLdy3i6LVD"
      },
      "outputs": [],
      "source": []
    },
    {
      "cell_type": "code",
      "execution_count": null,
      "metadata": {
        "colab": {
          "base_uri": "https://localhost:8080/",
          "height": 255
        },
        "id": "n-uzfGdnrfCt",
        "outputId": "ca5514be-93d1-40e2-a42f-2f2b5ae25ced"
      },
      "outputs": [
        {
          "data": {
            "image/png": "[encoded data removed]",
            "text/plain": [
              "<Figure size 705.35x284.278 with 1 Axes>"
            ]
          },
          "execution_count": 21,
          "metadata": {},
          "output_type": "execute_result"
        }
      ],
      "source": [
        "from qiskit import QuantumCircuit, transpile, assemble\n",
        "from qiskit.visualization import plot_histogram\n",
        "import numpy as np\n",
        "\n",
        "# Define the oracle for |11> as the marked state\n",
        "oracle = QuantumCircuit(2)\n",
        "oracle.cz(0, 1)  # Apply controlled-Z gate\n",
        "oracle.to_gate()\n",
        "oracle.name = \"Oracle\"\n",
        "\n",
        "# Define the diffusion operator\n",
        "diffuser = QuantumCircuit(2)\n",
        "diffuser.h([0, 1])\n",
        "diffuser.x([0, 1])\n",
        "diffuser.h(1)\n",
        "diffuser.cx(0, 1)\n",
        "diffuser.h(1)\n",
        "diffuser.x([0, 1])\n",
        "diffuser.h([0, 1])\n",
        "diffuser.to_gate()\n",
        "diffuser.name = \"Diffuser\"\n",
        "\n",
        "# Grover's Algorithm Circuit\n",
        "grover = QuantumCircuit(2, 2)\n",
        "grover.h([0, 1])  # Apply Hadamard gates\n",
        "grover.append(oracle, [0, 1])\n",
        "grover.append(diffuser, [0, 1])\n",
        "grover.measure([0, 1], [0, 1])\n",
        "\n",
        "grover.draw('mpl')\n"
      ]
    },
    {
      "cell_type": "code",
      "execution_count": null,
      "metadata": {
        "colab": {
          "base_uri": "https://localhost:8080/",
          "height": 460
        },
        "id": "UJf_EX2IrfFI",
        "outputId": "4c1f8934-2ffd-48c9-d9b7-90c033396f95"
      },
      "outputs": [
        {
          "data": {
            "image/png": "[encoded data removed]",
            "text/plain": [
              "<Figure size 640x480 with 1 Axes>"
            ]
          },
          "execution_count": 22,
          "metadata": {},
          "output_type": "execute_result"
        }
      ],
      "source": [
        "# from qiskit.providers.aer import AerSimulator\n",
        "# from qiskit.providers.aer.noise import NoiseModel, depolarizing_error\n",
        "\n",
        "# Create a noise model\n",
        "noise_model = NoiseModel()\n",
        "\n",
        "# Add depolarizing error for single-qubit gates\n",
        "p1 = 0.01  # Probability of depolarizing error\n",
        "p2 = 0.02  # Probability of depolarizing error for 2-qubit gates\n",
        "noise_model.add_all_qubit_quantum_error(depolarizing_error(p1, 1), ['h', 'x'])\n",
        "noise_model.add_all_qubit_quantum_error(depolarizing_error(p2, 2), ['cx'])\n",
        "\n",
        "# Simulate with noise\n",
        "simulator = AerSimulator(noise_model=noise_model)\n",
        "tqc = transpile(grover, simulator)\n",
        "job = simulator.run(tqc)\n",
        "result = job.result()\n",
        "counts_noisy = result.get_counts()\n",
        "\n",
        "plot_histogram(counts_noisy, title=\"Noisy Results\")\n"
      ]
    },
    {
      "cell_type": "code",
      "execution_count": null,
      "metadata": {
        "id": "MhI4daxnrfHm"
      },
      "outputs": [],
      "source": [
        "#  from qiskit.ignis.mitigation.measurement import complete_meas_cal, CompleteMeasFitter\n",
        "from qiskit_experiments.library import StateTomography   # changed the import to qiskit_experiments\n",
        "\n",
        "# Generate measurement calibration circuits\n",
        "# meas_calibs, state_labels = complete_meas_cal(qr=qr, circlabel='measerrormit')\n",
        "# changed to use the StateTomography class\n",
        "# which is the new way of setting up tomography experiments in Qiskit Experiments.\n",
        "\n",
        "# Prepare the tomography experiment\n",
        "# The StateTomography class allows you to specify the circuits needed for tomography\n",
        "# and provides tools for analyzing the results\n",
        "tomo_exp = StateTomography(grover) # grover contains circuit\n",
        "\n",
        "# Generate the tomography circuits\n",
        "tomo_circuits = tomo_exp.circuits()\n",
        "\n",
        "# Execute the tomography circuits\n",
        "# Note that in your original code, you were running the calibration circuits on a simulator\n",
        "# We can update that to use the Aer simulator as an example here\n",
        "\n",
        "backend = AerSimulator()\n",
        "job = backend.run(tomo_circuits)\n",
        "# compiled_circuit = transpile(shor_circuit, simulator)\n",
        "# result = simulator.run(compiled_circuit).result()\n",
        "# Get the results\n",
        "# result = backend.run(tomo_circuits).result()\n",
        "# Process the results to reconstruct the density matrix\n",
        "#tomo_results = tomo_exp.analysis.run(result)  # or result to directly analyze the results\n",
        "# Get the counts\n",
        "counts = result.get_counts()\n"
      ]
    },
    {
      "cell_type": "code",
      "execution_count": null,
      "metadata": {
        "colab": {
          "base_uri": "https://localhost:8080/",
          "height": 211
        },
        "id": "8zZg_YKRrfKT",
        "outputId": "ffb8ecf8-dc6d-4730-d4db-b37f29ba9387"
      },
      "outputs": [
        {
          "ename": "AttributeError",
          "evalue": "'NoiseModel' object has no attribute '_instruction_errors'",
          "output_type": "error",
          "traceback": [
            "\u001b[0;31m---------------------------------------------------------------------------\u001b[0m",
            "\u001b[0;31mAttributeError\u001b[0m                            Traceback (most recent call last)",
            "\u001b[0;32m<ipython-input-32-692693ef35aa>\u001b[0m in \u001b[0;36m<cell line: 0>\u001b[0;34m()\u001b[0m\n\u001b[1;32m      9\u001b[0m     \u001b[0;31m# Instead of amplify_noise and noise_model.copy(), manually amplify the errors:\u001b[0m\u001b[0;34m\u001b[0m\u001b[0;34m\u001b[0m\u001b[0m\n\u001b[1;32m     10\u001b[0m     \u001b[0mamplified_noise_model\u001b[0m \u001b[0;34m=\u001b[0m \u001b[0mNoiseModel\u001b[0m\u001b[0;34m(\u001b[0m\u001b[0;34m)\u001b[0m  \u001b[0;31m# Create a new NoiseModel\u001b[0m\u001b[0;34m\u001b[0m\u001b[0;34m\u001b[0m\u001b[0m\n\u001b[0;32m---> 11\u001b[0;31m     \u001b[0;32mfor\u001b[0m \u001b[0minstruction_error\u001b[0m \u001b[0;32min\u001b[0m \u001b[0mnoise_model\u001b[0m\u001b[0;34m.\u001b[0m\u001b[0m_instruction_errors\u001b[0m\u001b[0;34m:\u001b[0m  \u001b[0;31m# Access error data\u001b[0m\u001b[0;34m\u001b[0m\u001b[0;34m\u001b[0m\u001b[0m\n\u001b[0m\u001b[1;32m     12\u001b[0m         \u001b[0;32mfor\u001b[0m \u001b[0mqubits\u001b[0m\u001b[0;34m,\u001b[0m \u001b[0merror\u001b[0m \u001b[0;32min\u001b[0m \u001b[0minstruction_error\u001b[0m\u001b[0;34m:\u001b[0m\u001b[0;34m\u001b[0m\u001b[0;34m\u001b[0m\u001b[0m\n\u001b[1;32m     13\u001b[0m             \u001b[0;31m# Amplify the error probability (be careful not to exceed 1)\u001b[0m\u001b[0;34m\u001b[0m\u001b[0;34m\u001b[0m\u001b[0m\n",
            "\u001b[0;31mAttributeError\u001b[0m: 'NoiseModel' object has no attribute '_instruction_errors'"
          ]
        }
      ],
      "source": [
        "# from qiskit_aer import amplify_noise\n",
        "from qiskit_aer.noise import NoiseModel\n",
        "\n",
        "# Amplify noise (simulate running at higher noise levels)\n",
        "noise_factors = [1, 2, 3]  # Different noise strengths\n",
        "results = []\n",
        "\n",
        "for factor in noise_factors:\n",
        "    # Instead of amplify_noise and noise_model.copy(), manually amplify the errors:\n",
        "    amplified_noise_model = NoiseModel()  # Create a new NoiseModel\n",
        "    for instruction_error in noise_model._instruction_errors:  # Access error data\n",
        "        for qubits, error in instruction_error:\n",
        "            # Amplify the error probability (be careful not to exceed 1)\n",
        "            amplified_error = error.copy()  # Copy the error to modify safely\n",
        "            for i in range(len(amplified_error.probabilities)):\n",
        "                amplified_error.probabilities[i] *= min(factor, 1.0 / amplified_error.probabilities[i])\n",
        "\n",
        "            amplified_noise_model.add_quantum_error(amplified_error, instruction_error[0][0], qubits) # adding error to noise model\n",
        "\n",
        "    # Add other error types (readout, reset) similarly if needed\n",
        "\n",
        "    simulator = AerSimulator(noise_model=amplified_noise_model)\n",
        "    job = simulator.run(tqc)\n",
        "    results.append(job.result().get_counts())\n",
        "# Perform extrapolation (simple linear regression for now)\n",
        "import numpy as np\n",
        "x = np.array(noise_factors)\n",
        "y = np.array([list(res.values())[0] for res in results])  # Extract probabilities\n",
        "fit = np.polyfit(x, y, 1)\n",
        "extrapolated_value = np.polyval(fit, 0)  # Extrapolate to zero noise\n",
        "\n",
        "print(\"Extrapolated Zero-Noise Result:\", extrapolated_value)\n"
      ]
    },
    {
      "cell_type": "code",
      "source": [
        "# -*- coding: utf-8 -*-\n",
        "\n",
        "\"\"\"Generates circuits for quantum error correction with surface code patches.\"\"\"\n",
        "\n",
        "import qiskit\n",
        "from qiskit import QuantumRegister, ClassicalRegister\n",
        "import copy\n",
        "import warnings\n",
        "import networkx as nx\n",
        "import numpy as np\n",
        "from qiskit import QuantumCircuit\n",
        "from random import randrange\n",
        "import matplotlib\n",
        "\n",
        "try:\n",
        "    from qiskit_aer import AerSimulator\n",
        "\n",
        "    HAS_AER = True\n",
        "except ImportError:\n",
        "    from qiskit_aer import BasicAer\n",
        "\n",
        "    HAS_AER = False\n",
        "\n",
        "\n",
        "class SurfaceCode:\n",
        "    \"\"\"\n",
        "    Implementation of a distance d surface code, implemented over\n",
        "    T syndrome measurement rounds.\n",
        "    \"\"\"\n",
        "\n",
        "    def __init__(self, d, T):\n",
        "        \"\"\"\n",
        "        Creates the circuits corresponding to a logical 0 encoded\n",
        "        using a surface code with X and Z stabilizers.\n",
        "        Args:\n",
        "            d (int): Number of physical \"data\" qubits. Only odd d's allowed\n",
        "            T (int): Number of rounds of ancilla-assisted syndrome measurement. Normally T=d\n",
        "        Additional information:\n",
        "            No measurements are added to the circuit if `T=0`. Otherwise\n",
        "            `T` rounds are added, followed by measurement of the code\n",
        "            qubits (corresponding to a logical measurement and final\n",
        "            syndrome measurement round)\n",
        "            This circuit is for \"rotated lattices\" i.e. it requires\n",
        "            d**2 data qubits and d**2-1 syndrome qubits only. Hence,\n",
        "            d=odd allows equal number of Z and X stabilizer mesaurments.\n",
        "        \"\"\"\n",
        "        self.d = d\n",
        "        self.T = 0\n",
        "        self.data = QuantumRegister(d ** 2, \"data\")\n",
        "        self.ancilla = QuantumRegister((d ** 2 - 1), \"ancilla\")\n",
        "        self.qubit_registers = {\"data\", \"ancilla\"}\n",
        "        self.output = []\n",
        "        self.circuit = {}\n",
        "        self.c_output = ClassicalRegister(d ** 2, \"c_output\")\n",
        "\n",
        "        \"\"\"This code creates circuits only for log='0' but it can be easily\n",
        "        modified to accomodate circuuit for log='1' \"\"\"\n",
        "\n",
        "        for log in [\"0\", \"1\"]:\n",
        "            self.circuit[log] = QuantumCircuit(self.ancilla, self.data, name=log)\n",
        "\n",
        "        #        self._preparation() to be included to create log='1'\n",
        "\n",
        "        for _ in range(T - 1):\n",
        "            self.syndrome_measurement()\n",
        "\n",
        "        if T != 0:\n",
        "            self.syndrome_measurement(reset=False)\n",
        "            self.readout()\n",
        "\n",
        "    def get_circuit_list(self):\n",
        "        \"\"\"\n",
        "        Returns:\n",
        "            circuit_list: self.circuit as a list, with\n",
        "            circuit_list[0] = circuit['0']\n",
        "            circuit_list[1] = circuit['1']\n",
        "        \"\"\"\n",
        "        circuit_list = [self.circuit[log] for log in [\"0\", \"1\"]]\n",
        "        return circuit_list\n",
        "\n",
        "    \"\"\"It assigns vertices to qubits on a 2D graph, where,\n",
        "    data qubits are on the x lines and, syndrome qubits are\n",
        "    on the 0.5+x lines, in the cartesian coordinate system, where x is an integer.\"\"\"\n",
        "\n",
        "    def lattice(self):\n",
        "        d = self.d\n",
        "        data_string = nx.Graph()\n",
        "        syndrome_string = nx.Graph()\n",
        "        for i in range(0, d):\n",
        "            for j in range(0, d):\n",
        "                data_string.add_node((i, j))\n",
        "        for k in range(0, d, 1):\n",
        "            for i in range(0, d + 1, 1):\n",
        "                for j in range(0, d + 1, 1):\n",
        "                    if (i + j) % 2 != 0:\n",
        "                        if ((i % 2 == 0) and j != d) or ((i % 2 == 1) and (j != 0)):\n",
        "                            syndrome_string.add_node(((2 * i - 1) / 2, (2 * j - 1) / 2))\n",
        "                    else:\n",
        "                        if ((j % 2 == 0) and i != 0) or ((j % 2 == 1) and (i != d)):\n",
        "                            syndrome_string.add_node(((2 * i - 1) / 2, (2 * j - 1) / 2))\n",
        "\n",
        "        syn_ind = list(syndrome_string.nodes)\n",
        "        data_ind = list(data_string.nodes)\n",
        "        return (syn_ind, data_ind)\n",
        "\n",
        "    \"\"\"List of nodes on the 2D lattice graph returned\"\"\"\n",
        "    # def x \"\"\"to be included to execute self._preparation for log='1' \"\"\"\n",
        "\n",
        "    # def _preparation(self):\n",
        "    \"\"\" prapares log '1' from log '0' circuit by applying x logical to the lattice\"\"\"\n",
        "\n",
        "    def connection(self):\n",
        "        \"\"\"\n",
        "        Determines the order of syndrome measurements between data qubits and syndrome qubits.\n",
        "        We follow the ZN rule here to avoid hook error as described by [https://doi.org/10.1063/1.1499754]\n",
        "        where Z stabilisers are arranged in 'Z' pattern and X stabilizers in 'N' pattern.\n",
        "        Refer to the diagram in readme to get the refrence.\n",
        "        \"\"\"\n",
        "        syn_index, data_index = self.lattice()\n",
        "\n",
        "        order = []\n",
        "        for i in range(self.d ** 2 - 1):\n",
        "            d = data_index\n",
        "            r = syn_index[i][0]\n",
        "            c = syn_index[i][1]\n",
        "\n",
        "            def get_index(j):\n",
        "                for i in range(len(data_index)):\n",
        "                    if data_index[i] == j:\n",
        "                        return i\n",
        "\n",
        "            new = []\n",
        "            new.append((r, c))\n",
        "            if r == -0.5:  # top semicircile\n",
        "                new.append(-1)\n",
        "                new.append(get_index((r + 0.5, c - 0.5)))\n",
        "                new.append(-1)\n",
        "                new.append(get_index((r + 0.5, c + 0.5)))\n",
        "            elif c == -0.5:  # left semicircle\n",
        "                new.append(-1)\n",
        "                new.append(get_index((r - 0.5, c + 0.5)))\n",
        "                new.append(-1)\n",
        "                new.append(get_index((r + 0.5, c + 0.5)))\n",
        "\n",
        "            elif r == self.d - 0.5:  # bottom semicircle\n",
        "\n",
        "                new.append(get_index((r - 0.5, c - 0.5)))\n",
        "                new.append(-1)\n",
        "                new.append(get_index((r - 0.5, c + 0.5)))\n",
        "                new.append(-1)\n",
        "\n",
        "            elif c == self.d - 0.5:  # right semicircle\n",
        "                new.append(get_index((r - 0.5, c - 0.5)))\n",
        "                new.append(-1)\n",
        "                new.append(get_index((r + 0.5, c - 0.5)))\n",
        "                new.append(-1)\n",
        "            else:\n",
        "                if (r + c) % 2 == 0:  # square patches\n",
        "                    new.append(get_index((r - 0.5, c - 0.5)))\n",
        "                    new.append(get_index((r + 0.5, c - 0.5)))\n",
        "                    new.append(get_index((r - 0.5, c + 0.5)))\n",
        "                    new.append(get_index((r + 0.5, c + 0.5)))\n",
        "                else:\n",
        "                    new.append(get_index((r - 0.5, c - 0.5)))\n",
        "                    new.append(get_index((r - 0.5, c + 0.5)))\n",
        "                    new.append(get_index((r + 0.5, c - 0.5)))\n",
        "                    new.append(get_index((r + 0.5, c + 0.5)))\n",
        "            order.append(new)\n",
        "        return order\n",
        "\n",
        "    def syndrome_measurement(self, reset=True, barrier=True):\n",
        "        \"\"\"\n",
        "            Application of a syndrome measurement round.\n",
        "            Args:\n",
        "                reset (bool): If set to true add a boolean at the end of each round\n",
        "                barrier (bool): Boolean denoting whether to include a barrier at the end.\n",
        "                A barrier is included after every round of 'j' which passes through layers of\n",
        "                cx to be done, because the order should not be disturbed else the stabilizers\n",
        "                will not be executed since Z and X on the same qubit do not commute. Thus,\n",
        "                we end up flipping the sign of some stabilizers.\n",
        "            \"\"\"\n",
        "        self.output.append(\n",
        "            ClassicalRegister((self.d ** 2 - 1), \"round_\" + str(self.T) + \"ancilla\")\n",
        "        )\n",
        "\n",
        "        for log in [\"0\", \"1\"]:\n",
        "            self.circuit[log].add_register(self.output[-1])\n",
        "            order = self.connection()\n",
        "            for j in range(1, 5):\n",
        "                for i in range(len(order)):\n",
        "                    k = self.data[order[i][j]]\n",
        "                    l = self.ancilla[i]\n",
        "                    if (order[i][0][0] + order[i][0][1]) % 2 == 0:  # Xstabilizer\n",
        "                        if j == 1:\n",
        "                            self.circuit[log].h(l)\n",
        "                        if order[i][j] != -1:\n",
        "                            self.circuit[log].cx(l, k)\n",
        "                        if j == 4:\n",
        "                            self.circuit[log].h(l)\n",
        "                    else:  # Xstabilizer\n",
        "                        if order[i][j] != -1:\n",
        "                            self.circuit[log].cx(k, l)\n",
        "                if barrier:\n",
        "                    self.circuit[log].barrier()\n",
        "\n",
        "            for j in range(self.d ** 2 - 1):\n",
        "                if (order[j][0][0] + order[j][0][1]) % 2 == 1:  # Z\n",
        "                    self.circuit[log].measure(self.ancilla[j], self.output[self.T][j])\n",
        "                if reset:\n",
        "                    self.circuit[log].reset(self.ancilla[j])\n",
        "\n",
        "            self.circuit[log].barrier()\n",
        "\n",
        "            for j in range(self.d ** 2 - 1):\n",
        "                if (order[j][0][0] + order[j][0][1]) % 2 == 0:  # X\n",
        "                    self.circuit[log].measure(self.ancilla[j], self.output[self.T][j])\n",
        "                if reset:\n",
        "                    self.circuit[log].reset(self.ancilla[j])\n",
        "\n",
        "        self.T += 1\n",
        "\n",
        "    def readout(self):\n",
        "        \"\"\"\n",
        "        Readout of all code qubits, which corresponds to a logical measurement\n",
        "        as well as allowing for a measurement of the syndrome to be inferred.\n",
        "        \"\"\"\n",
        "        for log in [\"0\", \"1\"]:\n",
        "            self.circuit[log].add_register(self.c_output)\n",
        "            for i in range(self.d ** 2):\n",
        "                self.circuit[log].measure(self.data[i], self.c_output[i])\n",
        "\n",
        "    def process_results(self, raw_results):\n",
        "        \"\"\"\n",
        "        Args:\n",
        "            raw_results (dict): A dictionary whose keys are logical values,\n",
        "                and whose values are standard counts dictionaries, (as\n",
        "                obtained from the `get_counts` method of a ``qiskit.Result``\n",
        "                object).\n",
        "        Returns:\n",
        "            syn: d+1 dimensional array where 0th array stores qubit readouts\n",
        "            while the subsequesnt rows store the results from measurement rounds\n",
        "            as required for extraction of nodes with errors to be sent to the decoder\n",
        "        Additional information:\n",
        "            The circuits must be executed outside of this class, so that\n",
        "            their is full freedom to compile, choose a backend, use a\n",
        "            noise model, etc. The results from these executions should then\n",
        "            be used to create the input for this method.\n",
        "        \"\"\"\n",
        "        results = []\n",
        "        results = list(max(raw_results, key=raw_results.get))\n",
        "\n",
        "        syn = []\n",
        "        new = []\n",
        "        for i in results:\n",
        "            for j in range(len(i)):\n",
        "                if i[j] != \" \":\n",
        "                    new.append(int(i[j]))\n",
        "                else:\n",
        "                    syn.append(new)\n",
        "                    new = []\n",
        "        syn.append(new)\n",
        "\n",
        "        return syn\n",
        "\n",
        "    def extract_nodes(self, syn_meas_results):\n",
        "        \"\"\"Extracts node locations of qubits which flipped in\n",
        "        consecutive rounds (stored as (k,i,j)) and the data qubits which were flipped\n",
        "        during readout (stored as (-2,i,j)). Here k spans range(0,d-1,1)\n",
        "        Z syndrome nodes and Z logical data qubit nodes (see figure) in error_nodesZ\n",
        "        and we do the same for X stabilizers and X logical qubits in error_nodesX.\n",
        "        Note that arrays are reversed in terms of syndrome rounds, when compared to\n",
        "        syn_meas_results\n",
        "        \"\"\"\n",
        "        processed_results = []\n",
        "        new = []\n",
        "        for j in syn_meas_results[0]:\n",
        "            new.append(j)\n",
        "        processed_results.append(new)\n",
        "        new = []\n",
        "        for j in syn_meas_results[len(syn_meas_results) - 1]:\n",
        "            new.append(j)\n",
        "        processed_results.append(new)\n",
        "\n",
        "        for i in range(len(syn_meas_results) - 2, 0, -1):\n",
        "            new = []\n",
        "            for j in range(0, len(syn_meas_results[i])):\n",
        "                new.append((syn_meas_results[i][j] + syn_meas_results[i + 1][j]) % 2)\n",
        "            processed_results.append(new)\n",
        "\n",
        "        syn, dat = self.lattice()\n",
        "        error_nodesX = []\n",
        "        error_nodesZ = []\n",
        "\n",
        "        # first_row = processed_result[0][:self.d]\n",
        "        # last_row = processed_result[0][-self.d - 1:-1]\n",
        "\n",
        "        # left_col = processed_result[0][::self.d]\n",
        "        # right_col = processed_result[0][self.d-1:-1:self.d]\n",
        "\n",
        "        # if sum(first_row) % 2 == 1 or sum(last_row) % 2 == 1:\n",
        "        #     for node in dat[:self.d]:\n",
        "        #         # Append virtual node\n",
        "        #         if node[1] == 0:\n",
        "        #             error_nodesZ.append((-1, node[0] - 0.5, node[1] - 0.5))\n",
        "        #         else:\n",
        "        #             error_nodesZ.append((-1, node[0] - 0.5, node[1] + 0.5))\n",
        "\n",
        "        #     for node in dat[-self.d - 1:-1]:\n",
        "        #         if node[1] == self.d - 1:\n",
        "        #             error_nodesZ.append((-1, node[0] + 0.5, node[1] + 0.5))\n",
        "        #         else:\n",
        "        #             error_nodesZ.append((-1, node[0] + 0.5, node[1] - 0.5))\n",
        "\n",
        "        # if sum(left_col) % 2 == 1 or sum(right_col) % 2 == 1:\n",
        "        #     for node in dat[::self.d]:\n",
        "        #         error_nodesX.append((-2, node[0], node[1]))\n",
        "        #     for node in dat[self.d-1:-1:self.d]:\n",
        "        #         error_nodesX.append((-2, node[0], node[1]))\n",
        "\n",
        "        for i in range(1, len(processed_results)):\n",
        "            for j in range(len(processed_results[i])):\n",
        "\n",
        "                if processed_results[i][j] == 1:\n",
        "\n",
        "                    if (syn[j][0] + syn[j][1]) % 2 == 0:\n",
        "                        error_nodesX.append((i - 1, syn[j][0], syn[j][1]))\n",
        "                    else:\n",
        "                        error_nodesZ.append((i - 1, syn[j][0], syn[j][1]))\n",
        "        return error_nodesX, error_nodesZ"
      ],
      "metadata": {
        "id": "aDYTlCO9yARL"
      },
      "execution_count": 58,
      "outputs": []
    },
    {
      "cell_type": "code",
      "execution_count": null,
      "metadata": {
        "id": "4DVB0b4-rfNC"
      },
      "outputs": [],
      "source": []
    },
    {
      "cell_type": "code",
      "execution_count": null,
      "metadata": {
        "id": "NKQJhpqQrfPv"
      },
      "outputs": [],
      "source": []
    },
    {
      "cell_type": "code",
      "execution_count": null,
      "metadata": {
        "id": "NTNBjXo_rfSl"
      },
      "outputs": [],
      "source": []
    },
    {
      "cell_type": "code",
      "execution_count": null,
      "metadata": {
        "id": "EgQe_b--rfVf"
      },
      "outputs": [],
      "source": []
    },
    {
      "cell_type": "code",
      "execution_count": null,
      "metadata": {
        "id": "QntxTa4nrfYN"
      },
      "outputs": [],
      "source": []
    },
    {
      "cell_type": "code",
      "execution_count": null,
      "metadata": {
        "id": "yhAqfbjMrfbU"
      },
      "outputs": [],
      "source": []
    },
    {
      "cell_type": "markdown",
      "metadata": {
        "id": "hq43DZNV5rZS"
      },
      "source": [
        "**Fidelity is a measure of how similar two quantum states are. It ranges from 0 to 1, where:**\n",
        "\n",
        "Fidelity = 1 → The two states are identical (perfect match).\n",
        "\n",
        "\n",
        "0 < Fidelity < 1 → The two states are partially similar, with higher values meaning more similarity.\n",
        "\n",
        "\n",
        "Fidelity = 0 → The two states are completely different (orthogonal states)."
      ]
    },
    {
      "cell_type": "code",
      "execution_count": null,
      "metadata": {
        "id": "7zynwvumTVqM"
      },
      "outputs": [],
      "source": [
        "# fidelity to check whether the two states are"
      ]
    },
    {
      "cell_type": "code",
      "execution_count": null,
      "metadata": {
        "id": "fe5KdiBQ429J"
      },
      "outputs": [],
      "source": []
    },
    {
      "cell_type": "markdown",
      "metadata": {
        "id": "2jfa8qHLxvAB"
      },
      "source": [
        "QEC"
      ]
    },
    {
      "cell_type": "code",
      "execution_count": null,
      "metadata": {
        "colab": {
          "base_uri": "https://localhost:8080/"
        },
        "id": "DqRe53Pt42xo",
        "outputId": "83700687-ee1f-47a3-ba50-6d0fcae77307"
      },
      "outputs": [
        {
          "name": "stdout",
          "output_type": "stream",
          "text": [
            "Collecting qiskit-experiments\n",
            "  Downloading qiskit_experiments-0.8.1-py3-none-any.whl.metadata (3.9 kB)\n",
            "Requirement already satisfied: numpy>=1.17 in /usr/local/lib/python3.11/dist-packages (from qiskit-experiments) (1.26.4)\n",
            "Requirement already satisfied: scipy>=1.4 in /usr/local/lib/python3.11/dist-packages (from qiskit-experiments) (1.13.1)\n",
            "Requirement already satisfied: qiskit>=0.45 in /usr/local/lib/python3.11/dist-packages (from qiskit-experiments) (1.3.2)\n",
            "Collecting qiskit-ibm-experiment>=0.4.6 (from qiskit-experiments)\n",
            "  Downloading qiskit_ibm_experiment-0.4.8-py3-none-any.whl.metadata (6.1 kB)\n",
            "Requirement already satisfied: qiskit-ibm-runtime>=0.29.0 in /usr/local/lib/python3.11/dist-packages (from qiskit-experiments) (0.36.1)\n",
            "Requirement already satisfied: matplotlib>=3.4 in /usr/local/lib/python3.11/dist-packages (from qiskit-experiments) (3.10.0)\n",
            "Collecting uncertainties (from qiskit-experiments)\n",
            "  Downloading uncertainties-3.2.2-py3-none-any.whl.metadata (6.9 kB)\n",
            "Collecting lmfit (from qiskit-experiments)\n",
            "  Downloading lmfit-1.3.2-py3-none-any.whl.metadata (13 kB)\n",
            "Requirement already satisfied: rustworkx in /usr/local/lib/python3.11/dist-packages (from qiskit-experiments) (0.16.0)\n",
            "Requirement already satisfied: pandas>=1.1.5 in /usr/local/lib/python3.11/dist-packages (from qiskit-experiments) (2.2.2)\n",
            "Requirement already satisfied: packaging in /usr/local/lib/python3.11/dist-packages (from qiskit-experiments) (24.2)\n",
            "Requirement already satisfied: contourpy>=1.0.1 in /usr/local/lib/python3.11/dist-packages (from matplotlib>=3.4->qiskit-experiments) (1.3.1)\n",
            "Requirement already satisfied: cycler>=0.10 in /usr/local/lib/python3.11/dist-packages (from matplotlib>=3.4->qiskit-experiments) (0.12.1)\n",
            "Requirement already satisfied: fonttools>=4.22.0 in /usr/local/lib/python3.11/dist-packages (from matplotlib>=3.4->qiskit-experiments) (4.56.0)\n",
            "Requirement already satisfied: kiwisolver>=1.3.1 in /usr/local/lib/python3.11/dist-packages (from matplotlib>=3.4->qiskit-experiments) (1.4.8)\n",
            "Requirement already satisfied: pillow>=8 in /usr/local/lib/python3.11/dist-packages (from matplotlib>=3.4->qiskit-experiments) (11.1.0)\n",
            "Requirement already satisfied: pyparsing>=2.3.1 in /usr/local/lib/python3.11/dist-packages (from matplotlib>=3.4->qiskit-experiments) (3.2.1)\n",
            "Requirement already satisfied: python-dateutil>=2.7 in /usr/local/lib/python3.11/dist-packages (from matplotlib>=3.4->qiskit-experiments) (2.8.2)\n",
            "Requirement already satisfied: pytz>=2020.1 in /usr/local/lib/python3.11/dist-packages (from pandas>=1.1.5->qiskit-experiments) (2025.1)\n",
            "Requirement already satisfied: tzdata>=2022.7 in /usr/local/lib/python3.11/dist-packages (from pandas>=1.1.5->qiskit-experiments) (2025.1)\n",
            "Requirement already satisfied: sympy>=1.3 in /usr/local/lib/python3.11/dist-packages (from qiskit>=0.45->qiskit-experiments) (1.13.1)\n",
            "Requirement already satisfied: dill>=0.3 in /usr/local/lib/python3.11/dist-packages (from qiskit>=0.45->qiskit-experiments) (0.3.9)\n",
            "Requirement already satisfied: stevedore>=3.0.0 in /usr/local/lib/python3.11/dist-packages (from qiskit>=0.45->qiskit-experiments) (5.4.0)\n",
            "Requirement already satisfied: typing-extensions in /usr/local/lib/python3.11/dist-packages (from qiskit>=0.45->qiskit-experiments) (4.12.2)\n",
            "Requirement already satisfied: symengine<0.14,>=0.11 in /usr/local/lib/python3.11/dist-packages (from qiskit>=0.45->qiskit-experiments) (0.13.0)\n",
            "Requirement already satisfied: requests>=2.19 in /usr/local/lib/python3.11/dist-packages (from qiskit-ibm-experiment>=0.4.6->qiskit-experiments) (2.32.3)\n",
            "Requirement already satisfied: requests-ntlm>=1.1.0 in /usr/local/lib/python3.11/dist-packages (from qiskit-ibm-experiment>=0.4.6->qiskit-experiments) (1.3.0)\n",
            "Requirement already satisfied: urllib3>=1.21.1 in /usr/local/lib/python3.11/dist-packages (from qiskit-ibm-experiment>=0.4.6->qiskit-experiments) (2.3.0)\n",
            "Requirement already satisfied: websocket-client>=1.0.1 in /usr/local/lib/python3.11/dist-packages (from qiskit-ibm-experiment>=0.4.6->qiskit-experiments) (1.8.0)\n",
            "Requirement already satisfied: pyyaml>=6.0.0 in /usr/local/lib/python3.11/dist-packages (from qiskit-ibm-experiment>=0.4.6->qiskit-experiments) (6.0.2)\n",
            "Requirement already satisfied: ibm-platform-services>=0.22.6 in /usr/local/lib/python3.11/dist-packages (from qiskit-ibm-runtime>=0.29.0->qiskit-experiments) (0.59.1)\n",
            "Requirement already satisfied: pydantic<2.10,>=2.5.0 in /usr/local/lib/python3.11/dist-packages (from qiskit-ibm-runtime>=0.29.0->qiskit-experiments) (2.9.2)\n",
            "Collecting asteval>=1.0 (from lmfit->qiskit-experiments)\n",
            "  Downloading asteval-1.0.6-py3-none-any.whl.metadata (6.2 kB)\n",
            "Requirement already satisfied: ibm_cloud_sdk_core<4.0.0,>=3.22.0 in /usr/local/lib/python3.11/dist-packages (from ibm-platform-services>=0.22.6->qiskit-ibm-runtime>=0.29.0->qiskit-experiments) (3.22.1)\n",
            "Requirement already satisfied: annotated-types>=0.6.0 in /usr/local/lib/python3.11/dist-packages (from pydantic<2.10,>=2.5.0->qiskit-ibm-runtime>=0.29.0->qiskit-experiments) (0.7.0)\n",
            "Requirement already satisfied: pydantic-core==2.23.4 in /usr/local/lib/python3.11/dist-packages (from pydantic<2.10,>=2.5.0->qiskit-ibm-runtime>=0.29.0->qiskit-experiments) (2.23.4)\n",
            "Requirement already satisfied: six>=1.5 in /usr/local/lib/python3.11/dist-packages (from python-dateutil>=2.7->matplotlib>=3.4->qiskit-experiments) (1.17.0)\n",
            "Requirement already satisfied: charset-normalizer<4,>=2 in /usr/local/lib/python3.11/dist-packages (from requests>=2.19->qiskit-ibm-experiment>=0.4.6->qiskit-experiments) (3.4.1)\n",
            "Requirement already satisfied: idna<4,>=2.5 in /usr/local/lib/python3.11/dist-packages (from requests>=2.19->qiskit-ibm-experiment>=0.4.6->qiskit-experiments) (3.10)\n",
            "Requirement already satisfied: certifi>=2017.4.17 in /usr/local/lib/python3.11/dist-packages (from requests>=2.19->qiskit-ibm-experiment>=0.4.6->qiskit-experiments) (2025.1.31)\n",
            "Requirement already satisfied: cryptography>=1.3 in /usr/local/lib/python3.11/dist-packages (from requests-ntlm>=1.1.0->qiskit-ibm-experiment>=0.4.6->qiskit-experiments) (43.0.3)\n",
            "Requirement already satisfied: pyspnego>=0.4.0 in /usr/local/lib/python3.11/dist-packages (from requests-ntlm>=1.1.0->qiskit-ibm-experiment>=0.4.6->qiskit-experiments) (0.11.2)\n",
            "Requirement already satisfied: pbr>=2.0.0 in /usr/local/lib/python3.11/dist-packages (from stevedore>=3.0.0->qiskit>=0.45->qiskit-experiments) (6.1.1)\n",
            "Requirement already satisfied: mpmath<1.4,>=1.1.0 in /usr/local/lib/python3.11/dist-packages (from sympy>=1.3->qiskit>=0.45->qiskit-experiments) (1.3.0)\n",
            "Requirement already satisfied: cffi>=1.12 in /usr/local/lib/python3.11/dist-packages (from cryptography>=1.3->requests-ntlm>=1.1.0->qiskit-ibm-experiment>=0.4.6->qiskit-experiments) (1.17.1)\n",
            "Requirement already satisfied: PyJWT<3.0.0,>=2.8.0 in /usr/local/lib/python3.11/dist-packages (from ibm_cloud_sdk_core<4.0.0,>=3.22.0->ibm-platform-services>=0.22.6->qiskit-ibm-runtime>=0.29.0->qiskit-experiments) (2.10.1)\n",
            "Requirement already satisfied: setuptools in /usr/local/lib/python3.11/dist-packages (from pbr>=2.0.0->stevedore>=3.0.0->qiskit>=0.45->qiskit-experiments) (75.1.0)\n",
            "Requirement already satisfied: pycparser in /usr/local/lib/python3.11/dist-packages (from cffi>=1.12->cryptography>=1.3->requests-ntlm>=1.1.0->qiskit-ibm-experiment>=0.4.6->qiskit-experiments) (2.22)\n",
            "Downloading qiskit_experiments-0.8.1-py3-none-any.whl (753 kB)\n",
            "\u001b[2K   \u001b[90m━━━━━━━━━━━━━━━━━━━━━━━━━━━━━━━━━━━━━━━━\u001b[0m \u001b[32m753.8/753.8 kB\u001b[0m \u001b[31m15.9 MB/s\u001b[0m eta \u001b[36m0:00:00\u001b[0m\n",
            "\u001b[?25hDownloading qiskit_ibm_experiment-0.4.8-py3-none-any.whl (57 kB)\n",
            "\u001b[2K   \u001b[90m━━━━━━━━━━━━━━━━━━━━━━━━━━━━━━━━━━━━━━━━\u001b[0m \u001b[32m57.3/57.3 kB\u001b[0m \u001b[31m3.0 MB/s\u001b[0m eta \u001b[36m0:00:00\u001b[0m\n",
            "\u001b[?25hDownloading lmfit-1.3.2-py3-none-any.whl (98 kB)\n",
            "\u001b[2K   \u001b[90m━━━━━━━━━━━━━━━━━━━━━━━━━━━━━━━━━━━━━━━━\u001b[0m \u001b[32m98.9/98.9 kB\u001b[0m \u001b[31m6.0 MB/s\u001b[0m eta \u001b[36m0:00:00\u001b[0m\n",
            "\u001b[?25hDownloading uncertainties-3.2.2-py3-none-any.whl (58 kB)\n",
            "\u001b[2K   \u001b[90m━━━━━━━━━━━━━━━━━━━━━━━━━━━━━━━━━━━━━━━━\u001b[0m \u001b[32m58.3/58.3 kB\u001b[0m \u001b[31m2.8 MB/s\u001b[0m eta \u001b[36m0:00:00\u001b[0m\n",
            "\u001b[?25hDownloading asteval-1.0.6-py3-none-any.whl (22 kB)\n",
            "Installing collected packages: uncertainties, asteval, lmfit, qiskit-ibm-experiment, qiskit-experiments\n",
            "Successfully installed asteval-1.0.6 lmfit-1.3.2 qiskit-experiments-0.8.1 qiskit-ibm-experiment-0.4.8 uncertainties-3.2.2\n",
            "Requirement already satisfied: qiskit-experiments in /usr/local/lib/python3.11/dist-packages (0.8.1)\n",
            "Requirement already satisfied: numpy>=1.17 in /usr/local/lib/python3.11/dist-packages (from qiskit-experiments) (1.26.4)\n",
            "Requirement already satisfied: scipy>=1.4 in /usr/local/lib/python3.11/dist-packages (from qiskit-experiments) (1.13.1)\n",
            "Requirement already satisfied: qiskit>=0.45 in /usr/local/lib/python3.11/dist-packages (from qiskit-experiments) (1.3.2)\n",
            "Requirement already satisfied: qiskit-ibm-experiment>=0.4.6 in /usr/local/lib/python3.11/dist-packages (from qiskit-experiments) (0.4.8)\n",
            "Requirement already satisfied: qiskit-ibm-runtime>=0.29.0 in /usr/local/lib/python3.11/dist-packages (from qiskit-experiments) (0.36.1)\n",
            "Requirement already satisfied: matplotlib>=3.4 in /usr/local/lib/python3.11/dist-packages (from qiskit-experiments) (3.10.0)\n",
            "Requirement already satisfied: uncertainties in /usr/local/lib/python3.11/dist-packages (from qiskit-experiments) (3.2.2)\n",
            "Requirement already satisfied: lmfit in /usr/local/lib/python3.11/dist-packages (from qiskit-experiments) (1.3.2)\n",
            "Requirement already satisfied: rustworkx in /usr/local/lib/python3.11/dist-packages (from qiskit-experiments) (0.16.0)\n",
            "Requirement already satisfied: pandas>=1.1.5 in /usr/local/lib/python3.11/dist-packages (from qiskit-experiments) (2.2.2)\n",
            "Requirement already satisfied: packaging in /usr/local/lib/python3.11/dist-packages (from qiskit-experiments) (24.2)\n",
            "Requirement already satisfied: contourpy>=1.0.1 in /usr/local/lib/python3.11/dist-packages (from matplotlib>=3.4->qiskit-experiments) (1.3.1)\n",
            "Requirement already satisfied: cycler>=0.10 in /usr/local/lib/python3.11/dist-packages (from matplotlib>=3.4->qiskit-experiments) (0.12.1)\n",
            "Requirement already satisfied: fonttools>=4.22.0 in /usr/local/lib/python3.11/dist-packages (from matplotlib>=3.4->qiskit-experiments) (4.56.0)\n",
            "Requirement already satisfied: kiwisolver>=1.3.1 in /usr/local/lib/python3.11/dist-packages (from matplotlib>=3.4->qiskit-experiments) (1.4.8)\n",
            "Requirement already satisfied: pillow>=8 in /usr/local/lib/python3.11/dist-packages (from matplotlib>=3.4->qiskit-experiments) (11.1.0)\n",
            "Requirement already satisfied: pyparsing>=2.3.1 in /usr/local/lib/python3.11/dist-packages (from matplotlib>=3.4->qiskit-experiments) (3.2.1)\n",
            "Requirement already satisfied: python-dateutil>=2.7 in /usr/local/lib/python3.11/dist-packages (from matplotlib>=3.4->qiskit-experiments) (2.8.2)\n",
            "Requirement already satisfied: pytz>=2020.1 in /usr/local/lib/python3.11/dist-packages (from pandas>=1.1.5->qiskit-experiments) (2025.1)\n",
            "Requirement already satisfied: tzdata>=2022.7 in /usr/local/lib/python3.11/dist-packages (from pandas>=1.1.5->qiskit-experiments) (2025.1)\n",
            "Requirement already satisfied: sympy>=1.3 in /usr/local/lib/python3.11/dist-packages (from qiskit>=0.45->qiskit-experiments) (1.13.1)\n",
            "Requirement already satisfied: dill>=0.3 in /usr/local/lib/python3.11/dist-packages (from qiskit>=0.45->qiskit-experiments) (0.3.9)\n",
            "Requirement already satisfied: stevedore>=3.0.0 in /usr/local/lib/python3.11/dist-packages (from qiskit>=0.45->qiskit-experiments) (5.4.0)\n",
            "Requirement already satisfied: typing-extensions in /usr/local/lib/python3.11/dist-packages (from qiskit>=0.45->qiskit-experiments) (4.12.2)\n",
            "Requirement already satisfied: symengine<0.14,>=0.11 in /usr/local/lib/python3.11/dist-packages (from qiskit>=0.45->qiskit-experiments) (0.13.0)\n",
            "Requirement already satisfied: requests>=2.19 in /usr/local/lib/python3.11/dist-packages (from qiskit-ibm-experiment>=0.4.6->qiskit-experiments) (2.32.3)\n",
            "Requirement already satisfied: requests-ntlm>=1.1.0 in /usr/local/lib/python3.11/dist-packages (from qiskit-ibm-experiment>=0.4.6->qiskit-experiments) (1.3.0)\n",
            "Requirement already satisfied: urllib3>=1.21.1 in /usr/local/lib/python3.11/dist-packages (from qiskit-ibm-experiment>=0.4.6->qiskit-experiments) (2.3.0)\n",
            "Requirement already satisfied: websocket-client>=1.0.1 in /usr/local/lib/python3.11/dist-packages (from qiskit-ibm-experiment>=0.4.6->qiskit-experiments) (1.8.0)\n",
            "Requirement already satisfied: pyyaml>=6.0.0 in /usr/local/lib/python3.11/dist-packages (from qiskit-ibm-experiment>=0.4.6->qiskit-experiments) (6.0.2)\n",
            "Requirement already satisfied: ibm-platform-services>=0.22.6 in /usr/local/lib/python3.11/dist-packages (from qiskit-ibm-runtime>=0.29.0->qiskit-experiments) (0.59.1)\n",
            "Requirement already satisfied: pydantic<2.10,>=2.5.0 in /usr/local/lib/python3.11/dist-packages (from qiskit-ibm-runtime>=0.29.0->qiskit-experiments) (2.9.2)\n",
            "Requirement already satisfied: asteval>=1.0 in /usr/local/lib/python3.11/dist-packages (from lmfit->qiskit-experiments) (1.0.6)\n",
            "Requirement already satisfied: ibm_cloud_sdk_core<4.0.0,>=3.22.0 in /usr/local/lib/python3.11/dist-packages (from ibm-platform-services>=0.22.6->qiskit-ibm-runtime>=0.29.0->qiskit-experiments) (3.22.1)\n",
            "Requirement already satisfied: annotated-types>=0.6.0 in /usr/local/lib/python3.11/dist-packages (from pydantic<2.10,>=2.5.0->qiskit-ibm-runtime>=0.29.0->qiskit-experiments) (0.7.0)\n",
            "Requirement already satisfied: pydantic-core==2.23.4 in /usr/local/lib/python3.11/dist-packages (from pydantic<2.10,>=2.5.0->qiskit-ibm-runtime>=0.29.0->qiskit-experiments) (2.23.4)\n",
            "Requirement already satisfied: six>=1.5 in /usr/local/lib/python3.11/dist-packages (from python-dateutil>=2.7->matplotlib>=3.4->qiskit-experiments) (1.17.0)\n",
            "Requirement already satisfied: charset-normalizer<4,>=2 in /usr/local/lib/python3.11/dist-packages (from requests>=2.19->qiskit-ibm-experiment>=0.4.6->qiskit-experiments) (3.4.1)\n",
            "Requirement already satisfied: idna<4,>=2.5 in /usr/local/lib/python3.11/dist-packages (from requests>=2.19->qiskit-ibm-experiment>=0.4.6->qiskit-experiments) (3.10)\n",
            "Requirement already satisfied: certifi>=2017.4.17 in /usr/local/lib/python3.11/dist-packages (from requests>=2.19->qiskit-ibm-experiment>=0.4.6->qiskit-experiments) (2025.1.31)\n",
            "Requirement already satisfied: cryptography>=1.3 in /usr/local/lib/python3.11/dist-packages (from requests-ntlm>=1.1.0->qiskit-ibm-experiment>=0.4.6->qiskit-experiments) (43.0.3)\n",
            "Requirement already satisfied: pyspnego>=0.4.0 in /usr/local/lib/python3.11/dist-packages (from requests-ntlm>=1.1.0->qiskit-ibm-experiment>=0.4.6->qiskit-experiments) (0.11.2)\n",
            "Requirement already satisfied: pbr>=2.0.0 in /usr/local/lib/python3.11/dist-packages (from stevedore>=3.0.0->qiskit>=0.45->qiskit-experiments) (6.1.1)\n",
            "Requirement already satisfied: mpmath<1.4,>=1.1.0 in /usr/local/lib/python3.11/dist-packages (from sympy>=1.3->qiskit>=0.45->qiskit-experiments) (1.3.0)\n",
            "Requirement already satisfied: cffi>=1.12 in /usr/local/lib/python3.11/dist-packages (from cryptography>=1.3->requests-ntlm>=1.1.0->qiskit-ibm-experiment>=0.4.6->qiskit-experiments) (1.17.1)\n",
            "Requirement already satisfied: PyJWT<3.0.0,>=2.8.0 in /usr/local/lib/python3.11/dist-packages (from ibm_cloud_sdk_core<4.0.0,>=3.22.0->ibm-platform-services>=0.22.6->qiskit-ibm-runtime>=0.29.0->qiskit-experiments) (2.10.1)\n",
            "Requirement already satisfied: setuptools in /usr/local/lib/python3.11/dist-packages (from pbr>=2.0.0->stevedore>=3.0.0->qiskit>=0.45->qiskit-experiments) (75.1.0)\n",
            "Requirement already satisfied: pycparser in /usr/local/lib/python3.11/dist-packages (from cffi>=1.12->cryptography>=1.3->requests-ntlm>=1.1.0->qiskit-ibm-experiment>=0.4.6->qiskit-experiments) (2.22)\n"
          ]
        }
      ],
      "source": []
    },
    {
      "cell_type": "code",
      "execution_count": null,
      "metadata": {
        "id": "z-HQkjYd40-v"
      },
      "outputs": [],
      "source": []
    },
    {
      "cell_type": "code",
      "execution_count": null,
      "metadata": {
        "id": "RtY9PreHTVtN"
      },
      "outputs": [],
      "source": []
    },
    {
      "cell_type": "code",
      "execution_count": null,
      "metadata": {
        "id": "deapSiQSTVv8"
      },
      "outputs": [],
      "source": []
    },
    {
      "cell_type": "code",
      "execution_count": null,
      "metadata": {
        "id": "2Q4plEFdoJjr"
      },
      "outputs": [],
      "source": []
    },
    {
      "cell_type": "code",
      "execution_count": null,
      "metadata": {
        "id": "5eVfN2YWoJmf"
      },
      "outputs": [],
      "source": []
    },
    {
      "cell_type": "code",
      "execution_count": null,
      "metadata": {
        "id": "wb6u_cSGoJpG"
      },
      "outputs": [],
      "source": []
    },
    {
      "cell_type": "code",
      "execution_count": null,
      "metadata": {
        "id": "9sPVvkAmoJsS"
      },
      "outputs": [],
      "source": []
    },
    {
      "cell_type": "code",
      "execution_count": null,
      "metadata": {
        "id": "e7d_1xjaoJu5"
      },
      "outputs": [],
      "source": []
    },
    {
      "cell_type": "code",
      "execution_count": null,
      "metadata": {
        "id": "d-G_2Ti7oJxx"
      },
      "outputs": [],
      "source": []
    },
    {
      "cell_type": "code",
      "execution_count": null,
      "metadata": {
        "id": "01FwmhSuoJ0z"
      },
      "outputs": [],
      "source": []
    },
    {
      "cell_type": "code",
      "execution_count": null,
      "metadata": {
        "id": "XCCS0eyXoJ3L"
      },
      "outputs": [],
      "source": []
    },
    {
      "cell_type": "code",
      "execution_count": null,
      "metadata": {
        "id": "xQzuoHkPoJ5I"
      },
      "outputs": [],
      "source": []
    },
    {
      "cell_type": "code",
      "execution_count": null,
      "metadata": {
        "id": "nlvEd_tioJ7J"
      },
      "outputs": [],
      "source": []
    },
    {
      "cell_type": "code",
      "execution_count": null,
      "metadata": {
        "id": "6HUmjvi7oJ9S"
      },
      "outputs": [],
      "source": []
    },
    {
      "cell_type": "code",
      "execution_count": null,
      "metadata": {
        "id": "BTe0GigdoJ_B"
      },
      "outputs": [],
      "source": []
    },
    {
      "cell_type": "code",
      "execution_count": null,
      "metadata": {
        "id": "E0_ONi6MoKBK"
      },
      "outputs": [],
      "source": []
    },
    {
      "cell_type": "code",
      "execution_count": null,
      "metadata": {
        "id": "yhetyqZUoKDa"
      },
      "outputs": [],
      "source": []
    },
    {
      "cell_type": "code",
      "execution_count": null,
      "metadata": {
        "id": "sTpbsL4OoKFe"
      },
      "outputs": [],
      "source": []
    },
    {
      "cell_type": "code",
      "execution_count": null,
      "metadata": {
        "id": "2mH7ZsYU0KhK"
      },
      "outputs": [],
      "source": []
    }
  ],
  "metadata": {
    "colab": {
      "provenance": []
    },
    "kernelspec": {
      "display_name": "Python 3",
      "name": "python3"
    },
    "language_info": {
      "name": "python"
    }
  },
  "nbformat": 4,
  "nbformat_minor": 0
}