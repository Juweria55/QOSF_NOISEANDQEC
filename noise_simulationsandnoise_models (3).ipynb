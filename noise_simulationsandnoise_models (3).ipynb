{
  "cells": [
    {
      "cell_type": "markdown",
      "metadata": {
        "id": "oXpyjkCtBLQ8"
      },
      "source": [
        "# **Simulating Quantum Noise with Qiskit**"
      ]
    },
    {
      "cell_type": "code",
      "execution_count": 4,
      "metadata": {
        "colab": {
          "base_uri": "https://localhost:8080/"
        },
        "collapsed": true,
        "id": "aXD2xJqQ-Ned",
        "outputId": "3e80cfcc-1401-469f-9e13-7712431e1a5d"
      },
      "outputs": [
        {
          "output_type": "stream",
          "name": "stdout",
          "text": [
            "Requirement already satisfied: qiskit in /usr/local/lib/python3.11/dist-packages (1.4.0)\n",
            "Requirement already satisfied: rustworkx>=0.15.0 in /usr/local/lib/python3.11/dist-packages (from qiskit) (0.16.0)\n",
            "Requirement already satisfied: numpy<3,>=1.17 in /usr/local/lib/python3.11/dist-packages (from qiskit) (1.26.4)\n",
            "Requirement already satisfied: scipy>=1.5 in /usr/local/lib/python3.11/dist-packages (from qiskit) (1.13.1)\n",
            "Requirement already satisfied: sympy>=1.3 in /usr/local/lib/python3.11/dist-packages (from qiskit) (1.13.1)\n",
            "Requirement already satisfied: dill>=0.3 in /usr/local/lib/python3.11/dist-packages (from qiskit) (0.3.9)\n",
            "Requirement already satisfied: python-dateutil>=2.8.0 in /usr/local/lib/python3.11/dist-packages (from qiskit) (2.8.2)\n",
            "Requirement already satisfied: stevedore>=3.0.0 in /usr/local/lib/python3.11/dist-packages (from qiskit) (5.4.1)\n",
            "Requirement already satisfied: typing-extensions in /usr/local/lib/python3.11/dist-packages (from qiskit) (4.12.2)\n",
            "Requirement already satisfied: symengine<0.14,>=0.11 in /usr/local/lib/python3.11/dist-packages (from qiskit) (0.13.0)\n",
            "Requirement already satisfied: six>=1.5 in /usr/local/lib/python3.11/dist-packages (from python-dateutil>=2.8.0->qiskit) (1.17.0)\n",
            "Requirement already satisfied: pbr>=2.0.0 in /usr/local/lib/python3.11/dist-packages (from stevedore>=3.0.0->qiskit) (6.1.1)\n",
            "Requirement already satisfied: mpmath<1.4,>=1.1.0 in /usr/local/lib/python3.11/dist-packages (from sympy>=1.3->qiskit) (1.3.0)\n",
            "Requirement already satisfied: setuptools in /usr/local/lib/python3.11/dist-packages (from pbr>=2.0.0->stevedore>=3.0.0->qiskit) (75.1.0)\n",
            "Requirement already satisfied: qiskit-aer in /usr/local/lib/python3.11/dist-packages (0.16.1)\n",
            "Requirement already satisfied: qiskit>=1.1.0 in /usr/local/lib/python3.11/dist-packages (from qiskit-aer) (1.4.0)\n",
            "Requirement already satisfied: numpy>=1.16.3 in /usr/local/lib/python3.11/dist-packages (from qiskit-aer) (1.26.4)\n",
            "Requirement already satisfied: scipy>=1.0 in /usr/local/lib/python3.11/dist-packages (from qiskit-aer) (1.13.1)\n",
            "Requirement already satisfied: psutil>=5 in /usr/local/lib/python3.11/dist-packages (from qiskit-aer) (5.9.5)\n",
            "Requirement already satisfied: rustworkx>=0.15.0 in /usr/local/lib/python3.11/dist-packages (from qiskit>=1.1.0->qiskit-aer) (0.16.0)\n",
            "Requirement already satisfied: sympy>=1.3 in /usr/local/lib/python3.11/dist-packages (from qiskit>=1.1.0->qiskit-aer) (1.13.1)\n",
            "Requirement already satisfied: dill>=0.3 in /usr/local/lib/python3.11/dist-packages (from qiskit>=1.1.0->qiskit-aer) (0.3.9)\n",
            "Requirement already satisfied: python-dateutil>=2.8.0 in /usr/local/lib/python3.11/dist-packages (from qiskit>=1.1.0->qiskit-aer) (2.8.2)\n",
            "Requirement already satisfied: stevedore>=3.0.0 in /usr/local/lib/python3.11/dist-packages (from qiskit>=1.1.0->qiskit-aer) (5.4.1)\n",
            "Requirement already satisfied: typing-extensions in /usr/local/lib/python3.11/dist-packages (from qiskit>=1.1.0->qiskit-aer) (4.12.2)\n",
            "Requirement already satisfied: symengine<0.14,>=0.11 in /usr/local/lib/python3.11/dist-packages (from qiskit>=1.1.0->qiskit-aer) (0.13.0)\n",
            "Requirement already satisfied: six>=1.5 in /usr/local/lib/python3.11/dist-packages (from python-dateutil>=2.8.0->qiskit>=1.1.0->qiskit-aer) (1.17.0)\n",
            "Requirement already satisfied: pbr>=2.0.0 in /usr/local/lib/python3.11/dist-packages (from stevedore>=3.0.0->qiskit>=1.1.0->qiskit-aer) (6.1.1)\n",
            "Requirement already satisfied: mpmath<1.4,>=1.1.0 in /usr/local/lib/python3.11/dist-packages (from sympy>=1.3->qiskit>=1.1.0->qiskit-aer) (1.3.0)\n",
            "Requirement already satisfied: setuptools in /usr/local/lib/python3.11/dist-packages (from pbr>=2.0.0->stevedore>=3.0.0->qiskit>=1.1.0->qiskit-aer) (75.1.0)\n",
            "Requirement already satisfied: pylatexenc in /usr/local/lib/python3.11/dist-packages (2.10)\n"
          ]
        }
      ],
      "source": [
        "!pip install qiskit\n",
        "!pip install qiskit-aer #\n",
        "!pip install pylatexenc\n",
        "!pip install qiskit-ibm-runtime\n",
        "!pip install qiskit-experiments"
      ]
    },
    {
      "cell_type": "code",
      "execution_count": null,
      "metadata": {
        "id": "P6QlSawc-T0h"
      },
      "outputs": [],
      "source": []
    },
    {
      "cell_type": "code",
      "execution_count": null,
      "metadata": {
        "id": "Mqn5bYj_-T2d"
      },
      "outputs": [],
      "source": []
    },
    {
      "cell_type": "markdown",
      "metadata": {
        "id": "EXZK9pzjqqss"
      },
      "source": [
        "What is a noise model?\n",
        "\n",
        "A noise model in quantum computing is a mathematical representation of the unwanted effects that can impact a quantum system.\n",
        "\n"
      ]
    },
    {
      "cell_type": "markdown",
      "metadata": {
        "id": "a5qI4yP6A52U"
      },
      "source": [
        "Task: Simulate\n",
        "\n",
        "1) depolarizing noise\n",
        "\n",
        "2) phase damping\n",
        "\n",
        "3) bit flipping\n",
        "\n",
        "In quantum computing, the noise model refers to a mathematical representation of how a quantum system deviates from its ideal behavior due to imperfections in the physical implementation.\n",
        "\n",
        "These imperfections arise from various factors like environmental interactions, hardware limitations, or imperfect gate operations.\n",
        "\n",
        "Noise models are crucial for simulating quantum circuits and understanding how quantum algorithms will perform on noisy quantum computers, which is a key aspect of quantum error correction.\n",
        "\n",
        "We'll use qiskit Aer noise module.\n",
        "\n",
        "Three key classes are\n",
        "\n",
        "NoiseModel(which stores a noise model used for noisy simulation.)\n",
        "\n",
        "QuantumError (These can be applied:\n",
        "\n",
        "After gate or reset instructions, Before measure instructions.)\n",
        "\n",
        "ReadoutError(describes classical readout errors)"
      ]
    },
    {
      "cell_type": "code",
      "execution_count": null,
      "metadata": {
        "id": "0gKnsKrhF0g6"
      },
      "outputs": [],
      "source": []
    },
    {
      "cell_type": "code",
      "execution_count": null,
      "metadata": {
        "id": "1LErq_Z5BB-_"
      },
      "outputs": [],
      "source": [
        "# roughly approximates the errors one would encounter when using that (brisbane) backend\n",
        "\n",
        "\"\"\"from qiskit_ibm_runtime import QiskitRuntimeService\n",
        "\n",
        "service = QiskitRuntimeService()\n",
        "backend = service.backend(\"ibm_brisbane\")\n",
        "noise_model = NoiseModel.from_backend(backend)\"\"\""
      ]
    },
    {
      "cell_type": "markdown",
      "metadata": {
        "id": "XPM5tOGHA6B9"
      },
      "source": [
        "When adding a quantum error to a noise model, we must specify the type of instruction that it acts on and what qubits to apply it to.\n",
        "\n",
        "There are two cases of quantum errors:\n",
        "\n",
        "All-qubit quantum error\n",
        "\n",
        "Specific qubit quantum error"
      ]
    },
    {
      "cell_type": "code",
      "execution_count": null,
      "metadata": {
        "id": "vK86nDIR-T6D"
      },
      "outputs": [],
      "source": []
    },
    {
      "cell_type": "code",
      "execution_count": 5,
      "metadata": {
        "id": "uJVpmwKT-Rmq"
      },
      "outputs": [],
      "source": [
        "import numpy as np\n",
        "from qiskit import QuantumCircuit\n",
        "from qiskit.quantum_info import Kraus, SuperOp\n",
        "from qiskit.visualization import plot_histogram\n",
        "from qiskit.transpiler.preset_passmanagers import generate_preset_pass_manager\n",
        "from qiskit_aer import AerSimulator\n",
        "\n",
        "# Import from Qiskit Aer noise module\n",
        "from qiskit_aer.noise import (\n",
        "    NoiseModel,\n",
        "    QuantumError,\n",
        "    ReadoutError,\n",
        "    depolarizing_error,\n",
        "    pauli_error,\n",
        "    thermal_relaxation_error,\n",
        ")"
      ]
    },
    {
      "cell_type": "markdown",
      "metadata": {
        "id": "LS5w6b-6F1IP"
      },
      "source": [
        "Depolarizing error is a type of noise that can affect a quantum system, typically causing it to transition from a pure quantum state to a mixed state, thereby introducing uncertainty in quantum computations.\n",
        "\n",
        "\n",
        "This error is commonly used in quantum simulations and models to mimic real-world imperfections in quantum devices, such as noise due to decoherence, gate imperfections, and interaction with the environment."
      ]
    },
    {
      "cell_type": "code",
      "execution_count": 6,
      "metadata": {
        "colab": {
          "base_uri": "https://localhost:8080/",
          "height": 384
        },
        "id": "znXwN2Yv-yUV",
        "outputId": "f2c89e05-fd0e-4b9c-fbd7-34ec9512972d"
      },
      "outputs": [
        {
          "output_type": "execute_result",
          "data": {
            "text/plain": [
              "<Figure size 914.831x451.5 with 1 Axes>"
            ],
            "image/png": "[encoded data removed]"
          },
          "metadata": {},
          "execution_count": 6
        }
      ],
      "source": [
        "#  step 1: let's build a 4 qubit ghz state\n",
        "n = 4\n",
        "circuit = QuantumCircuit(n)\n",
        "circuit.h(0)\n",
        "for i in range(n - 1):\n",
        "  circuit.cx(i, i+1)\n",
        "\n",
        "circuit.measure_all()\n",
        "# print(circuit.draw('mpl'))\n",
        "circuit.draw('mpl')"
      ]
    },
    {
      "cell_type": "code",
      "execution_count": 7,
      "metadata": {
        "colab": {
          "base_uri": "https://localhost:8080/",
          "height": 454
        },
        "id": "uWRNhLGA-yW5",
        "outputId": "2983a80d-5433-45c9-acc0-5d8c2dca3ec4"
      },
      "outputs": [
        {
          "output_type": "execute_result",
          "data": {
            "text/plain": [
              "<Figure size 640x480 with 1 Axes>"
            ],
            "image/png": "[encoded data removed]"
          },
          "metadata": {},
          "execution_count": 7
        }
      ],
      "source": [
        "# Ideal simulator and execution\n",
        "sim_ideal = AerSimulator()\n",
        "result_ideal = sim_ideal.run(circuit).result()\n",
        "counts = result_ideal.get_counts(0)\n",
        "plot_histogram(result_ideal.get_counts(0))"
      ]
    },
    {
      "cell_type": "code",
      "execution_count": 8,
      "metadata": {
        "colab": {
          "base_uri": "https://localhost:8080/",
          "height": 105
        },
        "id": "EsHrXJgk-yZb",
        "outputId": "f0ce1369-2efd-4cbc-c093-b561a6f7977c"
      },
      "outputs": [
        {
          "output_type": "stream",
          "name": "stdout",
          "text": [
            "NoiseModel:\n",
            "  Basis gates: ['cx', 'h', 'id', 'rz', 's', 'sx', 'u1', 'u2', 'u3', 'x', 'y', 'z']\n",
            "  Instructions with noise: ['s', 'h', 'u3', 'u2', 'u1', 'z', 'y', 'x']\n",
            "  All-qubits errors: ['u1', 'u2', 'u3', 'h', 'x', 'y', 'z', 's']\n"
          ]
        },
        {
          "output_type": "execute_result",
          "data": {
            "text/plain": [
              "'error = depolarizing_error(0.1, num_qubits=1)\\nnoise_model.add_quantum_error(error, [\"u1\", \"u2\", \"u3\"], [0])\\nprint(noise_model)'"
            ],
            "application/vnd.google.colaboratory.intrinsic+json": {
              "type": "string"
            }
          },
          "metadata": {},
          "execution_count": 8
        }
      ],
      "source": [
        "# create an empty NoiseModel\n",
        "noise_model = NoiseModel()\n",
        "\n",
        "# let's add depolarizing error to all single qubit gates\n",
        "\n",
        "error = depolarizing_error(0.1, num_qubits=1)   # 10% noise\n",
        "\n",
        "noise_model.add_all_qubit_quantum_error(error, [\"u1\", \"u2\", \"u3\", \"h\", \"x\", \"y\", \"z\", \"s\"])\n",
        "\n",
        "print(noise_model)   #it will print noise model information\n",
        "\n",
        "\n",
        "# p_error: 0.2 -> very noisy, 0.01 -> noise free system...\n",
        "\n",
        "# let's add depolarizing error to specific single qubit gates\n",
        "\"\"\"error = depolarizing_error(0.1, num_qubits=1)\n",
        "noise_model.add_quantum_error(error, [\"u1\", \"u2\", \"u3\"], [0])\n",
        "print(noise_model)\"\"\""
      ]
    },
    {
      "cell_type": "code",
      "execution_count": 9,
      "metadata": {
        "colab": {
          "base_uri": "https://localhost:8080/",
          "height": 454
        },
        "collapsed": true,
        "id": "s5Pg5P3V-ybv",
        "outputId": "984ba683-f843-4d29-e6c4-8509dcf1cb6a"
      },
      "outputs": [
        {
          "output_type": "execute_result",
          "data": {
            "text/plain": [
              "<Figure size 640x480 with 1 Axes>"
            ],
            "image/png": "[encoded data removed]"
          },
          "metadata": {},
          "execution_count": 9
        }
      ],
      "source": [
        "# noisy simulator and execution\n",
        "from qiskit import transpile\n",
        "sim_ideal = AerSimulator(noise_model=noise_model, method='statevector')  #create a noisy simulator backend\n",
        "circuit = transpile(circuit, sim_ideal)\n",
        "result_ideal = sim_ideal.run(circuit, shots=10000).result()\n",
        "counts = result_ideal.get_counts(0)\n",
        "plot_histogram(result_ideal.get_counts(0))"
      ]
    },
    {
      "cell_type": "code",
      "execution_count": 10,
      "metadata": {
        "colab": {
          "base_uri": "https://localhost:8080/",
          "height": 401
        },
        "id": "LQWuRoTk-yeI",
        "outputId": "25060684-084a-492c-a053-f6f338ce368d"
      },
      "outputs": [
        {
          "output_type": "stream",
          "name": "stdout",
          "text": [
            "Figure(914.831x451.5)\n"
          ]
        },
        {
          "output_type": "execute_result",
          "data": {
            "text/plain": [
              "<Figure size 914.831x451.5 with 1 Axes>"
            ],
            "image/png": "[encoded data removed]"
          },
          "metadata": {},
          "execution_count": 10
        }
      ],
      "source": [
        "#  step 1: let's build a 4 qubit ghz state\n",
        "n = 4\n",
        "circ = QuantumCircuit(n)\n",
        "circ.h(0)\n",
        "for i in range(n - 1):\n",
        "  circ.cx(i, i+1)\n",
        "\n",
        "circ.measure_all()\n",
        "print(circuit.draw('mpl'))\n",
        "circ.draw('mpl')"
      ]
    },
    {
      "cell_type": "code",
      "execution_count": 11,
      "metadata": {
        "id": "JR9MsLqT43HQ",
        "colab": {
          "base_uri": "https://localhost:8080/",
          "height": 53
        },
        "outputId": "ab0729a8-3981-43cc-c385-d02ccbeda9a1"
      },
      "outputs": [
        {
          "output_type": "execute_result",
          "data": {
            "text/plain": [
              "'from qiskit_aer.noise import NoiseModel, pauli_error\\n\\n# Create a noise model with a bit-flip error on qubit 0\\nnoisemodel_bitflip = NoiseModel()\\nbit_flip_error = pauli_error([(\"X\", 0.1), (\"I\", 0.9)])  # 10% chance of bit flip\\nnoisemodel_bitflip.add_all_qubit_quantum_error(bit_flip_error, [\"id\", \"x\", \"h\"])'"
            ],
            "application/vnd.google.colaboratory.intrinsic+json": {
              "type": "string"
            }
          },
          "metadata": {},
          "execution_count": 11
        }
      ],
      "source": [
        "\"\"\"from qiskit_aer.noise import NoiseModel, pauli_error\n",
        "\n",
        "# Create a noise model with a bit-flip error on qubit 0\n",
        "noisemodel_bitflip = NoiseModel()\n",
        "bit_flip_error = pauli_error([(\"X\", 0.1), (\"I\", 0.9)])  # 10% chance of bit flip\n",
        "noisemodel_bitflip.add_all_qubit_quantum_error(bit_flip_error, [\"id\", \"x\", \"h\"])\"\"\""
      ]
    },
    {
      "cell_type": "code",
      "execution_count": 13,
      "metadata": {
        "colab": {
          "base_uri": "https://localhost:8080/"
        },
        "id": "WA6yuKr6-yhs",
        "outputId": "2226c5a2-4458-4c67-f3a0-72f9b0ac5ba8"
      },
      "outputs": [
        {
          "output_type": "stream",
          "name": "stdout",
          "text": [
            "NoiseModel:\n",
            "  Basis gates: ['cx', 'id', 'rz', 'sx', 'u1', 'u2', 'u3']\n",
            "  Instructions with noise: ['reset', 'measure', 'u3', 'u2', 'u1']\n",
            "  All-qubits errors: ['u1', 'u2', 'u3', 'reset', 'measure']\n"
          ]
        }
      ],
      "source": [
        "#  bit flip noise model\n",
        "# example error probabilities\n",
        "\n",
        "p_gate1 = 0.05\n",
        "p_meas = 0.2\n",
        "p_reset = 0.05 #5% chance of a bit-flip error during the reset operation.\n",
        "\n",
        "error_gate = pauli_error([('X', p_gate1), ('I', 1 - p_gate1)])  # with probability 1−p, there is no error and with probability p, there is a bit-flip error.\n",
        "# error_meas = readout_error([('X', p_meas), ('I', 1 - p_meas)])\n",
        "error_meas = ReadoutError([[1 - p_meas, p_meas], [p_meas, 1 - p_meas]])\n",
        "error_reset = pauli_error([('X', p_reset), ('I', 1 - p_reset)])\n",
        "error_gate2 = error_gate.tensor(error_gate) #both qubits will experiencthe same error probability modeling noise on 2 qubit gates\n",
        "\n",
        "#  let's add the errors to the noise model\n",
        "\n",
        "noisemodel_bitflip = NoiseModel()\n",
        "noisemodel_bitflip.add_all_qubit_quantum_error(error_gate, ['u1', 'u2', 'u3'])\n",
        "noisemodel_bitflip.add_all_qubit_quantum_error(error_reset, ['reset'])\n",
        "noisemodel_bitflip.add_all_qubit_readout_error(error_meas)\n",
        "\n",
        "print(noisemodel_bitflip)  #print the noise model\n",
        "\n"
      ]
    },
    {
      "cell_type": "code",
      "execution_count": 14,
      "metadata": {
        "colab": {
          "base_uri": "https://localhost:8080/",
          "height": 454
        },
        "id": "GxNvHZhSARNF",
        "outputId": "f470a4d7-fef0-4567-fe64-32d08c76c1fd"
      },
      "outputs": [
        {
          "output_type": "execute_result",
          "data": {
            "text/plain": [
              "<Figure size 640x480 with 1 Axes>"
            ],
            "image/png": "[encoded data removed]"
          },
          "metadata": {},
          "execution_count": 14
        }
      ],
      "source": [
        "# simulate the noise model\n",
        "# Create noisy simulator backend\n",
        "sim_noise = AerSimulator(noise_model=noisemodel_bitflip)\n",
        "\n",
        "# Transpile circuit for noisy basis gates\n",
        "passmanager = generate_preset_pass_manager(\n",
        "    optimization_level=3, backend=sim_noise\n",
        ")\n",
        "circ_tnoise = passmanager.run(circ)\n",
        "\n",
        "# Run and get counts\n",
        "result_bit_flip = sim_noise.run(circ_tnoise).result()\n",
        "counts_bit_flip = result_bit_flip.get_counts(0)\n",
        "\n",
        "# Plot noisy output\n",
        "plot_histogram(counts_bit_flip)"
      ]
    },
    {
      "cell_type": "code",
      "execution_count": 15,
      "metadata": {
        "colab": {
          "base_uri": "https://localhost:8080/"
        },
        "id": "quSdhOxwAv_7",
        "outputId": "62d2f224-389b-4f76-c9ca-cf88b6683e19"
      },
      "outputs": [
        {
          "output_type": "stream",
          "name": "stdout",
          "text": [
            "NoiseModel:\n",
            "  Basis gates: ['cx', 'h', 'id', 'rz', 'sx']\n",
            "  Instructions with noise: ['h']\n",
            "  All-qubits errors: ['h']\n"
          ]
        }
      ],
      "source": [
        "# phase damping\n",
        "from qiskit_aer.noise import phase_damping_error\n",
        "n = 4\n",
        "circ2 = QuantumCircuit(n)\n",
        "circ2.h(0)\n",
        "for i in range(n - 1):\n",
        "  circ2.cx(i, i+1)\n",
        "\n",
        "circ2.measure_all()\n",
        "# print(circuit.draw('mpl'))\n",
        "circ2.draw('mpl')\n",
        "\n",
        "error = 0.5  #probability of phase damping\n",
        "noisemodel_phasedamping = NoiseModel()\n",
        "\n",
        "phasedamping_error = phase_damping_error(error, 1)\n",
        "noisemodel_phasedamping.add_all_qubit_quantum_error(phasedamping_error, [\"h\"])\n",
        "# noise_model.add_all_qubit_quantum_error(depolarizing_error(0.2, num_qubits=1), [\"h\", \"cx\"])\n",
        "\n",
        "print(noisemodel_phasedamping)"
      ]
    },
    {
      "cell_type": "code",
      "execution_count": 16,
      "metadata": {
        "colab": {
          "base_uri": "https://localhost:8080/",
          "height": 454
        },
        "id": "hIOSi6yGAwUn",
        "outputId": "8f3af29d-1d28-4f97-f3f0-510edbf17144"
      },
      "outputs": [
        {
          "output_type": "execute_result",
          "data": {
            "text/plain": [
              "<Figure size 640x480 with 1 Axes>"
            ],
            "image/png": "[encoded data removed]"
          },
          "metadata": {},
          "execution_count": 16
        }
      ],
      "source": [
        "# Create noisy simulator backend\n",
        "sim_noise = AerSimulator(noise_model=noisemodel_phasedamping)\n",
        "\n",
        "# Transpile circuit for noisy basis gates\n",
        "passmanager = generate_preset_pass_manager(\n",
        "    optimization_level=3, backend=sim_noise\n",
        ")\n",
        "circ_tnoise = passmanager.run(circ2)\n",
        "\n",
        "# Run and get counts\n",
        "result_noise = sim_noise.run(circ_tnoise, shots=10000).result()\n",
        "counts_noise = result_noise.get_counts()\n",
        "plot_histogram(counts_noise)"
      ]
    },
    {
      "cell_type": "code",
      "execution_count": null,
      "metadata": {
        "colab": {
          "base_uri": "https://localhost:8080/",
          "height": 421
        },
        "collapsed": true,
        "id": "_9mChre2kS3Z",
        "outputId": "aaf43fe2-fb3d-4cc5-84ab-19f4e4064180"
      },
      "outputs": [
        {
          "ename": "ImportError",
          "evalue": "cannot import name 'IBMQ' from 'qiskit_ibm_runtime' (/usr/local/lib/python3.10/dist-packages/qiskit_ibm_runtime/__init__.py)",
          "output_type": "error",
          "traceback": [
            "\u001b[0;31m---------------------------------------------------------------------------\u001b[0m",
            "\u001b[0;31mImportError\u001b[0m                               Traceback (most recent call last)",
            "\u001b[0;32m<ipython-input-6-a520d3180796>\u001b[0m in \u001b[0;36m<cell line: 1>\u001b[0;34m()\u001b[0m\n\u001b[0;32m----> 1\u001b[0;31m \u001b[0;32mfrom\u001b[0m \u001b[0mqiskit_ibm_runtime\u001b[0m \u001b[0;32mimport\u001b[0m \u001b[0mIBMQ\u001b[0m\u001b[0;34m\u001b[0m\u001b[0;34m\u001b[0m\u001b[0m\n\u001b[0m\u001b[1;32m      2\u001b[0m \u001b[0mIBMQ\u001b[0m\u001b[0;34m.\u001b[0m\u001b[0msave_account\u001b[0m\u001b[0;34m(\u001b[0m\u001b[0;34m'62c72edf4b8d2532ca8596d72102e90c72038ffa88fe2e5e6a556a70bfcaef41bde7f07cf4d0eca0fb8eddc2b3867e98eb295237ed20c87acea659173b386a89'\u001b[0m\u001b[0;34m,\u001b[0m \u001b[0moverwrite\u001b[0m\u001b[0;34m=\u001b[0m\u001b[0;32mTrue\u001b[0m\u001b[0;34m)\u001b[0m  \u001b[0;31m# Run this only once\u001b[0m\u001b[0;34m\u001b[0m\u001b[0;34m\u001b[0m\u001b[0m\n\u001b[1;32m      3\u001b[0m \u001b[0mIBMQ\u001b[0m\u001b[0;34m.\u001b[0m\u001b[0mload_account\u001b[0m\u001b[0;34m(\u001b[0m\u001b[0;34m)\u001b[0m  \u001b[0;31m# Load your IBMQ account\u001b[0m\u001b[0;34m\u001b[0m\u001b[0;34m\u001b[0m\u001b[0m\n",
            "\u001b[0;31mImportError\u001b[0m: cannot import name 'IBMQ' from 'qiskit_ibm_runtime' (/usr/local/lib/python3.10/dist-packages/qiskit_ibm_runtime/__init__.py)",
            "",
            "\u001b[0;31m---------------------------------------------------------------------------\u001b[0;32m\nNOTE: If your import is failing due to a missing package, you can\nmanually install dependencies using either !pip or !apt.\n\nTo view examples of installing some common dependencies, click the\n\"Open Examples\" button below.\n\u001b[0;31m---------------------------------------------------------------------------\u001b[0m\n"
          ]
        }
      ],
      "source": [
        "from qiskit_ibm_runtime import IBMQ\n",
        "IBMQ.save_account('62c72edf4b8d2532ca8596d72102e90c72038ffa88fe2e5e6a556a70bfcaef41bde7f07cf4d0eca0fb8eddc2b3867e98eb295237ed20c87acea659173b386a89', overwrite=True)  # Run this only once\n",
        "IBMQ.load_account()  # Load your IBMQ account\n"
      ]
    },
    {
      "cell_type": "code",
      "execution_count": 18,
      "metadata": {
        "id": "xRPojC70lMgw",
        "colab": {
          "base_uri": "https://localhost:8080/"
        },
        "outputId": "40b57dfe-1ada-480f-e22e-9565a01170ed"
      },
      "outputs": [
        {
          "output_type": "stream",
          "name": "stderr",
          "text": [
            "WARNING:qiskit_aer.noise.noise_model:WARNING: all-qubit error already exists for instruction \"h\", composing with additional error.\n"
          ]
        },
        {
          "output_type": "stream",
          "name": "stdout",
          "text": [
            "{'1111': 500, '0000': 524}\n"
          ]
        }
      ],
      "source": [
        "# combining all the noise together\n",
        "combined_noise_model = NoiseModel()\n",
        "combined_noise_model.add_all_qubit_quantum_error(depolarizing_error(0.1, 1), ['h'])\n",
        "combined_noise_model.add_all_qubit_quantum_error(phase_damping_error(0.2), ['h'])\n",
        "combined_noise_model.add_all_qubit_quantum_error(pauli_error([(\"X\", 0.1), (\"I\", 0.9)]), ['x'])\n",
        "\n",
        "simulator = AerSimulator(noise_model=combined_noise_model)\n",
        "compiled_circuit = transpile(circ2, simulator)\n",
        "result = simulator.run(compiled_circuit).result()\n",
        "\n",
        "print(result.get_counts())\n"
      ]
    },
    {
      "cell_type": "code",
      "execution_count": 19,
      "metadata": {
        "id": "7z3VjdX_6LDi",
        "colab": {
          "base_uri": "https://localhost:8080/"
        },
        "outputId": "4144c871-51f2-4a9a-89a2-59afd2bde401"
      },
      "outputs": [
        {
          "output_type": "stream",
          "name": "stdout",
          "text": [
            "{'0': 1024}\n"
          ]
        }
      ],
      "source": [
        "# implementing shars code, which protects against bit and phase flip errors\n",
        "\n",
        "def shor_code():\n",
        "    qc = QuantumCircuit(9, 1)\n",
        "\n",
        "    # Encoding\n",
        "    qc.h(0)\n",
        "    qc.cx(0, 1)\n",
        "    qc.cx(0, 2)\n",
        "\n",
        "    qc.cx(0, 3)\n",
        "    qc.cx(1, 4)\n",
        "    qc.cx(2, 5)\n",
        "\n",
        "    qc.cx(3, 6)\n",
        "    qc.cx(4, 7)\n",
        "    qc.cx(5, 8)\n",
        "\n",
        "    # Simulating a bit-flip error\n",
        "    qc.x(4)  # Introduce an error\n",
        "\n",
        "    # Decoding and error correction\n",
        "    qc.cx(3, 0)\n",
        "    qc.cx(4, 1)\n",
        "    qc.cx(5, 2)\n",
        "\n",
        "    qc.cx(6, 3)\n",
        "    qc.cx(7, 4)\n",
        "    qc.cx(8, 5)\n",
        "\n",
        "    qc.ccx(3, 4, 0)\n",
        "    qc.ccx(5, 6, 1)\n",
        "\n",
        "    qc.measure(0, 0)\n",
        "\n",
        "    return qc\n",
        "\n",
        "shor_circuit = shor_code()\n",
        "simulator = AerSimulator()\n",
        "compiled_circuit = transpile(shor_circuit, simulator)\n",
        "result = simulator.run(compiled_circuit).result()\n",
        "print(result.get_counts())\n"
      ]
    },
    {
      "cell_type": "code",
      "execution_count": 20,
      "metadata": {
        "id": "1ipziTSO6LF1",
        "colab": {
          "base_uri": "https://localhost:8080/"
        },
        "outputId": "dbfc3836-8aae-4f09-c370-98fb53218c21"
      },
      "outputs": [
        {
          "output_type": "stream",
          "name": "stdout",
          "text": [
            "{'1': 1024}\n"
          ]
        }
      ],
      "source": [
        "# more scalable error correction method SURFACE CODE\n",
        "\n",
        "from qiskit import QuantumRegister, ClassicalRegister\n",
        "\n",
        "def surface_code():\n",
        "    qreg = QuantumRegister(5)\n",
        "    creg = ClassicalRegister(1)\n",
        "    qc = QuantumCircuit(qreg, creg)\n",
        "\n",
        "    # Encoding\n",
        "    qc.h(0)\n",
        "    qc.cx(0, 1)\n",
        "    qc.cx(0, 2)\n",
        "\n",
        "    # Introduce an error\n",
        "    qc.x(1)\n",
        "\n",
        "    # Syndrome measurement\n",
        "    qc.cx(1, 3)\n",
        "    qc.cx(2, 3)\n",
        "    qc.measure(3, 0)\n",
        "\n",
        "    return qc\n",
        "\n",
        "surface_circuit = surface_code()\n",
        "simulator = AerSimulator()\n",
        "compiled_circuit = transpile(surface_circuit, simulator)\n",
        "result = simulator.run(compiled_circuit).result()\n",
        "print(result.get_counts())\n"
      ]
    },
    {
      "cell_type": "code",
      "execution_count": null,
      "metadata": {
        "id": "NlxAaHwk6LIC",
        "colab": {
          "base_uri": "https://localhost:8080/"
        },
        "outputId": "d68b1a87-c093-47c5-c88c-cd2e8e2841ba"
      },
      "outputs": [
        {
          "output_type": "stream",
          "name": "stdout",
          "text": [
            "{'1': 128, '0': 896}\n"
          ]
        }
      ],
      "source": [
        "#  let's apply shor's code to the noisy circuit\n",
        "\n",
        "shor_circuit = shor_code()\n",
        "noisy_simulator = AerSimulator(noise_model=combined_noise_model)\n",
        "\n",
        "compiled_circuit = transpile(shor_circuit, noisy_simulator)\n",
        "result = noisy_simulator.run(compiled_circuit).result()\n",
        "\n",
        "print(result.get_counts())\n"
      ]
    },
    {
      "cell_type": "code",
      "execution_count": 21,
      "metadata": {
        "id": "tSLRFQDa6LKE",
        "colab": {
          "base_uri": "https://localhost:8080/"
        },
        "outputId": "47f1fbb4-24e2-48d4-c675-2ef8731f8ae4"
      },
      "outputs": [
        {
          "output_type": "stream",
          "name": "stdout",
          "text": [
            "Without error correction: {'0': 528, '1': 496}\n",
            "With error correction: {'1': 147, '0': 877}\n"
          ]
        }
      ],
      "source": [
        "# let's compare results with and without error correction\n",
        "\n",
        "# Without error correction\n",
        "qc = QuantumCircuit(1, 1)\n",
        "qc.h(0)\n",
        "qc.x(0)  # Introduce bit-flip\n",
        "qc.measure(0, 0)\n",
        "\n",
        "noisy_simulator = AerSimulator(noise_model=combined_noise_model)\n",
        "compiled_circuit = transpile(qc, noisy_simulator)\n",
        "result = noisy_simulator.run(compiled_circuit).result()\n",
        "\n",
        "print(\"Without error correction:\", result.get_counts())\n",
        "\n",
        "# With error correction (Shor code)\n",
        "shor_circuit = shor_code()\n",
        "compiled_circuit = transpile(shor_circuit, noisy_simulator)\n",
        "result = noisy_simulator.run(compiled_circuit).result()\n",
        "\n",
        "print(\"With error correction:\", result.get_counts())\n"
      ]
    },
    {
      "cell_type": "code",
      "execution_count": 22,
      "metadata": {
        "id": "hrVcpfTh6LM8",
        "colab": {
          "base_uri": "https://localhost:8080/"
        },
        "outputId": "0903363d-61d1-4c89-ad19-59a588cac81c"
      },
      "outputs": [
        {
          "output_type": "stream",
          "name": "stdout",
          "text": [
            "Noisy Simulation: {'0': 518, '1': 506}\n",
            "With Error Correction: {'1': 135, '0': 889}\n"
          ]
        }
      ],
      "source": [
        "# noise simulation with corrected errors using shor's algorithm\n",
        "def simulate(qc, noise_model=None):\n",
        "    simulator = AerSimulator(noise_model=noise_model) if noise_model else AerSimulator()\n",
        "    compiled_circuit = transpile(qc, simulator)\n",
        "    result = simulator.run(compiled_circuit).result()\n",
        "    return result.get_counts()\n",
        "\n",
        "qc = QuantumCircuit(1, 1)\n",
        "qc.h(0)\n",
        "qc.measure(0, 0)\n",
        "\n",
        "print(\"Noisy Simulation:\", simulate(qc, combined_noise_model))\n",
        "print(\"With Error Correction:\", simulate(shor_code(), combined_noise_model))\n"
      ]
    },
    {
      "cell_type": "markdown",
      "source": [
        "Grover's Algorithm"
      ],
      "metadata": {
        "id": "gBqWe5sNhwjw"
      }
    },
    {
      "cell_type": "code",
      "execution_count": 26,
      "metadata": {
        "id": "uDwi7gO26LPZ"
      },
      "outputs": [],
      "source": [
        "# Built-in modules\n",
        "import math\n",
        "\n",
        "# Imports from Qiskit\n",
        "from qiskit import QuantumCircuit\n",
        "from qiskit.circuit.library import GroverOperator, MCMT, ZGate\n",
        "from qiskit.visualization import plot_distribution\n",
        "\n",
        "# Imports from Qiskit Runtime\n",
        "from qiskit_ibm_runtime import QiskitRuntimeService\n",
        "from qiskit_ibm_runtime import SamplerV2 as Sampler"
      ]
    },
    {
      "cell_type": "code",
      "execution_count": null,
      "metadata": {
        "id": "szV7alqi6LRs"
      },
      "outputs": [],
      "source": [
        "# To run on hardware, select the backend with the fewest number of jobs in the queue\n",
        "# service = QiskitRuntimeService(channel=\"ibm_quantum\")\n",
        "# backend = service.least_busy(operational=True, simulator=False)\n",
        "# backend.name"
      ]
    },
    {
      "cell_type": "code",
      "execution_count": 27,
      "metadata": {
        "id": "S8QBpNhy6LTc"
      },
      "outputs": [],
      "source": [
        "def grover_oracle(marked_states):\n",
        "    \"\"\"Build a Grover oracle for multiple marked states\n",
        "\n",
        "    Here we assume all input marked states have the same number of bits\n",
        "\n",
        "    Parameters:\n",
        "        marked_states (str or list): Marked states of oracle\n",
        "\n",
        "    Returns:\n",
        "        QuantumCircuit: Quantum circuit representing Grover oracle\n",
        "    \"\"\"\n",
        "    if not isinstance(marked_states, list):\n",
        "        marked_states = [marked_states]\n",
        "    # Compute the number of qubits in circuit\n",
        "    num_qubits = len(marked_states[0])\n",
        "\n",
        "    qc = QuantumCircuit(num_qubits)\n",
        "    # Mark each target state in the input list\n",
        "    for target in marked_states:\n",
        "        # Flip target bit-string to match Qiskit bit-ordering\n",
        "        rev_target = target[::-1]\n",
        "        # Find the indices of all the '0' elements in bit-string\n",
        "        zero_inds = [ind for ind in range(num_qubits) if rev_target.startswith(\"0\", ind)]\n",
        "        # Add a multi-controlled Z-gate with pre- and post-applied X-gates (open-controls)\n",
        "        # where the target bit-string has a '0' entry\n",
        "        qc.x(zero_inds)\n",
        "        qc.compose(MCMT(ZGate(), num_qubits - 1, 1), inplace=True)\n",
        "        qc.x(zero_inds)\n",
        "    return qc"
      ]
    },
    {
      "cell_type": "code",
      "source": [
        "marked_states = [\"011\", \"100\"]\n",
        "\n",
        "oracle = grover_oracle(marked_states)\n",
        "oracle.draw(output=\"mpl\", style=\"iqp\")"
      ],
      "metadata": {
        "colab": {
          "base_uri": "https://localhost:8080/",
          "height": 310
        },
        "id": "tUq7TaOriJKh",
        "outputId": "7629cccb-bb02-4a83-8c12-9a288f429844"
      },
      "execution_count": 29,
      "outputs": [
        {
          "output_type": "stream",
          "name": "stderr",
          "text": [
            "<ipython-input-27-6de8e9ca2dbc>:27: DeprecationWarning: The class ``qiskit.circuit.library.generalized_gates.mcmt.MCMT`` is deprecated as of qiskit 1.4. It will be removed no earlier than 3 months after the release date. Use MCMTGate instead.\n",
            "  qc.compose(MCMT(ZGate(), num_qubits - 1, 1), inplace=True)\n"
          ]
        },
        {
          "output_type": "execute_result",
          "data": {
            "text/plain": [
              "<Figure size 538.33x284.278 with 1 Axes>"
            ],
            "image/png": "[encoded data removed]"
          },
          "metadata": {},
          "execution_count": 29
        }
      ]
    },
    {
      "cell_type": "code",
      "source": [
        "grover_op = GroverOperator(oracle)\n",
        "grover_op.decompose().draw(output=\"mpl\", style=\"iqp\")"
      ],
      "metadata": {
        "colab": {
          "base_uri": "https://localhost:8080/",
          "height": 267
        },
        "id": "LfbIlqG5iJNs",
        "outputId": "0c38d9e8-9614-4d62-8323-1bcab55843a3"
      },
      "execution_count": 30,
      "outputs": [
        {
          "output_type": "execute_result",
          "data": {
            "text/plain": [
              "<Figure size 1094.88x284.278 with 1 Axes>"
            ],
            "image/png": "[encoded data removed]"
          },
          "metadata": {},
          "execution_count": 30
        }
      ]
    },
    {
      "cell_type": "code",
      "source": [
        "optimal_num_iterations = math.floor(\n",
        "    math.pi / (4 * math.asin(math.sqrt(len(marked_states) / 2**grover_op.num_qubits)))\n",
        ")"
      ],
      "metadata": {
        "id": "wh-9uE-SiJQ8"
      },
      "execution_count": 31,
      "outputs": []
    },
    {
      "cell_type": "markdown",
      "source": [
        "Full grover circuit"
      ],
      "metadata": {
        "id": "Acc38xyDibHD"
      }
    },
    {
      "cell_type": "code",
      "source": [
        "qc = QuantumCircuit(grover_op.num_qubits)\n",
        "# Create even superposition of all basis states\n",
        "qc.h(range(grover_op.num_qubits))\n",
        "# Apply Grover operator the optimal number of times\n",
        "qc.compose(grover_op.power(optimal_num_iterations), inplace=True)\n",
        "# Measure all qubits\n",
        "qc.measure_all()\n",
        "qc.draw(output=\"mpl\", style=\"iqp\")"
      ],
      "metadata": {
        "colab": {
          "base_uri": "https://localhost:8080/",
          "height": 320
        },
        "id": "h-SyMA8NiXiW",
        "outputId": "0ad32263-0540-4b16-e7f8-ee3c8efd4ba6"
      },
      "execution_count": 32,
      "outputs": [
        {
          "output_type": "execute_result",
          "data": {
            "text/plain": [
              "<Figure size 663.998x367.889 with 1 Axes>"
            ],
            "image/png": "[encoded data removed]"
          },
          "metadata": {},
          "execution_count": 32
        }
      ]
    },
    {
      "cell_type": "code",
      "source": [
        "from qiskit.transpiler.preset_passmanagers import generate_preset_pass_manager\n",
        "\n",
        "backend = AerSimulator()\n",
        "target = backend.target\n",
        "pm = generate_preset_pass_manager(target=target, optimization_level=3)\n",
        "\n",
        "circuit_isa = pm.run(qc)\n",
        "circuit_isa.draw(output=\"mpl\", idle_wires=False, style=\"iqp\")"
      ],
      "metadata": {
        "colab": {
          "base_uri": "https://localhost:8080/",
          "height": 332
        },
        "id": "jW0AtT7kiXke",
        "outputId": "b10abad2-8e32-4393-eb9f-4593832d199c"
      },
      "execution_count": 33,
      "outputs": [
        {
          "output_type": "execute_result",
          "data": {
            "text/plain": [
              "<Figure size 1082.05x367.889 with 1 Axes>"
            ],
            "image/png": "[encoded data removed]"
          },
          "metadata": {},
          "execution_count": 33
        }
      ]
    },
    {
      "cell_type": "code",
      "source": [
        "# To run on local simulator:\n",
        "#   1. Use the SatetvectorSampler from qiskit.primitives instead\n",
        "sampler = Sampler(mode=backend)\n",
        "sampler.options.default_shots = 10_000\n",
        "result = sampler.run([circuit_isa]).result()\n",
        "dist = result[0].data.meas.get_counts()"
      ],
      "metadata": {
        "id": "l0x7gTVXiXmv"
      },
      "execution_count": 34,
      "outputs": []
    },
    {
      "cell_type": "code",
      "source": [
        "plot_distribution(dist)"
      ],
      "metadata": {
        "colab": {
          "base_uri": "https://localhost:8080/",
          "height": 461
        },
        "id": "zSgf9aitiXpe",
        "outputId": "8ab94269-1b18-44d2-bd66-7f86d0b0b35f"
      },
      "execution_count": 35,
      "outputs": [
        {
          "output_type": "execute_result",
          "data": {
            "text/plain": [
              "<Figure size 700x500 with 1 Axes>"
            ],
            "image/png": "[encoded data removed]"
          },
          "metadata": {},
          "execution_count": 35
        }
      ]
    },
    {
      "cell_type": "code",
      "source": [
        "import qiskit_ibm_runtime\n",
        "\n",
        "qiskit_ibm_runtime.version.get_version_info()"
      ],
      "metadata": {
        "colab": {
          "base_uri": "https://localhost:8080/",
          "height": 36
        },
        "id": "Tlns3qA0iXrx",
        "outputId": "86644df7-c137-4923-ddeb-202710a6ff53"
      },
      "execution_count": null,
      "outputs": [
        {
          "output_type": "execute_result",
          "data": {
            "text/plain": [
              "'0.36.1'"
            ],
            "application/vnd.google.colaboratory.intrinsic+json": {
              "type": "string"
            }
          },
          "metadata": {},
          "execution_count": 33
        }
      ]
    },
    {
      "cell_type": "code",
      "source": [
        "import qiskit\n",
        "\n",
        "qiskit.version.get_version_info()"
      ],
      "metadata": {
        "colab": {
          "base_uri": "https://localhost:8080/",
          "height": 36
        },
        "id": "1DakhWW5iXwq",
        "outputId": "8b07ff1a-7004-4ffb-cb18-dee290b79238"
      },
      "execution_count": null,
      "outputs": [
        {
          "output_type": "execute_result",
          "data": {
            "text/plain": [
              "'1.3.2'"
            ],
            "application/vnd.google.colaboratory.intrinsic+json": {
              "type": "string"
            }
          },
          "metadata": {},
          "execution_count": 34
        }
      ]
    },
    {
      "cell_type": "code",
      "source": [
        "from qiskit import QuantumCircuit, ClassicalRegister, QuantumRegister\n",
        "\n",
        "# Create Quantum and Classical Registers\n",
        "qr = QuantumRegister(2, name='q')\n",
        "cr = ClassicalRegister(2, name='c')\n",
        "grover = QuantumCircuit(qr, cr)\n",
        "\n",
        "# Apply Hadamard gates\n",
        "grover.h(qr)\n",
        "\n",
        "# Oracle for state |11>\n",
        "grover.cz(qr[0], qr[1])\n",
        "\n",
        "# Diffuser\n",
        "grover.h(qr)\n",
        "grover.x(qr)\n",
        "grover.h(qr[1])\n",
        "grover.cx(qr[0], qr[1])\n",
        "grover.h(qr[1])\n",
        "grover.x(qr)\n",
        "grover.h(qr)\n",
        "\n",
        "# Measurement\n",
        "grover.measure(qr, cr)\n",
        "\n",
        "# Draw the circuit\n",
        "print(grover)\n",
        "\n"
      ],
      "metadata": {
        "colab": {
          "base_uri": "https://localhost:8080/"
        },
        "id": "OqJQ6TpQi4_N",
        "outputId": "2046a1f2-2d61-4c4c-97f9-7fe12666f3c9"
      },
      "execution_count": 36,
      "outputs": [
        {
          "output_type": "stream",
          "name": "stdout",
          "text": [
            "     ┌───┐   ┌───┐┌───┐          ┌───┐┌───┐     ┌─┐   \n",
            "q_0: ┤ H ├─■─┤ H ├┤ X ├───────■──┤ X ├┤ H ├─────┤M├───\n",
            "     ├───┤ │ ├───┤├───┤┌───┐┌─┴─┐├───┤├───┤┌───┐└╥┘┌─┐\n",
            "q_1: ┤ H ├─■─┤ H ├┤ X ├┤ H ├┤ X ├┤ H ├┤ X ├┤ H ├─╫─┤M├\n",
            "     └───┘   └───┘└───┘└───┘└───┘└───┘└───┘└───┘ ║ └╥┘\n",
            "c: 2/════════════════════════════════════════════╩══╩═\n",
            "                                                 0  1 \n"
          ]
        }
      ]
    },
    {
      "cell_type": "code",
      "source": [
        "# from qiskit.providers.aer import AerSimulator\n",
        "# from qiskit.providers.aer.noise import NoiseModel, depolarizing_error\n",
        "\n",
        "# Create a noise model\n",
        "noise_model = NoiseModel()\n",
        "\n",
        "# Depolarizing error probabilities\n",
        "p1 = 0.01  # Single-qubit gate error probability\n",
        "p2 = 0.02  # Two-qubit gate error probability\n",
        "\n",
        "# Add errors to the noise model\n",
        "noise_model.add_all_qubit_quantum_error(depolarizing_error(p1, 1), ['u1', 'u2', 'u3'])\n",
        "noise_model.add_all_qubit_quantum_error(depolarizing_error(p2, 2), ['cx'])\n",
        "\n",
        "# Simulate the circuit with noise\n",
        "simulator = AerSimulator(noise_model=noise_model)\n",
        "job = simulator.run(grover, shots=1000)\n",
        "result = job.result()\n",
        "counts = result.get_counts(grover)\n",
        "print(counts)\n"
      ],
      "metadata": {
        "colab": {
          "base_uri": "https://localhost:8080/"
        },
        "id": "hrEodnpCi5B3",
        "outputId": "70dd0eab-a005-48ea-fc2d-389c49aeef31"
      },
      "execution_count": 37,
      "outputs": [
        {
          "output_type": "stream",
          "name": "stdout",
          "text": [
            "{'01': 4, '00': 3, '10': 5, '11': 988}\n"
          ]
        }
      ]
    },
    {
      "cell_type": "code",
      "source": [
        "# from qiskit.ignis.mitigation.measurement import complete_meas_cal, CompleteMeasFitter\n",
        "from qiskit_experiments.library import StateTomography   # changed the import to qiskit_experiments\n",
        "\n",
        "# Generate measurement calibration circuits\n",
        "# meas_calibs, state_labels = complete_meas_cal(qr=qr, circlabel='measerrormit')\n",
        "# changed to use the StateTomography class\n",
        "# which is the new way of setting up tomography experiments in Qiskit Experiments.\n",
        "\n",
        "# Prepare the tomography experiment\n",
        "# The StateTomography class allows you to specify the circuits needed for tomography\n",
        "# and provides tools for analyzing the results\n",
        "tomo_exp = StateTomography(grover) # grover contains circuit\n",
        "\n",
        "# Generate the tomography circuits\n",
        "tomo_circuits = tomo_exp.circuits()\n",
        "\n",
        "# Execute the tomography circuits\n",
        "# Note that in your original code, you were running the calibration circuits on a simulator\n",
        "# We can update that to use the Aer simulator as an example here\n",
        "\n",
        "backend = AerSimulator()\n",
        "job = backend.run(tomo_circuits)\n",
        "# compiled_circuit = transpile(shor_circuit, simulator)\n",
        "# result = simulator.run(compiled_circuit).result()\n",
        "# Get the results\n",
        "# result = backend.run(tomo_circuits).result()\n",
        "# Process the results to reconstruct the density matrix\n",
        "#tomo_results = tomo_exp.analysis.run(result)  # or result to directly analyze the results\n",
        "# Get the counts\n",
        "counts = result.get_counts()\n",
        "\n",
        "\n",
        "# Apply measurement error mitigation if desired\n",
        "# (There is an option to apply error mitigation to the resulting state of state tomography)\n",
        "\n",
        "#from qiskit.ignis.mitigation.measurement import complete_meas_cal, CompleteMeasFitter\n",
        "from qiskit_experiments.library import StateTomography   # changed the import to qiskit_experiments\n",
        "from qiskit import transpile\n",
        "\n",
        "# ... (rest of your code) ...\n",
        "\n",
        "backend = AerSimulator()\n",
        "\n",
        "# Transpile the tomography circuits to the basis gates supported by the backend\n",
        "# This will replace PauliMeasZ with supported gates like measure and z gates.\n",
        "transpiled_tomo_circuits = [transpile(circ, backend) for circ in tomo_circuits]\n",
        "\n",
        "job = backend.run(transpiled_tomo_circuits)\n",
        "\n",
        "# ... (rest of your code) ...\n",
        "print(\"Mitigated counts:\", counts)  # changed mitigated_counts to counts"
      ],
      "metadata": {
        "colab": {
          "base_uri": "https://localhost:8080/"
        },
        "id": "Py93J3mli5FR",
        "outputId": "82ce3654-9b9c-48cc-e60e-be5f6e838865"
      },
      "execution_count": 38,
      "outputs": [
        {
          "output_type": "stream",
          "name": "stdout",
          "text": [
            "Mitigated counts: {'01': 4, '00': 3, '10': 5, '11': 988}\n"
          ]
        }
      ]
    },
    {
      "cell_type": "code",
      "execution_count": null,
      "metadata": {
        "id": "PpkLdy3i6LVD"
      },
      "outputs": [],
      "source": []
    },
    {
      "cell_type": "code",
      "source": [
        "from qiskit import QuantumCircuit, transpile, assemble\n",
        "from qiskit.visualization import plot_histogram\n",
        "import numpy as np\n",
        "\n",
        "# Define the oracle for |11> as the marked state\n",
        "oracle = QuantumCircuit(2)\n",
        "oracle.cz(0, 1)  # Apply controlled-Z gate\n",
        "oracle.to_gate()\n",
        "oracle.name = \"Oracle\"\n",
        "\n",
        "# Define the diffusion operator\n",
        "diffuser = QuantumCircuit(2)\n",
        "diffuser.h([0, 1])\n",
        "diffuser.x([0, 1])\n",
        "diffuser.h(1)\n",
        "diffuser.cx(0, 1)\n",
        "diffuser.h(1)\n",
        "diffuser.x([0, 1])\n",
        "diffuser.h([0, 1])\n",
        "diffuser.to_gate()\n",
        "diffuser.name = \"Diffuser\"\n",
        "\n",
        "# Grover's Algorithm Circuit\n",
        "grover = QuantumCircuit(2, 2)\n",
        "grover.h([0, 1])  # Apply Hadamard gates\n",
        "grover.append(oracle, [0, 1])\n",
        "grover.append(diffuser, [0, 1])\n",
        "grover.measure([0, 1], [0, 1])\n",
        "\n",
        "grover.draw('mpl')\n"
      ],
      "metadata": {
        "colab": {
          "base_uri": "https://localhost:8080/",
          "height": 255
        },
        "id": "n-uzfGdnrfCt",
        "outputId": "9ce4ee5d-3a0a-4a27-e697-ca4f39f842f7"
      },
      "execution_count": 39,
      "outputs": [
        {
          "output_type": "execute_result",
          "data": {
            "text/plain": [
              "<Figure size 705.35x284.278 with 1 Axes>"
            ],
            "image/png": "[encoded data removed]"
          },
          "metadata": {},
          "execution_count": 39
        }
      ]
    },
    {
      "cell_type": "code",
      "source": [
        "# from qiskit.providers.aer import AerSimulator\n",
        "# from qiskit.providers.aer.noise import NoiseModel, depolarizing_error\n",
        "\n",
        "# Create a noise model\n",
        "noise_model = NoiseModel()\n",
        "\n",
        "# Add depolarizing error for single-qubit gates\n",
        "p1 = 0.01  # Probability of depolarizing error\n",
        "p2 = 0.02  # Probability of depolarizing error for 2-qubit gates\n",
        "noise_model.add_all_qubit_quantum_error(depolarizing_error(p1, 1), ['h', 'x'])\n",
        "noise_model.add_all_qubit_quantum_error(depolarizing_error(p2, 2), ['cx'])\n",
        "\n",
        "# Simulate with noise\n",
        "simulator = AerSimulator(noise_model=noise_model)\n",
        "tqc = transpile(grover, simulator)\n",
        "job = simulator.run(tqc)\n",
        "result = job.result()\n",
        "counts_noisy = result.get_counts()\n",
        "\n",
        "plot_histogram(counts_noisy, title=\"Noisy Results\")\n"
      ],
      "metadata": {
        "colab": {
          "base_uri": "https://localhost:8080/",
          "height": 460
        },
        "id": "UJf_EX2IrfFI",
        "outputId": "8af00b4e-5493-4a8f-915f-00536f92cadc"
      },
      "execution_count": 40,
      "outputs": [
        {
          "output_type": "execute_result",
          "data": {
            "text/plain": [
              "<Figure size 640x480 with 1 Axes>"
            ],
            "image/png": "[encoded data removed]"
          },
          "metadata": {},
          "execution_count": 40
        }
      ]
    },
    {
      "cell_type": "code",
      "source": [
        "#  from qiskit.ignis.mitigation.measurement import complete_meas_cal, CompleteMeasFitter\n",
        "from qiskit_experiments.library import StateTomography   # changed the import to qiskit_experiments\n",
        "\n",
        "# Generate measurement calibration circuits\n",
        "# meas_calibs, state_labels = complete_meas_cal(qr=qr, circlabel='measerrormit')\n",
        "# changed to use the StateTomography class\n",
        "# which is the new way of setting up tomography experiments in Qiskit Experiments.\n",
        "\n",
        "# Prepare the tomography experiment\n",
        "# The StateTomography class allows you to specify the circuits needed for tomography\n",
        "# and provides tools for analyzing the results\n",
        "tomo_exp = StateTomography(grover) # grover contains circuit\n",
        "\n",
        "# Generate the tomography circuits\n",
        "tomo_circuits = tomo_exp.circuits()\n",
        "\n",
        "# Execute the tomography circuits\n",
        "# Note that in your original code, you were running the calibration circuits on a simulator\n",
        "# We can update that to use the Aer simulator as an example here\n",
        "\n",
        "backend = AerSimulator()\n",
        "job = backend.run(tomo_circuits)\n",
        "# compiled_circuit = transpile(shor_circuit, simulator)\n",
        "# result = simulator.run(compiled_circuit).result()\n",
        "# Get the results\n",
        "# result = backend.run(tomo_circuits).result()\n",
        "# Process the results to reconstruct the density matrix\n",
        "#tomo_results = tomo_exp.analysis.run(result)  # or result to directly analyze the results\n",
        "# Get the counts\n",
        "counts = result.get_counts()\n"
      ],
      "metadata": {
        "id": "MhI4daxnrfHm"
      },
      "execution_count": 41,
      "outputs": []
    },
    {
      "cell_type": "code",
      "source": [],
      "metadata": {
        "id": "NKQJhpqQrfPv"
      },
      "execution_count": null,
      "outputs": []
    },
    {
      "cell_type": "code",
      "source": [
        "import numpy as np\n",
        "from qiskit import QuantumCircuit\n",
        "from qiskit.circuit import Parameter\n",
        "\n",
        "# Define parameters for variational Grover\n",
        "theta = Parameter('θ')\n",
        "\n",
        "# Variational Grover circuit\n",
        "n = 3  # Number of qubits\n",
        "qc = QuantumCircuit(n)\n",
        "\n",
        "# Initial state\n",
        "qc.h(range(n))\n",
        "\n",
        "# Parameterized Oracle (Noise-Adaptive)\n",
        "qc.cz(0, 1)\n",
        "qc.rz(theta, 1)\n",
        "qc.cz(1, 2)\n",
        "\n",
        "# Diffusion Operator\n",
        "qc.h(range(n))\n",
        "qc.x(range(n))\n",
        "qc.h(n-1)\n",
        "qc.mcx(list(range(n-1)), n-1)\n",
        "qc.h(n-1)\n",
        "qc.x(range(n))\n",
        "qc.h(range(n))\n",
        "\n",
        "# Measurement\n",
        "qc.measure_all()\n",
        "\n",
        "# Simulate\n",
        "backend = AerSimulator()\n",
        "job = backend.run(qc)\n",
        "# result = job.result()\n",
        "counts = result.get_counts()\n",
        "\n",
        "# Execute\n",
        "job = backend.run(qc)\n",
        "# result = job.result()\n",
        "counts = result.get_counts()\n"
      ],
      "metadata": {
        "id": "NTNBjXo_rfSl"
      },
      "execution_count": 52,
      "outputs": []
    },
    {
      "cell_type": "code",
      "source": [
        "counts = result.get_counts()\n",
        "print(\"counts:\", counts)"
      ],
      "metadata": {
        "id": "fCmQU5Ag38a4",
        "outputId": "9daecdf4-23d4-4311-de8b-3ee3b86674f1",
        "colab": {
          "base_uri": "https://localhost:8080/"
        }
      },
      "execution_count": 55,
      "outputs": [
        {
          "output_type": "stream",
          "name": "stdout",
          "text": [
            "counts: {'00': 16, '10': 18, '01': 18, '11': 972}\n"
          ]
        }
      ]
    },
    {
      "cell_type": "code",
      "source": [
        "from qiskit import QuantumCircuit, transpile, assemble\n",
        "from qiskit.visualization import plot_histogram\n",
        "\n",
        "# Define the number of qubits\n",
        "n = 4\n",
        "qc = QuantumCircuit(n)\n",
        "\n",
        "# Step 1: Apply Hadamard to create a superposition\n",
        "qc.h(range(n))\n",
        "\n",
        "# Step 2: Define Oracle for |1010⟩ (decimal 10)\n",
        "oracle = QuantumCircuit(n)\n",
        "oracle.cz(1, 3)  # Controlled Z on qubits 1 and 3 (corresponding to 1010)\n",
        "qc.append(oracle.to_gate(label=\"Oracle\"), range(n))\n",
        "\n",
        "# Step 3: Grover Diffusion Operator\n",
        "qc.h(range(n))\n",
        "qc.x(range(n))\n",
        "qc.h(n-1)\n",
        "qc.mcx(list(range(n-1)), n-1)\n",
        "qc.h(n-1)\n",
        "qc.x(range(n))\n",
        "qc.h(range(n))\n",
        "\n",
        "# Step 4: Measure the qubits\n",
        "qc.measure_all()\n",
        "\n",
        "# Simulate\n",
        "backend = AerSimulator()\n",
        "job = backend.run(qc)\n",
        "# result = job.result.get_counts()\n",
        "counts = result.get_counts()\n",
        "\n",
        "# Output results\n",
        "plot_histogram(counts)\n",
        "print(counts)\n"
      ],
      "metadata": {
        "id": "EgQe_b--rfVf",
        "colab": {
          "base_uri": "https://localhost:8080/"
        },
        "outputId": "056a3474-8338-4a38-cd5d-2d954dba44b5"
      },
      "execution_count": 58,
      "outputs": [
        {
          "output_type": "stream",
          "name": "stdout",
          "text": [
            "{'00': 16, '10': 18, '01': 18, '11': 972}\n"
          ]
        }
      ]
    },
    {
      "cell_type": "code",
      "source": [],
      "metadata": {
        "id": "QntxTa4nrfYN"
      },
      "execution_count": null,
      "outputs": []
    },
    {
      "cell_type": "code",
      "source": [],
      "metadata": {
        "id": "GACzSKUAuhnw"
      },
      "execution_count": null,
      "outputs": []
    },
    {
      "cell_type": "code",
      "source": [],
      "metadata": {
        "id": "4pfm_jCpuhqU"
      },
      "execution_count": null,
      "outputs": []
    },
    {
      "cell_type": "code",
      "source": [],
      "metadata": {
        "id": "NN5TCoAsuhsm"
      },
      "execution_count": null,
      "outputs": []
    },
    {
      "cell_type": "code",
      "source": [],
      "metadata": {
        "id": "PatxKX0uuhvR"
      },
      "execution_count": null,
      "outputs": []
    },
    {
      "cell_type": "code",
      "source": [],
      "metadata": {
        "id": "lOTwBUQIuhyE"
      },
      "execution_count": null,
      "outputs": []
    },
    {
      "cell_type": "code",
      "source": [],
      "metadata": {
        "id": "tQlGKCYBuh1J"
      },
      "execution_count": null,
      "outputs": []
    },
    {
      "cell_type": "code",
      "source": [],
      "metadata": {
        "id": "_6SgyXxSuh4E"
      },
      "execution_count": null,
      "outputs": []
    },
    {
      "cell_type": "code",
      "source": [],
      "metadata": {
        "id": "vKzl6ThBuh6-"
      },
      "execution_count": null,
      "outputs": []
    },
    {
      "cell_type": "code",
      "source": [],
      "metadata": {
        "id": "sVIcE97Muh-q"
      },
      "execution_count": null,
      "outputs": []
    },
    {
      "cell_type": "code",
      "source": [],
      "metadata": {
        "id": "aas4LaOuuiBA"
      },
      "execution_count": null,
      "outputs": []
    },
    {
      "cell_type": "code",
      "source": [],
      "metadata": {
        "id": "Q_gVhSWZuiJU"
      },
      "execution_count": null,
      "outputs": []
    },
    {
      "cell_type": "code",
      "source": [],
      "metadata": {
        "id": "lg9htSkbuiND"
      },
      "execution_count": null,
      "outputs": []
    },
    {
      "cell_type": "code",
      "source": [],
      "metadata": {
        "id": "yhAqfbjMrfbU"
      },
      "execution_count": null,
      "outputs": []
    },
    {
      "cell_type": "markdown",
      "metadata": {
        "id": "hq43DZNV5rZS"
      },
      "source": [
        "**Fidelity is a measure of how similar two quantum states are. It ranges from 0 to 1, where:**\n",
        "\n",
        "Fidelity = 1 → The two states are identical (perfect match).\n",
        "\n",
        "\n",
        "0 < Fidelity < 1 → The two states are partially similar, with higher values meaning more similarity.\n",
        "\n",
        "\n",
        "Fidelity = 0 → The two states are completely different (orthogonal states)."
      ]
    },
    {
      "cell_type": "code",
      "execution_count": null,
      "metadata": {
        "id": "7zynwvumTVqM"
      },
      "outputs": [],
      "source": [
        "# fidelity to check whether the two states are"
      ]
    },
    {
      "cell_type": "code",
      "execution_count": null,
      "metadata": {
        "id": "fe5KdiBQ429J"
      },
      "outputs": [],
      "source": []
    },
    {
      "cell_type": "markdown",
      "metadata": {
        "id": "2jfa8qHLxvAB"
      },
      "source": [
        "QEC"
      ]
    },
    {
      "cell_type": "code",
      "execution_count": 24,
      "metadata": {
        "id": "DqRe53Pt42xo",
        "colab": {
          "base_uri": "https://localhost:8080/"
        },
        "outputId": "f9a42117-13c7-4e78-e027-344ef2de61a7"
      },
      "outputs": [
        {
          "output_type": "stream",
          "name": "stdout",
          "text": [
            "Collecting qiskit-experiments\n",
            "  Downloading qiskit_experiments-0.8.1-py3-none-any.whl.metadata (3.9 kB)\n",
            "Requirement already satisfied: numpy>=1.17 in /usr/local/lib/python3.11/dist-packages (from qiskit-experiments) (1.26.4)\n",
            "Requirement already satisfied: scipy>=1.4 in /usr/local/lib/python3.11/dist-packages (from qiskit-experiments) (1.13.1)\n",
            "Requirement already satisfied: qiskit>=0.45 in /usr/local/lib/python3.11/dist-packages (from qiskit-experiments) (1.4.0)\n",
            "Collecting qiskit-ibm-experiment>=0.4.6 (from qiskit-experiments)\n",
            "  Downloading qiskit_ibm_experiment-0.4.8-py3-none-any.whl.metadata (6.1 kB)\n",
            "Collecting qiskit-ibm-runtime>=0.29.0 (from qiskit-experiments)\n",
            "  Downloading qiskit_ibm_runtime-0.36.1-py3-none-any.whl.metadata (20 kB)\n",
            "Requirement already satisfied: matplotlib>=3.4 in /usr/local/lib/python3.11/dist-packages (from qiskit-experiments) (3.10.0)\n",
            "Collecting uncertainties (from qiskit-experiments)\n",
            "  Downloading uncertainties-3.2.2-py3-none-any.whl.metadata (6.9 kB)\n",
            "Collecting lmfit (from qiskit-experiments)\n",
            "  Downloading lmfit-1.3.2-py3-none-any.whl.metadata (13 kB)\n",
            "Requirement already satisfied: rustworkx in /usr/local/lib/python3.11/dist-packages (from qiskit-experiments) (0.16.0)\n",
            "Requirement already satisfied: pandas>=1.1.5 in /usr/local/lib/python3.11/dist-packages (from qiskit-experiments) (2.2.2)\n",
            "Requirement already satisfied: packaging in /usr/local/lib/python3.11/dist-packages (from qiskit-experiments) (24.2)\n",
            "Requirement already satisfied: contourpy>=1.0.1 in /usr/local/lib/python3.11/dist-packages (from matplotlib>=3.4->qiskit-experiments) (1.3.1)\n",
            "Requirement already satisfied: cycler>=0.10 in /usr/local/lib/python3.11/dist-packages (from matplotlib>=3.4->qiskit-experiments) (0.12.1)\n",
            "Requirement already satisfied: fonttools>=4.22.0 in /usr/local/lib/python3.11/dist-packages (from matplotlib>=3.4->qiskit-experiments) (4.56.0)\n",
            "Requirement already satisfied: kiwisolver>=1.3.1 in /usr/local/lib/python3.11/dist-packages (from matplotlib>=3.4->qiskit-experiments) (1.4.8)\n",
            "Requirement already satisfied: pillow>=8 in /usr/local/lib/python3.11/dist-packages (from matplotlib>=3.4->qiskit-experiments) (11.1.0)\n",
            "Requirement already satisfied: pyparsing>=2.3.1 in /usr/local/lib/python3.11/dist-packages (from matplotlib>=3.4->qiskit-experiments) (3.2.1)\n",
            "Requirement already satisfied: python-dateutil>=2.7 in /usr/local/lib/python3.11/dist-packages (from matplotlib>=3.4->qiskit-experiments) (2.8.2)\n",
            "Requirement already satisfied: pytz>=2020.1 in /usr/local/lib/python3.11/dist-packages (from pandas>=1.1.5->qiskit-experiments) (2025.1)\n",
            "Requirement already satisfied: tzdata>=2022.7 in /usr/local/lib/python3.11/dist-packages (from pandas>=1.1.5->qiskit-experiments) (2025.1)\n",
            "Requirement already satisfied: sympy>=1.3 in /usr/local/lib/python3.11/dist-packages (from qiskit>=0.45->qiskit-experiments) (1.13.1)\n",
            "Requirement already satisfied: dill>=0.3 in /usr/local/lib/python3.11/dist-packages (from qiskit>=0.45->qiskit-experiments) (0.3.9)\n",
            "Requirement already satisfied: stevedore>=3.0.0 in /usr/local/lib/python3.11/dist-packages (from qiskit>=0.45->qiskit-experiments) (5.4.1)\n",
            "Requirement already satisfied: typing-extensions in /usr/local/lib/python3.11/dist-packages (from qiskit>=0.45->qiskit-experiments) (4.12.2)\n",
            "Requirement already satisfied: symengine<0.14,>=0.11 in /usr/local/lib/python3.11/dist-packages (from qiskit>=0.45->qiskit-experiments) (0.13.0)\n",
            "Requirement already satisfied: requests>=2.19 in /usr/local/lib/python3.11/dist-packages (from qiskit-ibm-experiment>=0.4.6->qiskit-experiments) (2.32.3)\n",
            "Collecting requests-ntlm>=1.1.0 (from qiskit-ibm-experiment>=0.4.6->qiskit-experiments)\n",
            "  Downloading requests_ntlm-1.3.0-py3-none-any.whl.metadata (2.4 kB)\n",
            "Requirement already satisfied: urllib3>=1.21.1 in /usr/local/lib/python3.11/dist-packages (from qiskit-ibm-experiment>=0.4.6->qiskit-experiments) (2.3.0)\n",
            "Requirement already satisfied: websocket-client>=1.0.1 in /usr/local/lib/python3.11/dist-packages (from qiskit-ibm-experiment>=0.4.6->qiskit-experiments) (1.8.0)\n",
            "Requirement already satisfied: pyyaml>=6.0.0 in /usr/local/lib/python3.11/dist-packages (from qiskit-ibm-experiment>=0.4.6->qiskit-experiments) (6.0.2)\n",
            "Collecting ibm-platform-services>=0.22.6 (from qiskit-ibm-runtime>=0.29.0->qiskit-experiments)\n",
            "  Downloading ibm_platform_services-0.59.1-py3-none-any.whl.metadata (9.0 kB)\n",
            "Collecting pydantic<2.10,>=2.5.0 (from qiskit-ibm-runtime>=0.29.0->qiskit-experiments)\n",
            "  Downloading pydantic-2.9.2-py3-none-any.whl.metadata (149 kB)\n",
            "\u001b[2K     \u001b[90m━━━━━━━━━━━━━━━━━━━━━━━━━━━━━━━━━━━━━━━━\u001b[0m \u001b[32m149.4/149.4 kB\u001b[0m \u001b[31m10.9 MB/s\u001b[0m eta \u001b[36m0:00:00\u001b[0m\n",
            "\u001b[?25hCollecting asteval>=1.0 (from lmfit->qiskit-experiments)\n",
            "  Downloading asteval-1.0.6-py3-none-any.whl.metadata (6.2 kB)\n",
            "Collecting ibm_cloud_sdk_core<4.0.0,>=3.22.0 (from ibm-platform-services>=0.22.6->qiskit-ibm-runtime>=0.29.0->qiskit-experiments)\n",
            "  Downloading ibm_cloud_sdk_core-3.22.1-py3-none-any.whl.metadata (8.6 kB)\n",
            "Requirement already satisfied: annotated-types>=0.6.0 in /usr/local/lib/python3.11/dist-packages (from pydantic<2.10,>=2.5.0->qiskit-ibm-runtime>=0.29.0->qiskit-experiments) (0.7.0)\n",
            "Collecting pydantic-core==2.23.4 (from pydantic<2.10,>=2.5.0->qiskit-ibm-runtime>=0.29.0->qiskit-experiments)\n",
            "  Downloading pydantic_core-2.23.4-cp311-cp311-manylinux_2_17_x86_64.manylinux2014_x86_64.whl.metadata (6.6 kB)\n",
            "Requirement already satisfied: six>=1.5 in /usr/local/lib/python3.11/dist-packages (from python-dateutil>=2.7->matplotlib>=3.4->qiskit-experiments) (1.17.0)\n",
            "Requirement already satisfied: charset-normalizer<4,>=2 in /usr/local/lib/python3.11/dist-packages (from requests>=2.19->qiskit-ibm-experiment>=0.4.6->qiskit-experiments) (3.4.1)\n",
            "Requirement already satisfied: idna<4,>=2.5 in /usr/local/lib/python3.11/dist-packages (from requests>=2.19->qiskit-ibm-experiment>=0.4.6->qiskit-experiments) (3.10)\n",
            "Requirement already satisfied: certifi>=2017.4.17 in /usr/local/lib/python3.11/dist-packages (from requests>=2.19->qiskit-ibm-experiment>=0.4.6->qiskit-experiments) (2025.1.31)\n",
            "Requirement already satisfied: cryptography>=1.3 in /usr/local/lib/python3.11/dist-packages (from requests-ntlm>=1.1.0->qiskit-ibm-experiment>=0.4.6->qiskit-experiments) (43.0.3)\n",
            "Collecting pyspnego>=0.4.0 (from requests-ntlm>=1.1.0->qiskit-ibm-experiment>=0.4.6->qiskit-experiments)\n",
            "  Downloading pyspnego-0.11.2-py3-none-any.whl.metadata (5.4 kB)\n",
            "Requirement already satisfied: pbr>=2.0.0 in /usr/local/lib/python3.11/dist-packages (from stevedore>=3.0.0->qiskit>=0.45->qiskit-experiments) (6.1.1)\n",
            "Requirement already satisfied: mpmath<1.4,>=1.1.0 in /usr/local/lib/python3.11/dist-packages (from sympy>=1.3->qiskit>=0.45->qiskit-experiments) (1.3.0)\n",
            "Requirement already satisfied: cffi>=1.12 in /usr/local/lib/python3.11/dist-packages (from cryptography>=1.3->requests-ntlm>=1.1.0->qiskit-ibm-experiment>=0.4.6->qiskit-experiments) (1.17.1)\n",
            "Requirement already satisfied: PyJWT<3.0.0,>=2.8.0 in /usr/local/lib/python3.11/dist-packages (from ibm_cloud_sdk_core<4.0.0,>=3.22.0->ibm-platform-services>=0.22.6->qiskit-ibm-runtime>=0.29.0->qiskit-experiments) (2.10.1)\n",
            "Requirement already satisfied: setuptools in /usr/local/lib/python3.11/dist-packages (from pbr>=2.0.0->stevedore>=3.0.0->qiskit>=0.45->qiskit-experiments) (75.1.0)\n",
            "Requirement already satisfied: pycparser in /usr/local/lib/python3.11/dist-packages (from cffi>=1.12->cryptography>=1.3->requests-ntlm>=1.1.0->qiskit-ibm-experiment>=0.4.6->qiskit-experiments) (2.22)\n",
            "Downloading qiskit_experiments-0.8.1-py3-none-any.whl (753 kB)\n",
            "\u001b[2K   \u001b[90m━━━━━━━━━━━━━━━━━━━━━━━━━━━━━━━━━━━━━━━━\u001b[0m \u001b[32m753.8/753.8 kB\u001b[0m \u001b[31m28.4 MB/s\u001b[0m eta \u001b[36m0:00:00\u001b[0m\n",
            "\u001b[?25hDownloading qiskit_ibm_experiment-0.4.8-py3-none-any.whl (57 kB)\n",
            "\u001b[2K   \u001b[90m━━━━━━━━━━━━━━━━━━━━━━━━━━━━━━━━━━━━━━━━\u001b[0m \u001b[32m57.3/57.3 kB\u001b[0m \u001b[31m4.8 MB/s\u001b[0m eta \u001b[36m0:00:00\u001b[0m\n",
            "\u001b[?25hDownloading qiskit_ibm_runtime-0.36.1-py3-none-any.whl (3.1 MB)\n",
            "\u001b[2K   \u001b[90m━━━━━━━━━━━━━━━━━━━━━━━━━━━━━━━━━━━━━━━━\u001b[0m \u001b[32m3.1/3.1 MB\u001b[0m \u001b[31m49.2 MB/s\u001b[0m eta \u001b[36m0:00:00\u001b[0m\n",
            "\u001b[?25hDownloading lmfit-1.3.2-py3-none-any.whl (98 kB)\n",
            "\u001b[2K   \u001b[90m━━━━━━━━━━━━━━━━━━━━━━━━━━━━━━━━━━━━━━━━\u001b[0m \u001b[32m98.9/98.9 kB\u001b[0m \u001b[31m8.0 MB/s\u001b[0m eta \u001b[36m0:00:00\u001b[0m\n",
            "\u001b[?25hDownloading uncertainties-3.2.2-py3-none-any.whl (58 kB)\n",
            "\u001b[2K   \u001b[90m━━━━━━━━━━━━━━━━━━━━━━━━━━━━━━━━━━━━━━━━\u001b[0m \u001b[32m58.3/58.3 kB\u001b[0m \u001b[31m4.3 MB/s\u001b[0m eta \u001b[36m0:00:00\u001b[0m\n",
            "\u001b[?25hDownloading asteval-1.0.6-py3-none-any.whl (22 kB)\n",
            "Downloading ibm_platform_services-0.59.1-py3-none-any.whl (340 kB)\n",
            "\u001b[2K   \u001b[90m━━━━━━━━━━━━━━━━━━━━━━━━━━━━━━━━━━━━━━━━\u001b[0m \u001b[32m340.8/340.8 kB\u001b[0m \u001b[31m23.4 MB/s\u001b[0m eta \u001b[36m0:00:00\u001b[0m\n",
            "\u001b[?25hDownloading pydantic-2.9.2-py3-none-any.whl (434 kB)\n",
            "\u001b[2K   \u001b[90m━━━━━━━━━━━━━━━━━━━━━━━━━━━━━━━━━━━━━━━━\u001b[0m \u001b[32m434.9/434.9 kB\u001b[0m \u001b[31m31.5 MB/s\u001b[0m eta \u001b[36m0:00:00\u001b[0m\n",
            "\u001b[?25hDownloading pydantic_core-2.23.4-cp311-cp311-manylinux_2_17_x86_64.manylinux2014_x86_64.whl (2.1 MB)\n",
            "\u001b[2K   \u001b[90m━━━━━━━━━━━━━━━━━━━━━━━━━━━━━━━━━━━━━━━━\u001b[0m \u001b[32m2.1/2.1 MB\u001b[0m \u001b[31m69.7 MB/s\u001b[0m eta \u001b[36m0:00:00\u001b[0m\n",
            "\u001b[?25hDownloading requests_ntlm-1.3.0-py3-none-any.whl (6.6 kB)\n",
            "Downloading ibm_cloud_sdk_core-3.22.1-py3-none-any.whl (69 kB)\n",
            "\u001b[2K   \u001b[90m━━━━━━━━━━━━━━━━━━━━━━━━━━━━━━━━━━━━━━━━\u001b[0m \u001b[32m69.4/69.4 kB\u001b[0m \u001b[31m5.0 MB/s\u001b[0m eta \u001b[36m0:00:00\u001b[0m\n",
            "\u001b[?25hDownloading pyspnego-0.11.2-py3-none-any.whl (130 kB)\n",
            "\u001b[2K   \u001b[90m━━━━━━━━━━━━━━━━━━━━━━━━━━━━━━━━━━━━━━━━\u001b[0m \u001b[32m130.5/130.5 kB\u001b[0m \u001b[31m10.5 MB/s\u001b[0m eta \u001b[36m0:00:00\u001b[0m\n",
            "\u001b[?25hInstalling collected packages: uncertainties, pydantic-core, asteval, pydantic, lmfit, ibm_cloud_sdk_core, pyspnego, ibm-platform-services, requests-ntlm, qiskit-ibm-runtime, qiskit-ibm-experiment, qiskit-experiments\n",
            "  Attempting uninstall: pydantic-core\n",
            "    Found existing installation: pydantic_core 2.27.2\n",
            "    Uninstalling pydantic_core-2.27.2:\n",
            "      Successfully uninstalled pydantic_core-2.27.2\n",
            "  Attempting uninstall: pydantic\n",
            "    Found existing installation: pydantic 2.10.6\n",
            "    Uninstalling pydantic-2.10.6:\n",
            "      Successfully uninstalled pydantic-2.10.6\n",
            "Successfully installed asteval-1.0.6 ibm-platform-services-0.59.1 ibm_cloud_sdk_core-3.22.1 lmfit-1.3.2 pydantic-2.9.2 pydantic-core-2.23.4 pyspnego-0.11.2 qiskit-experiments-0.8.1 qiskit-ibm-experiment-0.4.8 qiskit-ibm-runtime-0.36.1 requests-ntlm-1.3.0 uncertainties-3.2.2\n"
          ]
        }
      ],
      "source": []
    },
    {
      "cell_type": "code",
      "execution_count": null,
      "metadata": {
        "id": "z-HQkjYd40-v"
      },
      "outputs": [],
      "source": []
    },
    {
      "cell_type": "code",
      "execution_count": null,
      "metadata": {
        "id": "RtY9PreHTVtN"
      },
      "outputs": [],
      "source": []
    },
    {
      "cell_type": "code",
      "execution_count": null,
      "metadata": {
        "id": "deapSiQSTVv8"
      },
      "outputs": [],
      "source": []
    },
    {
      "cell_type": "code",
      "execution_count": null,
      "metadata": {
        "id": "2Q4plEFdoJjr"
      },
      "outputs": [],
      "source": []
    },
    {
      "cell_type": "code",
      "execution_count": null,
      "metadata": {
        "id": "5eVfN2YWoJmf"
      },
      "outputs": [],
      "source": []
    },
    {
      "cell_type": "code",
      "execution_count": null,
      "metadata": {
        "id": "wb6u_cSGoJpG"
      },
      "outputs": [],
      "source": []
    },
    {
      "cell_type": "code",
      "execution_count": null,
      "metadata": {
        "id": "9sPVvkAmoJsS"
      },
      "outputs": [],
      "source": []
    },
    {
      "cell_type": "code",
      "execution_count": null,
      "metadata": {
        "id": "e7d_1xjaoJu5"
      },
      "outputs": [],
      "source": []
    },
    {
      "cell_type": "code",
      "execution_count": null,
      "metadata": {
        "id": "d-G_2Ti7oJxx"
      },
      "outputs": [],
      "source": []
    },
    {
      "cell_type": "code",
      "execution_count": null,
      "metadata": {
        "id": "01FwmhSuoJ0z"
      },
      "outputs": [],
      "source": []
    },
    {
      "cell_type": "code",
      "execution_count": null,
      "metadata": {
        "id": "XCCS0eyXoJ3L"
      },
      "outputs": [],
      "source": []
    },
    {
      "cell_type": "code",
      "execution_count": null,
      "metadata": {
        "id": "xQzuoHkPoJ5I"
      },
      "outputs": [],
      "source": []
    },
    {
      "cell_type": "code",
      "execution_count": null,
      "metadata": {
        "id": "nlvEd_tioJ7J"
      },
      "outputs": [],
      "source": []
    },
    {
      "cell_type": "code",
      "execution_count": null,
      "metadata": {
        "id": "6HUmjvi7oJ9S"
      },
      "outputs": [],
      "source": []
    },
    {
      "cell_type": "code",
      "execution_count": null,
      "metadata": {
        "id": "BTe0GigdoJ_B"
      },
      "outputs": [],
      "source": []
    },
    {
      "cell_type": "code",
      "execution_count": null,
      "metadata": {
        "id": "E0_ONi6MoKBK"
      },
      "outputs": [],
      "source": []
    },
    {
      "cell_type": "code",
      "execution_count": null,
      "metadata": {
        "id": "yhetyqZUoKDa"
      },
      "outputs": [],
      "source": []
    },
    {
      "cell_type": "code",
      "execution_count": null,
      "metadata": {
        "id": "sTpbsL4OoKFe"
      },
      "outputs": [],
      "source": []
    },
    {
      "cell_type": "code",
      "execution_count": 25,
      "metadata": {
        "colab": {
          "base_uri": "https://localhost:8080/"
        },
        "id": "-C2APyyrTVzJ",
        "outputId": "fb716bce-2e4a-4263-9160-e947148383bd"
      },
      "outputs": [
        {
          "output_type": "stream",
          "name": "stdout",
          "text": [
            "Requirement already satisfied: qiskit-ibm-runtime in /usr/local/lib/python3.11/dist-packages (0.36.1)\n",
            "Requirement already satisfied: requests>=2.19 in /usr/local/lib/python3.11/dist-packages (from qiskit-ibm-runtime) (2.32.3)\n",
            "Requirement already satisfied: requests-ntlm>=1.1.0 in /usr/local/lib/python3.11/dist-packages (from qiskit-ibm-runtime) (1.3.0)\n",
            "Requirement already satisfied: numpy>=1.13 in /usr/local/lib/python3.11/dist-packages (from qiskit-ibm-runtime) (1.26.4)\n",
            "Requirement already satisfied: urllib3>=1.21.1 in /usr/local/lib/python3.11/dist-packages (from qiskit-ibm-runtime) (2.3.0)\n",
            "Requirement already satisfied: python-dateutil>=2.8.0 in /usr/local/lib/python3.11/dist-packages (from qiskit-ibm-runtime) (2.8.2)\n",
            "Requirement already satisfied: websocket-client>=1.5.1 in /usr/local/lib/python3.11/dist-packages (from qiskit-ibm-runtime) (1.8.0)\n",
            "Requirement already satisfied: ibm-platform-services>=0.22.6 in /usr/local/lib/python3.11/dist-packages (from qiskit-ibm-runtime) (0.59.1)\n",
            "Requirement already satisfied: pydantic<2.10,>=2.5.0 in /usr/local/lib/python3.11/dist-packages (from qiskit-ibm-runtime) (2.9.2)\n",
            "Requirement already satisfied: qiskit>=1.3.2 in /usr/local/lib/python3.11/dist-packages (from qiskit-ibm-runtime) (1.4.0)\n",
            "Requirement already satisfied: ibm_cloud_sdk_core<4.0.0,>=3.22.0 in /usr/local/lib/python3.11/dist-packages (from ibm-platform-services>=0.22.6->qiskit-ibm-runtime) (3.22.1)\n",
            "Requirement already satisfied: annotated-types>=0.6.0 in /usr/local/lib/python3.11/dist-packages (from pydantic<2.10,>=2.5.0->qiskit-ibm-runtime) (0.7.0)\n",
            "Requirement already satisfied: pydantic-core==2.23.4 in /usr/local/lib/python3.11/dist-packages (from pydantic<2.10,>=2.5.0->qiskit-ibm-runtime) (2.23.4)\n",
            "Requirement already satisfied: typing-extensions>=4.6.1 in /usr/local/lib/python3.11/dist-packages (from pydantic<2.10,>=2.5.0->qiskit-ibm-runtime) (4.12.2)\n",
            "Requirement already satisfied: six>=1.5 in /usr/local/lib/python3.11/dist-packages (from python-dateutil>=2.8.0->qiskit-ibm-runtime) (1.17.0)\n",
            "Requirement already satisfied: rustworkx>=0.15.0 in /usr/local/lib/python3.11/dist-packages (from qiskit>=1.3.2->qiskit-ibm-runtime) (0.16.0)\n",
            "Requirement already satisfied: scipy>=1.5 in /usr/local/lib/python3.11/dist-packages (from qiskit>=1.3.2->qiskit-ibm-runtime) (1.13.1)\n",
            "Requirement already satisfied: sympy>=1.3 in /usr/local/lib/python3.11/dist-packages (from qiskit>=1.3.2->qiskit-ibm-runtime) (1.13.1)\n",
            "Requirement already satisfied: dill>=0.3 in /usr/local/lib/python3.11/dist-packages (from qiskit>=1.3.2->qiskit-ibm-runtime) (0.3.9)\n",
            "Requirement already satisfied: stevedore>=3.0.0 in /usr/local/lib/python3.11/dist-packages (from qiskit>=1.3.2->qiskit-ibm-runtime) (5.4.1)\n",
            "Requirement already satisfied: symengine<0.14,>=0.11 in /usr/local/lib/python3.11/dist-packages (from qiskit>=1.3.2->qiskit-ibm-runtime) (0.13.0)\n",
            "Requirement already satisfied: charset-normalizer<4,>=2 in /usr/local/lib/python3.11/dist-packages (from requests>=2.19->qiskit-ibm-runtime) (3.4.1)\n",
            "Requirement already satisfied: idna<4,>=2.5 in /usr/local/lib/python3.11/dist-packages (from requests>=2.19->qiskit-ibm-runtime) (3.10)\n",
            "Requirement already satisfied: certifi>=2017.4.17 in /usr/local/lib/python3.11/dist-packages (from requests>=2.19->qiskit-ibm-runtime) (2025.1.31)\n",
            "Requirement already satisfied: cryptography>=1.3 in /usr/local/lib/python3.11/dist-packages (from requests-ntlm>=1.1.0->qiskit-ibm-runtime) (43.0.3)\n",
            "Requirement already satisfied: pyspnego>=0.4.0 in /usr/local/lib/python3.11/dist-packages (from requests-ntlm>=1.1.0->qiskit-ibm-runtime) (0.11.2)\n",
            "Requirement already satisfied: cffi>=1.12 in /usr/local/lib/python3.11/dist-packages (from cryptography>=1.3->requests-ntlm>=1.1.0->qiskit-ibm-runtime) (1.17.1)\n",
            "Requirement already satisfied: PyJWT<3.0.0,>=2.8.0 in /usr/local/lib/python3.11/dist-packages (from ibm_cloud_sdk_core<4.0.0,>=3.22.0->ibm-platform-services>=0.22.6->qiskit-ibm-runtime) (2.10.1)\n",
            "Requirement already satisfied: pbr>=2.0.0 in /usr/local/lib/python3.11/dist-packages (from stevedore>=3.0.0->qiskit>=1.3.2->qiskit-ibm-runtime) (6.1.1)\n",
            "Requirement already satisfied: mpmath<1.4,>=1.1.0 in /usr/local/lib/python3.11/dist-packages (from sympy>=1.3->qiskit>=1.3.2->qiskit-ibm-runtime) (1.3.0)\n",
            "Requirement already satisfied: pycparser in /usr/local/lib/python3.11/dist-packages (from cffi>=1.12->cryptography>=1.3->requests-ntlm>=1.1.0->qiskit-ibm-runtime) (2.22)\n",
            "Requirement already satisfied: setuptools in /usr/local/lib/python3.11/dist-packages (from pbr>=2.0.0->stevedore>=3.0.0->qiskit>=1.3.2->qiskit-ibm-runtime) (75.1.0)\n"
          ]
        }
      ],
      "source": []
    },
    {
      "cell_type": "code",
      "execution_count": null,
      "metadata": {
        "colab": {
          "base_uri": "https://localhost:8080/"
        },
        "id": "CrKpgdGKAwaI",
        "outputId": "90613470-c807-4a6a-ca1d-5f26b08e8ad2"
      },
      "outputs": [
        {
          "name": "stdout",
          "output_type": "stream",
          "text": [
            "1.3.2\n"
          ]
        }
      ],
      "source": [
        "import qiskit\n",
        "print(qiskit.__version__)\n"
      ]
    },
    {
      "cell_type": "code",
      "execution_count": null,
      "metadata": {
        "colab": {
          "base_uri": "https://localhost:8080/"
        },
        "id": "2zk-w6w8ytKs",
        "outputId": "f3022ca8-f780-413d-ebaf-4452ef7fe4a5"
      },
      "outputs": [
        {
          "name": "stdout",
          "output_type": "stream",
          "text": [
            "Requirement already satisfied: qiskit in /usr/local/lib/python3.10/dist-packages (1.3.2)\n",
            "Requirement already satisfied: rustworkx>=0.15.0 in /usr/local/lib/python3.10/dist-packages (from qiskit) (0.15.1)\n",
            "Requirement already satisfied: numpy<3,>=1.17 in /usr/local/lib/python3.10/dist-packages (from qiskit) (1.26.4)\n",
            "Requirement already satisfied: scipy>=1.5 in /usr/local/lib/python3.10/dist-packages (from qiskit) (1.13.1)\n",
            "Requirement already satisfied: sympy>=1.3 in /usr/local/lib/python3.10/dist-packages (from qiskit) (1.13.1)\n",
            "Requirement already satisfied: dill>=0.3 in /usr/local/lib/python3.10/dist-packages (from qiskit) (0.3.9)\n",
            "Requirement already satisfied: python-dateutil>=2.8.0 in /usr/local/lib/python3.10/dist-packages (from qiskit) (2.8.2)\n",
            "Requirement already satisfied: stevedore>=3.0.0 in /usr/local/lib/python3.10/dist-packages (from qiskit) (5.4.0)\n",
            "Requirement already satisfied: typing-extensions in /usr/local/lib/python3.10/dist-packages (from qiskit) (4.12.2)\n",
            "Requirement already satisfied: symengine<0.14,>=0.11 in /usr/local/lib/python3.10/dist-packages (from qiskit) (0.13.0)\n",
            "Requirement already satisfied: six>=1.5 in /usr/local/lib/python3.10/dist-packages (from python-dateutil>=2.8.0->qiskit) (1.17.0)\n",
            "Requirement already satisfied: pbr>=2.0.0 in /usr/local/lib/python3.10/dist-packages (from stevedore>=3.0.0->qiskit) (6.1.0)\n",
            "Requirement already satisfied: mpmath<1.4,>=1.1.0 in /usr/local/lib/python3.10/dist-packages (from sympy>=1.3->qiskit) (1.3.0)\n"
          ]
        }
      ],
      "source": [
        "!pip install qiskit --upgrade\n"
      ]
    },
    {
      "cell_type": "code",
      "execution_count": null,
      "metadata": {
        "id": "2mH7ZsYU0KhK"
      },
      "outputs": [],
      "source": []
    }
  ],
  "metadata": {
    "colab": {
      "provenance": []
    },
    "kernelspec": {
      "display_name": "Python 3",
      "name": "python3"
    },
    "language_info": {
      "name": "python"
    }
  },
  "nbformat": 4,
  "nbformat_minor": 0
}